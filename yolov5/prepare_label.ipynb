{
 "metadata": {
  "language_info": {
   "codemirror_mode": {
    "name": "ipython",
    "version": 3
   },
   "file_extension": ".py",
   "mimetype": "text/x-python",
   "name": "python",
   "nbconvert_exporter": "python",
   "pygments_lexer": "ipython3",
   "version": "3.8.2"
  },
  "orig_nbformat": 2,
  "kernelspec": {
   "name": "python382jvsc74a57bd031f2aee4e71d21fbe5cf8b01ff0e069b9275f58929596ceb00d14d90e3e16cd6",
   "display_name": "Python 3.8.2 64-bit"
  },
  "metadata": {
   "interpreter": {
    "hash": "9bf2e78d380cf0be2323b4f84d6d82258c501559303281de98c4fd3af8455ead"
   }
  }
 },
 "nbformat": 4,
 "nbformat_minor": 2,
 "cells": [
  {
   "cell_type": "code",
   "execution_count": 1,
   "metadata": {},
   "outputs": [],
   "source": [
    "import pandas as pd \n",
    "import random\n",
    "import numpy as np "
   ]
  },
  {
   "cell_type": "code",
   "execution_count": 4,
   "metadata": {},
   "outputs": [
    {
     "output_type": "execute_result",
     "data": {
      "text/plain": [
       "   SliceIndex                                               Bbox  \\\n",
       "0           3  [154.39346367564397, 156.2300149527727, 63.814...   \n",
       "1           4  [156.63331754848957, 178.49881788556516, 46.00...   \n",
       "2           4  [148.79579153229275, 153.6374763449819, 77.364...   \n",
       "3           5  [151.63636935938857, 179.06321879095267, 56.57...   \n",
       "4           5  [144.0751101398004, 151.45225823234563, 88.791...   \n",
       "\n",
       "              Tag  LesionIndex  \\\n",
       "0  Cerebral edema            1   \n",
       "1     Mass_Nodule            0   \n",
       "2  Cerebral edema            1   \n",
       "3     Mass_Nodule            0   \n",
       "4  Cerebral edema            1   \n",
       "\n",
       "                                       DicomFileName  \\\n",
       "0  1.2.840.113619.2.388.57473.14165493.11868.1594...   \n",
       "1  1.2.840.113619.2.388.57473.14165493.11868.1594...   \n",
       "2  1.2.840.113619.2.388.57473.14165493.11868.1594...   \n",
       "3  1.2.840.113619.2.388.57473.14165493.11868.1594...   \n",
       "4  1.2.840.113619.2.388.57473.14165493.11868.1594...   \n",
       "\n",
       "                                 SeriesInstanceUID_x  \\\n",
       "0  1.2.840.113619.2.388.57473.14165493.12597.1594...   \n",
       "1  1.2.840.113619.2.388.57473.14165493.12597.1594...   \n",
       "2  1.2.840.113619.2.388.57473.14165493.12597.1594...   \n",
       "3  1.2.840.113619.2.388.57473.14165493.12597.1594...   \n",
       "4  1.2.840.113619.2.388.57473.14165493.12597.1594...   \n",
       "\n",
       "                                  StudyInstanceUID_x  SeriesNumberInstances  \\\n",
       "0  1.2.840.113619.6.388.2996441153849079869477172...                     20   \n",
       "1  1.2.840.113619.6.388.2996441153849079869477172...                     20   \n",
       "2  1.2.840.113619.6.388.2996441153849079869477172...                     20   \n",
       "3  1.2.840.113619.6.388.2996441153849079869477172...                     20   \n",
       "4  1.2.840.113619.6.388.2996441153849079869477172...                     20   \n",
       "\n",
       "  SeriesPlane SeriesLabelMerge  \\\n",
       "0       axial            flair   \n",
       "1       axial            flair   \n",
       "2       axial            flair   \n",
       "3       axial            flair   \n",
       "4       axial            flair   \n",
       "\n",
       "                                  StudyInstanceUID_y  \\\n",
       "0  1.2.840.113619.6.388.2996441153849079869477172...   \n",
       "1  1.2.840.113619.6.388.2996441153849079869477172...   \n",
       "2  1.2.840.113619.6.388.2996441153849079869477172...   \n",
       "3  1.2.840.113619.6.388.2996441153849079869477172...   \n",
       "4  1.2.840.113619.6.388.2996441153849079869477172...   \n",
       "\n",
       "                                 SeriesInstanceUID_y SeriesDescription Rows  \\\n",
       "0  1.2.840.113619.2.388.57473.14165493.12597.1594...       Ax T2 FLAIR  512   \n",
       "1  1.2.840.113619.2.388.57473.14165493.12597.1594...       Ax T2 FLAIR  512   \n",
       "2  1.2.840.113619.2.388.57473.14165493.12597.1594...       Ax T2 FLAIR  512   \n",
       "3  1.2.840.113619.2.388.57473.14165493.12597.1594...       Ax T2 FLAIR  512   \n",
       "4  1.2.840.113619.2.388.57473.14165493.12597.1594...       Ax T2 FLAIR  512   \n",
       "\n",
       "  Columns SliceThickness      PixelSpacing SpacingBetweenSlices SliceLocation  \\\n",
       "0     512            6.0  [0.5078, 0.5078]                  7.0         15.75   \n",
       "1     512            6.0  [0.5078, 0.5078]                  7.0         22.75   \n",
       "2     512            6.0  [0.5078, 0.5078]                  7.0         22.75   \n",
       "3     512            6.0  [0.5078, 0.5078]                  7.0         29.75   \n",
       "4     512            6.0  [0.5078, 0.5078]                  7.0         29.75   \n",
       "\n",
       "  SmallestImagePixelValue LargestImagePixelValue WindowCenter WindowWidth  \\\n",
       "0                       0                   2015       1007.0      2015.0   \n",
       "1                       0                   2102       1051.0      2102.0   \n",
       "2                       0                   2102       1051.0      2102.0   \n",
       "3                       0                   2015       1007.0      2015.0   \n",
       "4                       0                   2015       1007.0      2015.0   \n",
       "\n",
       "            ImagePositionPatient  \\\n",
       "0  [-129.097, -115.949, 15.5563]   \n",
       "1  [-129.104, -115.953, 22.5563]   \n",
       "2  [-129.104, -115.953, 22.5563]   \n",
       "3   [-129.11, -115.957, 29.5563]   \n",
       "4   [-129.11, -115.957, 29.5563]   \n",
       "\n",
       "                             ImageOrientationPatient RepetitionTime EchoTime  \\\n",
       "0  [0.999989, 0.00467001, 0.000909002, -0.0046706...         8155.0   77.064   \n",
       "1  [0.999989, 0.00467001, 0.000908998, -0.0046706...         8155.0   77.064   \n",
       "2  [0.999989, 0.00467001, 0.000908998, -0.0046706...         8155.0   77.064   \n",
       "3  [0.999989, 0.00467001, 0.000908998, -0.0046706...         8155.0   77.064   \n",
       "4  [0.999989, 0.00467001, 0.000908998, -0.0046706...         8155.0   77.064   \n",
       "\n",
       "  PatientPosition  \n",
       "0             HFS  \n",
       "1             HFS  \n",
       "2             HFS  \n",
       "3             HFS  \n",
       "4             HFS  "
      ],
      "text/html": "<div>\n<style scoped>\n    .dataframe tbody tr th:only-of-type {\n        vertical-align: middle;\n    }\n\n    .dataframe tbody tr th {\n        vertical-align: top;\n    }\n\n    .dataframe thead th {\n        text-align: right;\n    }\n</style>\n<table border=\"1\" class=\"dataframe\">\n  <thead>\n    <tr style=\"text-align: right;\">\n      <th></th>\n      <th>SliceIndex</th>\n      <th>Bbox</th>\n      <th>Tag</th>\n      <th>LesionIndex</th>\n      <th>DicomFileName</th>\n      <th>SeriesInstanceUID_x</th>\n      <th>StudyInstanceUID_x</th>\n      <th>SeriesNumberInstances</th>\n      <th>SeriesPlane</th>\n      <th>SeriesLabelMerge</th>\n      <th>StudyInstanceUID_y</th>\n      <th>SeriesInstanceUID_y</th>\n      <th>SeriesDescription</th>\n      <th>Rows</th>\n      <th>Columns</th>\n      <th>SliceThickness</th>\n      <th>PixelSpacing</th>\n      <th>SpacingBetweenSlices</th>\n      <th>SliceLocation</th>\n      <th>SmallestImagePixelValue</th>\n      <th>LargestImagePixelValue</th>\n      <th>WindowCenter</th>\n      <th>WindowWidth</th>\n      <th>ImagePositionPatient</th>\n      <th>ImageOrientationPatient</th>\n      <th>RepetitionTime</th>\n      <th>EchoTime</th>\n      <th>PatientPosition</th>\n    </tr>\n  </thead>\n  <tbody>\n    <tr>\n      <th>0</th>\n      <td>3</td>\n      <td>[154.39346367564397, 156.2300149527727, 63.814...</td>\n      <td>Cerebral edema</td>\n      <td>1</td>\n      <td>1.2.840.113619.2.388.57473.14165493.11868.1594...</td>\n      <td>1.2.840.113619.2.388.57473.14165493.12597.1594...</td>\n      <td>1.2.840.113619.6.388.2996441153849079869477172...</td>\n      <td>20</td>\n      <td>axial</td>\n      <td>flair</td>\n      <td>1.2.840.113619.6.388.2996441153849079869477172...</td>\n      <td>1.2.840.113619.2.388.57473.14165493.12597.1594...</td>\n      <td>Ax T2 FLAIR</td>\n      <td>512</td>\n      <td>512</td>\n      <td>6.0</td>\n      <td>[0.5078, 0.5078]</td>\n      <td>7.0</td>\n      <td>15.75</td>\n      <td>0</td>\n      <td>2015</td>\n      <td>1007.0</td>\n      <td>2015.0</td>\n      <td>[-129.097, -115.949, 15.5563]</td>\n      <td>[0.999989, 0.00467001, 0.000909002, -0.0046706...</td>\n      <td>8155.0</td>\n      <td>77.064</td>\n      <td>HFS</td>\n    </tr>\n    <tr>\n      <th>1</th>\n      <td>4</td>\n      <td>[156.63331754848957, 178.49881788556516, 46.00...</td>\n      <td>Mass_Nodule</td>\n      <td>0</td>\n      <td>1.2.840.113619.2.388.57473.14165493.11868.1594...</td>\n      <td>1.2.840.113619.2.388.57473.14165493.12597.1594...</td>\n      <td>1.2.840.113619.6.388.2996441153849079869477172...</td>\n      <td>20</td>\n      <td>axial</td>\n      <td>flair</td>\n      <td>1.2.840.113619.6.388.2996441153849079869477172...</td>\n      <td>1.2.840.113619.2.388.57473.14165493.12597.1594...</td>\n      <td>Ax T2 FLAIR</td>\n      <td>512</td>\n      <td>512</td>\n      <td>6.0</td>\n      <td>[0.5078, 0.5078]</td>\n      <td>7.0</td>\n      <td>22.75</td>\n      <td>0</td>\n      <td>2102</td>\n      <td>1051.0</td>\n      <td>2102.0</td>\n      <td>[-129.104, -115.953, 22.5563]</td>\n      <td>[0.999989, 0.00467001, 0.000908998, -0.0046706...</td>\n      <td>8155.0</td>\n      <td>77.064</td>\n      <td>HFS</td>\n    </tr>\n    <tr>\n      <th>2</th>\n      <td>4</td>\n      <td>[148.79579153229275, 153.6374763449819, 77.364...</td>\n      <td>Cerebral edema</td>\n      <td>1</td>\n      <td>1.2.840.113619.2.388.57473.14165493.11868.1594...</td>\n      <td>1.2.840.113619.2.388.57473.14165493.12597.1594...</td>\n      <td>1.2.840.113619.6.388.2996441153849079869477172...</td>\n      <td>20</td>\n      <td>axial</td>\n      <td>flair</td>\n      <td>1.2.840.113619.6.388.2996441153849079869477172...</td>\n      <td>1.2.840.113619.2.388.57473.14165493.12597.1594...</td>\n      <td>Ax T2 FLAIR</td>\n      <td>512</td>\n      <td>512</td>\n      <td>6.0</td>\n      <td>[0.5078, 0.5078]</td>\n      <td>7.0</td>\n      <td>22.75</td>\n      <td>0</td>\n      <td>2102</td>\n      <td>1051.0</td>\n      <td>2102.0</td>\n      <td>[-129.104, -115.953, 22.5563]</td>\n      <td>[0.999989, 0.00467001, 0.000908998, -0.0046706...</td>\n      <td>8155.0</td>\n      <td>77.064</td>\n      <td>HFS</td>\n    </tr>\n    <tr>\n      <th>3</th>\n      <td>5</td>\n      <td>[151.63636935938857, 179.06321879095267, 56.57...</td>\n      <td>Mass_Nodule</td>\n      <td>0</td>\n      <td>1.2.840.113619.2.388.57473.14165493.11868.1594...</td>\n      <td>1.2.840.113619.2.388.57473.14165493.12597.1594...</td>\n      <td>1.2.840.113619.6.388.2996441153849079869477172...</td>\n      <td>20</td>\n      <td>axial</td>\n      <td>flair</td>\n      <td>1.2.840.113619.6.388.2996441153849079869477172...</td>\n      <td>1.2.840.113619.2.388.57473.14165493.12597.1594...</td>\n      <td>Ax T2 FLAIR</td>\n      <td>512</td>\n      <td>512</td>\n      <td>6.0</td>\n      <td>[0.5078, 0.5078]</td>\n      <td>7.0</td>\n      <td>29.75</td>\n      <td>0</td>\n      <td>2015</td>\n      <td>1007.0</td>\n      <td>2015.0</td>\n      <td>[-129.11, -115.957, 29.5563]</td>\n      <td>[0.999989, 0.00467001, 0.000908998, -0.0046706...</td>\n      <td>8155.0</td>\n      <td>77.064</td>\n      <td>HFS</td>\n    </tr>\n    <tr>\n      <th>4</th>\n      <td>5</td>\n      <td>[144.0751101398004, 151.45225823234563, 88.791...</td>\n      <td>Cerebral edema</td>\n      <td>1</td>\n      <td>1.2.840.113619.2.388.57473.14165493.11868.1594...</td>\n      <td>1.2.840.113619.2.388.57473.14165493.12597.1594...</td>\n      <td>1.2.840.113619.6.388.2996441153849079869477172...</td>\n      <td>20</td>\n      <td>axial</td>\n      <td>flair</td>\n      <td>1.2.840.113619.6.388.2996441153849079869477172...</td>\n      <td>1.2.840.113619.2.388.57473.14165493.12597.1594...</td>\n      <td>Ax T2 FLAIR</td>\n      <td>512</td>\n      <td>512</td>\n      <td>6.0</td>\n      <td>[0.5078, 0.5078]</td>\n      <td>7.0</td>\n      <td>29.75</td>\n      <td>0</td>\n      <td>2015</td>\n      <td>1007.0</td>\n      <td>2015.0</td>\n      <td>[-129.11, -115.957, 29.5563]</td>\n      <td>[0.999989, 0.00467001, 0.000908998, -0.0046706...</td>\n      <td>8155.0</td>\n      <td>77.064</td>\n      <td>HFS</td>\n    </tr>\n  </tbody>\n</table>\n</div>"
     },
     "metadata": {},
     "execution_count": 4
    }
   ],
   "source": [
    "df = pd.read_pickle(\"dataset.pkl\")\n",
    "pd.set_option('display.max_columns', 500)\n",
    "df = df[(df.Tag == \"Mass_Nodule\") | (df.Tag == \"Cerebral edema\")]\n",
    "df.head()"
   ]
  },
  {
   "cell_type": "code",
   "execution_count": 5,
   "metadata": {},
   "outputs": [
    {
     "output_type": "stream",
     "name": "stdout",
     "text": [
      "124\n2220\n"
     ]
    }
   ],
   "source": [
    "studyuid = df[\"StudyInstanceUID_x\"].unique()\n",
    "print(len(studyuid))\n",
    "filename = df[\"DicomFileName\"].unique()\n",
    "print(len(filename))"
   ]
  },
  {
   "cell_type": "code",
   "execution_count": 6,
   "metadata": {},
   "outputs": [],
   "source": [
    "removestudyuid = [\"1.2.840.113619.6.410.72018269195702828501937209391299217744\",\n",
    "\"1.2.840.113619.6.410.259258635306824730503101825579777267348\",\n",
    "\"1.2.840.113619.6.388.75375959512928365900552902675149673755\",\n",
    "\"1.2.840.113619.6.388.38548718643503154727940352551216885988\"]"
   ]
  },
  {
   "cell_type": "code",
   "execution_count": 7,
   "metadata": {},
   "outputs": [
    {
     "output_type": "stream",
     "name": "stdout",
     "text": [
      "120\n"
     ]
    }
   ],
   "source": [
    "studyuid = list(set(studyuid) - set(removestudyuid))\n",
    "print(len(studyuid))"
   ]
  },
  {
   "cell_type": "code",
   "execution_count": 8,
   "metadata": {},
   "outputs": [],
   "source": [
    "# shuffle part 1\n",
    "\n",
    "# studyuid = pd.Series(studyuid).to_pickle(\"studyuid_shuffle1.pkl\")"
   ]
  },
  {
   "cell_type": "code",
   "execution_count": 2,
   "metadata": {},
   "outputs": [],
   "source": [
    "\n",
    "studyuid = list(pd.read_pickle(\"studyuid_shuffle1.pkl\"))\n",
    "random.shuffle(studyuid)\n",
    "studyuid = pd.Series(studyuid).to_pickle(\"studyuid_shuffle2.pkl\")\n",
    "# splitstudy = np.array_split(studyuid, 8)"
   ]
  },
  {
   "cell_type": "code",
   "execution_count": 10,
   "metadata": {},
   "outputs": [
    {
     "output_type": "stream",
     "name": "stdout",
     "text": [
      "/home/single1/BACKUP/tintrung/brain-mri-tumor-txt-labels-2-classes/yolov5\n"
     ]
    }
   ],
   "source": [
    "!pwd"
   ]
  },
  {
   "cell_type": "code",
   "execution_count": 15,
   "metadata": {},
   "outputs": [
    {
     "output_type": "stream",
     "name": "stdout",
     "text": [
      "\u001b[34m\u001b[1mgithub: \u001b[0mup to date with https://github.com/StevenNguyen0501/yolov5 ✅\n",
      "YOLOv5 🚀 v4.0-180-g1148e2e torch 1.7.1 CUDA:0 (GeForce RTX 2080 Ti, 11011.0625MB)\n",
      "\n",
      "Namespace(adam=False, artifact_alias='latest', batch_size=16, bbox_interval=-1, bucket='', cache_images=True, cfg='', data='./data/dataset.yaml', device='', entity=None, epochs=60, evolve=False, exist_ok=False, global_rank=-1, hyp='data/hyp.scratch.yaml', image_weights=False, img_size=[512, 512], label_smoothing=0.0, linear_lr=False, local_rank=-1, multi_scale=False, name='exp', noautoanchor=False, nosave=True, notest=False, project='runs/train', quad=False, rect=False, resume=False, save_dir='runs/train/exp7', save_period=-1, single_cls=False, sync_bn=False, total_batch_size=16, upload_dataset=False, weights='yolov5s.pt', workers=8, world_size=1)\n",
      "\u001b[34m\u001b[1mtensorboard: \u001b[0mStart with 'tensorboard --logdir runs/train', view at http://localhost:6006/\n",
      "\u001b[34m\u001b[1mhyperparameters: \u001b[0mlr0=0.01, lrf=0.2, momentum=0.937, weight_decay=0.0005, warmup_epochs=3.0, warmup_momentum=0.8, warmup_bias_lr=0.1, box=0.05, cls=0.5, cls_pw=1.0, obj=1.0, obj_pw=1.0, iou_t=0.2, anchor_t=4.0, fl_gamma=0.0, hsv_h=0.015, hsv_s=0.7, hsv_v=0.4, degrees=0.0, translate=0.1, scale=0.5, shear=0.0, perspective=0.0, flipud=0.0, fliplr=0.5, mosaic=1.0, mixup=0.0\n",
      "\u001b[34m\u001b[1mwandb\u001b[0m: Currently logged in as: \u001b[33malexdang\u001b[0m (use `wandb login --relogin` to force relogin)\n",
      "\u001b[34m\u001b[1mwandb\u001b[0m: wandb version 0.10.25 is available!  To upgrade, please run:\n",
      "\u001b[34m\u001b[1mwandb\u001b[0m:  $ pip install wandb --upgrade\n",
      "\u001b[34m\u001b[1mwandb\u001b[0m: Tracking run with wandb version 0.10.24\n",
      "\u001b[34m\u001b[1mwandb\u001b[0m: Syncing run \u001b[33mexp7\u001b[0m\n",
      "\u001b[34m\u001b[1mwandb\u001b[0m: ⭐️ View project at \u001b[34m\u001b[4mhttps://wandb.ai/alexdang/YOLOv5\u001b[0m\n",
      "\u001b[34m\u001b[1mwandb\u001b[0m: 🚀 View run at \u001b[34m\u001b[4mhttps://wandb.ai/alexdang/YOLOv5/runs/akhhpw5l\u001b[0m\n",
      "\u001b[34m\u001b[1mwandb\u001b[0m: Run data is saved locally in /home/single1/BACKUP/tintrung/brain-mri-tumor-txt-labels-2-classes/yolov5/wandb/run-20210407_115520-akhhpw5l\n",
      "\u001b[34m\u001b[1mwandb\u001b[0m: Run `wandb offline` to turn off syncing.\n",
      "\n",
      "\n",
      "\n",
      "\n",
      "\n",
      "\n",
      "\n",
      "\n",
      "\n",
      "\n",
      "\n",
      "\n",
      "\n",
      "\n",
      "\n",
      "\n",
      "\n",
      "\n",
      "\n",
      "\n",
      "\n",
      "\n",
      "\n",
      "\n",
      "\n",
      "\n",
      "\n",
      "\n",
      "\n",
      "\n",
      "\n",
      "\n",
      "\n",
      "\n",
      "\n",
      "\n",
      "\n",
      "\n",
      "\n",
      "\n",
      "\n",
      "\n",
      "\n",
      "\n",
      "\n",
      "\n",
      "\u001b[34m\u001b[1mwandb\u001b[0m: Waiting for W&B process to finish, PID 1764682\n",
      "\u001b[34m\u001b[1mwandb\u001b[0m: Program failed with code 1.  Press ctrl-c to abort syncing.\n",
      "\u001b[34m\u001b[1mwandb\u001b[0m:                                                                                \n",
      "\u001b[34m\u001b[1mwandb\u001b[0m: Find user logs for this run at: /home/single1/BACKUP/tintrung/brain-mri-tumor-txt-labels-2-classes/yolov5/wandb/run-20210407_115520-akhhpw5l/logs/debug.log\n",
      "\u001b[34m\u001b[1mwandb\u001b[0m: Find internal logs for this run at: /home/single1/BACKUP/tintrung/brain-mri-tumor-txt-labels-2-classes/yolov5/wandb/run-20210407_115520-akhhpw5l/logs/debug-internal.log\n",
      "\u001b[34m\u001b[1mwandb\u001b[0m: Synced 5 W&B file(s), 0 media file(s), 0 artifact file(s) and 0 other file(s)\n",
      "\u001b[34m\u001b[1mwandb\u001b[0m: \n",
      "\u001b[34m\u001b[1mwandb\u001b[0m: Synced \u001b[33mexp7\u001b[0m: \u001b[34mhttps://wandb.ai/alexdang/YOLOv5/runs/akhhpw5l\u001b[0m\n"
     ]
    }
   ],
   "source": [
    "train_path = \"/home/single1/BACKUP/tintrung/brain-mri-tumor-txt-labels-2-classes/yolov5/data/train.txt\"\n",
    "val_path = \"/home/single1/BACKUP/tintrung/brain-mri-tumor-txt-labels-2-classes/yolov5/data/val.txt\"\n",
    "root_path = \"/home/single1/BACKUP/tintrung/brain-mri-tumor-txt-labels-2-classes/images\"\n",
    "\n",
    "val_studyuid  = splitstudy[0]\n",
    "val_image = []\n",
    "for studyuid in val_studyuid:\n",
    "    val_image.extend(list(df[df.StudyInstanceUID_x == studyuid][\"DicomFileName\"]))\n",
    "train_image = list(set(df[\"DicomFileName\"]) - set(val_image))\n",
    "\n",
    "val_image = list(set(val_image))\n",
    "\n",
    "valfile = open(val_path, \"w\")\n",
    "for val_name in val_image:\n",
    "    val_name = val_name.replace(\".dcm\", \".png\")\n",
    "    val_name += \"\\n\"\n",
    "    val_name = os.path.join(root_path, val_name)\n",
    "    valfile.write(val_name)\n",
    "valfile.close()\n",
    "\n",
    "\n",
    "\n",
    "trainfile = open(train_path, \"w\")\n",
    "for train_name in train_image:\n",
    "    train_name = train_name.replace(\".dcm\", \".png\")\n",
    "    train_name += \"\\n\"\n",
    "    train_name = os.path.join(root_path, train_name)\n",
    "    trainfile.write(train_name)\n",
    "trainfile.close()\n",
    "\n",
    "!python train.py --img 512 --batch 16 --epochs 60 --data dataset.yaml --weights yolov5s.pt --nosave --cache\n",
    "\n"
   ]
  },
  {
   "cell_type": "code",
   "execution_count": null,
   "metadata": {},
   "outputs": [],
   "source": []
  }
 ]
}