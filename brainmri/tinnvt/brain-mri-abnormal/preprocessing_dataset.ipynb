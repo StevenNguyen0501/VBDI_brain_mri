{
 "metadata": {
  "language_info": {
   "codemirror_mode": {
    "name": "ipython",
    "version": 3
   },
   "file_extension": ".py",
   "mimetype": "text/x-python",
   "name": "python",
   "nbconvert_exporter": "python",
   "pygments_lexer": "ipython3",
   "version": "3.8.5"
  },
  "orig_nbformat": 2,
  "kernelspec": {
   "name": "python385jvsc74a57bd0d3eb3b95ed02a90563a547b6631db1c5e33b204e441169e1fdd91d0b8aad5aa1",
   "display_name": "Python 3.8.5 64-bit ('brainenv': conda)"
  }
 },
 "nbformat": 4,
 "nbformat_minor": 2,
 "cells": [
  {
   "cell_type": "code",
   "execution_count": 129,
   "metadata": {},
   "outputs": [],
   "source": [
    "import os\n",
    "import time\n",
    "import pickle\n",
    "import pydicom\n",
    "import pandas as pd\n",
    "pd.set_option(\"display.max_colwidth\", None)\n",
    "import numpy as np\n",
    "import matplotlib.pyplot as plt\n",
    "import matplotlib.patches as patches\n",
    "from pydicom.pixel_data_handlers.util import apply_voi_lut"
   ]
  },
  {
   "source": [
    "## In each studiesUID, copy bounding boxes from one seriesUID to another seriesUID"
   ],
   "cell_type": "markdown",
   "metadata": {}
  },
  {
   "cell_type": "code",
   "execution_count": 178,
   "metadata": {},
   "outputs": [
    {
     "output_type": "stream",
     "name": "stdout",
     "text": [
      "df_sequences: Index(['SeriesInstanceUID', 'StudyInstanceUID', 'SeriesLabel'], dtype='object')\ndf_2_classes: Index(['index', 'studyUid', 'seriesUid', 'imageUid', 'label', 'x1', 'x2', 'y1',\n       'y2'],\n      dtype='object')\ndf_dicom: Index(['StudyInstanceUID', 'SeriesInstanceUID', 'SeriesDescription', 'Rows',\n       'Columns', 'SliceThickness', 'PixelSpacing', 'SpacingBetweenSlices',\n       'SliceLocation', 'SmallestImagePixelValue', 'LargestImagePixelValue',\n       'WindowCenter', 'WindowWidth', 'ImagePositionPatient',\n       'ImageOrientationPatient', 'RepetitionTime', 'EchoTime',\n       'PatientPosition', 'DicomFileName'],\n      dtype='object')\ndf_xml: Index(['xml_name', 'patientPid', 'diagnosis', 'sessionId', 'type',\n       'annotation', 'scope', 'pointUnit', 'createTimestamp', 'imageUid',\n       'seriesUid', 'studyUid', 'tags', 'point'],\n      dtype='object')\n"
     ]
    }
   ],
   "source": [
    "df_sequences = pd.read_csv('/home/single3/Documents/tintrung/brainmri/tinnvt/brain-mri-abnormal/csv_new/df_series_clear.csv')\n",
    "df_2_classes = pd.read_pickle('/home/single3/Documents/tintrung/brainmri/tinnvt/brain-mri-abnormal/csv_new/brain-mri-xml-dataset-2classes.pkl')\n",
    "df_2_classes = df_2_classes.reset_index()\n",
    "df_dicom = pd.read_pickle('/home/single3/Documents/tintrung/brainmri/tinnvt/brain-mri-abnormal/csv_new/summary_dicom.pkl')\n",
    "df_xml = pd.read_pickle('/home/single3/Documents/tintrung/brainmri/tinnvt/summary_xml.pkl')\n",
    "print(f'df_sequences: {df_sequences.columns}')\n",
    "print(f'df_2_classes: {df_2_classes.columns}')\n",
    "print(f'df_dicom: {df_dicom.columns}')\n",
    "print(f'df_xml: {df_xml.columns}')"
   ]
  },
  {
   "cell_type": "code",
   "execution_count": 203,
   "metadata": {
    "tags": []
   },
   "outputs": [
    {
     "output_type": "execute_result",
     "data": {
      "text/plain": [
       "0        19.06570\n",
       "1       -46.83690\n",
       "2        37.03910\n",
       "3       -22.87230\n",
       "4         7.08339\n",
       "           ...   \n",
       "71847   -27.49980\n",
       "71848   -35.35790\n",
       "71849   -43.21590\n",
       "71850   -51.07400\n",
       "71851   -58.93200\n",
       "Name: z-axis-ImagePositionPatient, Length: 71852, dtype: float64"
      ]
     },
     "metadata": {},
     "execution_count": 203
    }
   ],
   "source": [
    "df_sequences = df_sequences.rename(columns={'SeriesInstanceUID':'seriesUid', 'StudyInstanceUID':'studyUid'})\n",
    "df_dicom = df_dicom.rename(columns={'SeriesInstanceUID':'seriesUid', 'StudyInstanceUID':'studyUid'})\n",
    "# In df_dicom['ImagePositionPatient'] column have None values\n",
    "z_axis = []\n",
    "for item in list(df_dicom['ImagePositionPatient']):\n",
    "    if item != None:\n",
    "        z_axis.append(item[-1])\n",
    "    else:\n",
    "        z_axis.append(None)\n",
    "df_dicom['z-axis-ImagePositionPatient'] = z_axis\n",
    "df_dicom['z-axis-ImagePositionPatient']"
   ]
  },
  {
   "source": [],
   "cell_type": "code",
   "metadata": {
    "tags": []
   },
   "execution_count": null,
   "outputs": []
  },
  {
   "cell_type": "code",
   "execution_count": 197,
   "metadata": {
    "tags": []
   },
   "outputs": [
    {
     "output_type": "stream",
     "name": "stdout",
     "text": [
      "There are 1479 series that have not annoted!\n"
     ]
    }
   ],
   "source": [
    "# df_dcm_xml = pd.merge(df_dicom, df_xml, how='left', on=['seriesUid', 'studyUid'])\n",
    "total_series = list(df_dicom['seriesUid'].drop_duplicates())\n",
    "total_annoted_studies = list(df_xml['studyUid'].drop_duplicates())\n",
    "total_annoted_series = list(df_xml['seriesUid'].drop_duplicates())\n",
    "total_not_annoted_series = list(set(total_series)-set(total_annoted_studies))\n",
    "print(f'There are {len(total_not_annoted_series)} series that have not annoted!')\n",
    "\n",
    "# for stu in annoted_studies:\n",
    "#     # print(f'================== Processing study {stu} ==================')\n",
    "#     df_study = df_dicom[df_dicom['studyUid']==stu]\n",
    "#     all_series = list(set(df_study['seriesUid']))\n",
    "#     annot_seri = list(set(df_xml[df_xml['studyUid']==stu]['seriesUid']))[0]\n",
    "#     not_annot_series = list(set(all_series)-set(annot_seri))\n",
    "#     df_annot_seri = df_xml[df_xml['seriesUid']==annot_seri]\n",
    "#     df_not_annot_seri = df_xml[df_xml['seriesUid']==not_annot_series]\n",
    "#     points = df_annot_seri['point']\n",
    "#     print(points)\n",
    "\n",
    "#     # print(annot_seri)\n",
    "#     # print(len(not_annot_series))\n",
    "#     # print(df_annot_seri)\n",
    "#     print('*'*59)\n",
    "#     # break"
   ]
  },
  {
   "cell_type": "code",
   "execution_count": 198,
   "metadata": {},
   "outputs": [
    {
     "output_type": "execute_result",
     "data": {
      "text/plain": [
       "['1.2.840.113619.2.80.2802896632.11452.1599609724.26.4.2',\n",
       " '1.2.840.113619.2.388.57473.14165493.12654.1599525247.526',\n",
       " '1.2.840.113619.2.5.1916222523715996118091599611809219000',\n",
       " '1.2.840.113619.2.388.57473.14165493.12654.1599525247.529',\n",
       " '1.2.840.113619.2.388.57473.14165493.12654.1599525247.530',\n",
       " '1.2.840.113619.2.388.57473.14165493.12654.1599525247.520',\n",
       " '1.2.840.113619.2.388.57473.14165493.12654.1599525247.527',\n",
       " '1.2.840.113619.2.388.57473.14165493.11896.1599525311.834',\n",
       " '1.2.840.113619.2.388.57473.14165493.12654.1599525247.528',\n",
       " '1.2.840.113619.2.388.57473.14165493.12654.1599525247.524',\n",
       " '1.2.840.113619.2.80.2802896632.11452.1599609703.1.4.2',\n",
       " '1.2.840.113619.2.388.57473.14165493.12654.1599525247.525',\n",
       " '1.2.840.113619.2.388.57473.14165493.12654.1599525247.517']"
      ]
     },
     "metadata": {},
     "execution_count": 198
    }
   ],
   "source": [
    "choisen_studies = '1.2.840.113619.6.388.101774739834280643528361334251926593124'\n",
    "tmp1 = list(set(df_dicom[df_dicom['studyUid']==choisen_studies]['seriesUid']))\n",
    "tmp1"
   ]
  },
  {
   "cell_type": "code",
   "execution_count": 199,
   "metadata": {},
   "outputs": [
    {
     "output_type": "execute_result",
     "data": {
      "text/plain": [
       "['1.2.840.113619.2.388.57473.14165493.12654.1599525247.529',\n",
       " '1.2.840.113619.2.388.57473.14165493.12654.1599525247.526']"
      ]
     },
     "metadata": {},
     "execution_count": 199
    }
   ],
   "source": [
    "tmp2 = list(set(df_xml[df_xml['studyUid']==choisen_studies]['seriesUid']))\n",
    "tmp2"
   ]
  },
  {
   "cell_type": "code",
   "execution_count": 200,
   "metadata": {},
   "outputs": [
    {
     "output_type": "execute_result",
     "data": {
      "text/plain": [
       "0    [-40.168701171875, -4.1686601638794, -18.568700790405]\n",
       "1     [-36.568698883057, -18.568700790405, 39.031299591064]\n",
       "2     [17.431299209595, -2.3686599731445, -18.568700790405]\n",
       "Name: z-axis-annotation, dtype: object"
      ]
     },
     "metadata": {},
     "execution_count": 200
    }
   ],
   "source": [
    "a = df_xml[df_xml['seriesUid']=='1.2.840.113619.2.388.57473.14165493.12654.1599525247.526']['z-axis-annotation']\n",
    "a"
   ]
  },
  {
   "cell_type": "code",
   "execution_count": 201,
   "metadata": {},
   "outputs": [
    {
     "output_type": "execute_result",
     "data": {
      "text/plain": [
       "0     19.06570\n",
       "1    -46.83690\n",
       "2     37.03910\n",
       "3    -22.87230\n",
       "4      7.08339\n",
       "5     13.07450\n",
       "6    -52.82810\n",
       "7     55.01260\n",
       "8     31.04800\n",
       "9     43.03030\n",
       "10   -28.86350\n",
       "11     1.09225\n",
       "12   -10.89000\n",
       "13   -58.81920\n",
       "14    49.02140\n",
       "15   -34.85460\n",
       "16    -4.89890\n",
       "17   -40.84580\n",
       "44   -16.88120\n",
       "45    25.05680\n",
       "Name: z-axis-ImagePositionPatient, dtype: float64"
      ]
     },
     "metadata": {},
     "execution_count": 201
    }
   ],
   "source": [
    "b = df_dicom[df_dicom['seriesUid']=='1.2.840.113619.2.5.1916222523715996118091599611809219000']['z-axis-ImagePositionPatient']\n",
    "b"
   ]
  },
  {
   "cell_type": "code",
   "execution_count": null,
   "metadata": {},
   "outputs": [],
   "source": []
  }
 ]
}