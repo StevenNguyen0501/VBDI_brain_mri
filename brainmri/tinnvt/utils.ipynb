{
 "metadata": {
  "language_info": {
   "codemirror_mode": {
    "name": "ipython",
    "version": 3
   },
   "file_extension": ".py",
   "mimetype": "text/x-python",
   "name": "python",
   "nbconvert_exporter": "python",
   "pygments_lexer": "ipython3",
   "version": "3.8.5-final"
  },
  "orig_nbformat": 2,
  "kernelspec": {
   "name": "python3",
   "display_name": "Python 3",
   "language": "python"
  }
 },
 "nbformat": 4,
 "nbformat_minor": 2,
 "cells": [
  {
   "source": [],
   "cell_type": "markdown",
   "metadata": {}
  },
  {
   "source": [
    "## 1. Dicom to Numpy aray"
   ],
   "cell_type": "markdown",
   "metadata": {}
  },
  {
   "source": [
    "# EDA dữ liệu Brain Tumor"
   ],
   "cell_type": "markdown",
   "metadata": {}
  },
  {
   "source": [
    "import os\n",
    "import numpy as np\n",
    "import matplotlib.pyplot as plt\n",
    "import pydicom\n",
    "from pydicom.pixel_data_handlers.util import apply_voi_lut\n",
    "\n",
    "\n",
    "def dicom2array(path, voi_lut=True, fix_monochrome=True):\n",
    "    dicom = pydicom.read_file(path)\n",
    "    # VOI LUT (if available by DICOM device) is used to\n",
    "    # transform raw DICOM data to \"human-friendly\" view\n",
    "    if voi_lut:\n",
    "        data = apply_voi_lut(dicom.pixel_array, dicom)\n",
    "    else:\n",
    "        data = dicom.pixel_array\n",
    "    # depending on this value, X-ray may look inverted - fix that:\n",
    "    if fix_monochrome and dicom.PhotometricInterpretation == \"MONOCHROME1\":\n",
    "        data = np.amax(data) - data\n",
    "    data = data - np.min(data)\n",
    "    data = data / np.max(data)\n",
    "    data = (data * 255).astype(np.uint8)\n",
    "    return dicom, data\n",
    "        \n",
    "    \n",
    "def plot_img(img, size=(7, 7), is_rgb=True, title=\"\", cmap='gray'):\n",
    "    plt.figure(figsize=size)\n",
    "    plt.imshow(img, cmap=cmap)\n",
    "    plt.suptitle(title)\n",
    "    plt.show()\n",
    "\n",
    "\n",
    "def plot_imgs(imgs, cols=4, size=7, is_rgb=True, title=\"\", cmap='gray', img_size=(500,500)):\n",
    "    rows = len(imgs)//cols + 1\n",
    "    fig = plt.figure(figsize=(cols*size, rows*size))\n",
    "    for i, img in enumerate(imgs):\n",
    "        if img_size is not None:\n",
    "            img = cv2.resize(img, img_size)\n",
    "        fig.add_subplot(rows, cols, i+1)\n",
    "        plt.imshow(img, cmap=cmap)\n",
    "    plt.suptitle(title)\n",
    "    plt.show()\n"
   ],
   "cell_type": "code",
   "metadata": {},
   "execution_count": 1,
   "outputs": []
  },
  {
   "source": [
    "## 2. Plot MRI images"
   ],
   "cell_type": "markdown",
   "metadata": {}
  },
  {
   "cell_type": "code",
   "execution_count": 2,
   "metadata": {},
   "outputs": [
    {
     "output_type": "stream",
     "name": "stdout",
     "text": [
      "The total number of dicom files: 71852\n"
     ]
    }
   ],
   "source": [
    "dcm_root_path = \"/media/tungthanhlee/DATA/brain-mri-tumor-dicom-masked\"\n",
    "dcm_paths = []\n",
    "\n",
    "for subdir_name in os.listdir(dcm_root_path):\n",
    "    subdir_path = os.path.join(dcm_root_path, subdir_name)\n",
    "    for file_name in os.listdir(subdir_path):\n",
    "        file_path = os.path.join(subdir_path, file_name)\n",
    "        dcm_paths.append(file_path)\n",
    "print(\"The total number of dicom files:\", len(dcm_paths))"
   ]
  },
  {
   "cell_type": "code",
   "execution_count": 3,
   "metadata": {},
   "outputs": [
    {
     "output_type": "stream",
     "name": "stdout",
     "text": [
      "Dicom 0: \n Dataset.file_meta -------------------------------\n(0002, 0000) File Meta Information Group Length  UL: 198\n(0002, 0001) File Meta Information Version       OB: b'\\x00\\x01'\n(0002, 0002) Media Storage SOP Class UID         UI: MR Image Storage\n(0002, 0003) Media Storage SOP Instance UID      UI: 1.2.840.113619.2.311.125282295065266504184867863002451722448\n(0002, 0010) Transfer Syntax UID                 UI: Implicit VR Little Endian\n(0002, 0012) Implementation Class UID            UI: 1.2.840.113747.20001115\n(0002, 0013) Implementation Version Name         SH: ''\n(0002, 0016) Source Application Entity Title     AE: 'VITREA1'\n-------------------------------------------------\n(0008, 0005) Specific Character Set              CS: 'ISO_IR 100'\n(0008, 0008) Image Type                          CS: ['DERIVED', 'PRIMARY', 'ADC', 'ADC']\n(0008, 0012) Instance Creation Date              DA: '19700101'\n(0008, 0013) Instance Creation Time              TM: '100000'\n(0008, 0016) SOP Class UID                       UI: MR Image Storage\n(0008, 0018) SOP Instance UID                    UI: 1.2.840.113619.2.311.125282295065266504184867863002451722448\n(0008, 0020) Study Date                          DA: '19700101'\n(0008, 0021) Series Date                         DA: '19700101'\n(0008, 0022) Acquisition Date                    DA: '19700101'\n(0008, 0023) Content Date                        DA: '19700101'\n(0008, 0030) Study Time                          TM: '100000'\n(0008, 0031) Series Time                         TM: '100000'\n(0008, 0032) Acquisition Time                    TM: '100000'\n(0008, 0033) Content Time                        TM: '100000'\n(0008, 0050) Accession Number                    SH: 'b3bc1857-f224-4c1d-a83d-6c2bafda54ff'\n(0008, 0060) Modality                            CS: 'MR'\n(0008, 0070) Manufacturer                        LO: 'ff79a60f-97fb-44e2-bc69-a3aa5e996dae'\n(0008, 0080) Institution Name                    LO: '1862b250-ff89-440a-993f-0523fdbd1c20'\n(0008, 0090) Referring Physician's Name          PN: 'd6f907ae-c252-4674-8986-1843449e6611'\n(0008, 1010) Station Name                        SH: '4f5069d4-4c5d-48b8-b200-8accd8266be9'\n(0008, 103e) Series Description                  LO: 'Apparent Diffusion Coefficient (mm2/s)'\n(0008, 1090) Manufacturer's Model Name           LO: '3cc370df-bd2c-433d-aaef-8ca9c1f442c6'\n(0008, 1140)  Referenced Image Sequence  1 item(s) ---- \n   (0008, 1150) Referenced SOP Class UID            UI: MR Image Storage\n   (0008, 1155) Referenced SOP Instance UID         UI: 1.2.840.113619.2.388.57473.14165493.11896.1599525312.126\n   (0040, a170)  Purpose of Reference Code Sequence  1 item(s) ---- \n      (0008, 0100) Code Value                          SH: '121338'\n      (0008, 0102) Coding Scheme Designator            SH: 'DCM'\n      (0008, 0104) Code Meaning                        LO: 'Anatomic image'\n      ---------\n   ---------\n(0009, 0010) Private Creator                     LO: 'GEMS_IDEN_01'\n(0009, 1002) [Suite id]                          UN: b'gehc'\n(0009, 1004) [Product id]                        UN: b'SIGNA '\n(0009, 1027) [Image actual date]                 UN: b'\\xd0\\x85X_'\n(0009, 1030) [Service id]                        UN: b'gehc'\n(0009, 1031) [Mobile location number]            UN: b'9999'\n(0009, 10e3) [Equipment UID]                     UN: Array of 38 elements\n(0009, 10e9) [Actual series data time stamp]     UN: b'\\xd0\\x85X_'\n(0010, 0010) Patient's Name                      PN: 'ac41c576-a28a-4da1-8f55-fd273d7a72bc'\n(0010, 0020) Patient ID                          LO: '1eca8e43-1ff4-41a0-9543-d90b67f82394'\n(0010, 0030) Patient's Birth Date                DA: '19700101'\n(0010, 0040) Patient's Sex                       CS: ''\n(0010, 1010) Patient's Age                       AS: '000Y'\n(0010, 1030) Patient's Weight                    DS: \"55.0\"\n(0010, 21b0) Additional Patient History          LT: ''\n(0018, 0020) Scanning Sequence                   CS: ['EP', 'SE']\n(0018, 0021) Sequence Variant                    CS: 'NONE'\n(0018, 0022) Scan Options                        CS: ['EPI_GEMS', 'FILTERED_GEMS', 'ACC_GEMS', 'PFF']\n(0018, 0023) MR Acquisition Type                 CS: '2D'\n(0018, 0050) Slice Thickness                     DS: \"5.0\"\n(0018, 0080) Repetition Time                     DS: \"4384.0\"\n(0018, 0081) Echo Time                           DS: \"101.9\"\n(0018, 0084) Imaging Frequency                   DS: \"63.871431\"\n(0018, 0086) Echo Number(s)                      IS: \"1\"\n(0018, 0087) Magnetic Field Strength             DS: \"1.5\"\n(0018, 0088) Spacing Between Slices              DS: \"6.0\"\n(0018, 0091) Echo Train Length                   IS: \"1\"\n(0018, 0095) Pixel Bandwidth                     DS: \"1953.12\"\n(0018, 1020) Software Versions                   LO: ['25', 'LX', 'MR Software release:SV25.0_R08_1822.b']\n(0018, 1030) Protocol Name                       LO: 'BRAIN - HHH'\n(0018, 1060) Trigger Time                        DS: None\n(0018, 1090) Cardiac Number of Images            IS: \"0\"\n(0018, 1100) Reconstruction Diameter             DS: \"260.0\"\n(0018, 1250) Receive Coil Name                   SH: 'NVarray'\n(0018, 1310) Acquisition Matrix                  US: [128, 0, 0, 128]\n(0018, 1312) In-plane Phase Encoding Direction   CS: 'COL'\n(0018, 1314) Flip Angle                          DS: \"90.0\"\n(0018, 5100) Patient Position                    CS: 'HFS'\n(0019, 0010) Private Creator                     LO: 'GEMS_ACQU_01'\n(0019, 1017) [Series plane]                      UN: b'\\x10\\x00'\n(0019, 101e) [Display field of view]             UN: b'260.000000'\n(0019, 105a) [Acquisition Duration]              UN: b'B\\x83\\x16L'\n(0019, 107e) [Number of echoes]                  UN: b'\\x01\\x00'\n(0019, 108f) [Swappf]                            UN: b'\\x01\\x00'\n(0019, 109c) [Pulse Sequence Name]               UN: b'epi2'\n(0019, 109f) [Transmitting Coil Type]            UN: b'\\x03\\x00'\n(0019, 10a4) [SAT fat/water/bone]                UN: b'\\x00\\x00'\n(0019, 10af) [User data 8]                       UN: b'0.000000'\n(0019, 10b0) [User data 9]                       UN: b'0.000000'\n(0019, 10b1) [User data 10]                      UN: b'0.000000'\n(0019, 10b2) [User data 11]                      UN: b'0.000000'\n(0019, 10b3) [User data 12]                      UN: b'0.000000'\n(0019, 10b4) [User data 13]                      UN: b'0.000000'\n(0019, 10bb) [User data 20]                      UN: b'0.000000'\n(0019, 10bc) [User data 21]                      UN: b'0.000000'\n(0019, 10bd) [User data 22]                      UN: b'0.000000'\n(0019, 10c0) [Saturation planes]                 UN: b'\\x00\\x00'\n(0019, 10cb) [Phase Contrast flow axis]          UN: b'\\x00\\x00'\n(0019, 10cc) [Velocity encoding]                 UN: b'\\x00\\x00'\n(0019, 10d5) [Fractional echo]                   UN: b'\\x03\\x00'\n(0019, 10d7) [Cardiac phase number]              UN: b'\\x00\\x00'\n(0019, 10d8) [Variable echoflag]                 UN: b'\\x00\\x00'\n(0019, 10d9) [Concatenated SAT {# DTI Diffusion  UN: b'0.000000'\n(0019, 10f2) [Fast phases]                       UN: b'\\x00\\x00'\n(0020, 000d) Study Instance UID                  UI: 1.2.840.113619.6.388.101774739834280643528361334251926593124\n(0020, 000e) Series Instance UID                 UI: 1.2.840.113619.2.5.1916222523715996118091599611809219000\n(0020, 0010) Study ID                            SH: '30697'\n(0020, 0011) Series Number                       IS: \"700\"\n(0020, 0013) Instance Number                     IS: \"3\"\n(0020, 0032) Image Position (Patient)            DS: [-129.086, -132.089, -46.8369]\n(0020, 0037) Image Orientation (Patient)         DS: [0.999995, 0.00266694, 0.0014183, -0.00258601, 0.998522, -0.0542916]\n(0020, 0052) Frame of Reference UID              UI: 1.2.840.113619.2.388.57473.14165493.12654.1599525247.518\n(0020, 0060) Laterality                          CS: ''\n(0020, 1002) Images in Acquisition               IS: \"40\"\n(0020, 1040) Position Reference Indicator        LO: ''\n(0020, 1041) Slice Location                      DS: \"-53.68361664\"\n(0021, 0010) Private Creator                     LO: 'GEMS_RELA_01'\n(0021, 1037) [Screen Format]                     UN: b'\\x10\\x00'\n(0021, 104f) [Locations in acquisition]          UN: b'\\x14\\x00'\n(0021, 105a) [Diffusion direction]               UN: b'\\x07\\x00\\x00\\x00'\n(0025, 0010) Private Creator                     LO: 'GEMS_SERS_01'\n(0025, 1007) [Images in Series]                  UN: b'(\\x00\\x00\\x00'\n(0025, 1019) [Last image number used]            UN: b'(\\x00\\x00\\x00'\n(0025, 101a) [Primary Receiver Suite and Host]   UN: b'gehcgehc'\n(0025, 101b) [Protocol Data Block (compressed)]  UN: Array of 904 elements\n(0027, 0010) Private Creator                     LO: 'GEMS_IMAG_01'\n(0027, 1032) [Pulse Sequence]                    UN: b'\\x00\\x00'\n(0027, 1033) [Imaging Options]                   UN: b'\\x00\\x00\\x00D'\n(0027, 1035) [Plane Type]                        UN: b'\\x10\\x00'\n(0027, 1040) [RAS letter of image location]      UN: b'I '\n(0027, 1041) [Image location]                    UN: b'\\x06\\xbcV\\xc2'\n(0027, 1060) [Image dimension - X]               UN: b'\\x00\\x00\\x00C'\n(0027, 1061) [Image dimension - Y]               UN: b'\\x00\\x00\\x00C'\n(0027, 1062) [Number of Excitations]             UN: b'\\x00\\x00\\x00@'\n(0028, 0002) Samples per Pixel                   US: 1\n(0028, 0004) Photometric Interpretation          CS: 'MONOCHROME2'\n(0028, 0010) Rows                                US: 256\n(0028, 0011) Columns                             US: 256\n(0028, 0030) Pixel Spacing                       DS: [1.0156, 1.0156]\n(0028, 0100) Bits Allocated                      US: 16\n(0028, 0101) Bits Stored                         US: 16\n(0028, 0102) High Bit                            US: 15\n(0028, 0103) Pixel Representation                US: 1\n(0028, 0106) Smallest Image Pixel Value          SS: 48\n(0028, 0107) Largest Image Pixel Value           SS: 5624\n(0028, 1050) Window Center                       DS: \"1300.0\"\n(0028, 1051) Window Width                        DS: \"2400.0\"\n(0029, 0010) Private Creator                     LO: 'GEMS_IMPS_01'\n(0029, 1026) [Version of the hdr struct]         UN: b'\\x02\\x00'\n(0029, 1034) [Advantage comp. Overflow]          UN: b'\\x00@\\x00\\x00'\n(0029, 1035) [Advantage comp. Underflow]         UN: b'\\x00\\x00\\x00\\x00'\n(0040, 9096)  Real World Value Mapping Sequence  1 item(s) ---- \n   (0028, 3003) LUT Explanation                     LO: 'Rainbow LUT'\n   (0040, 08ea)  Measurement Units Code Sequence  1 item(s) ---- \n      (0008, 0100) Code Value                          SH: 'mm2/s'\n      (0008, 0102) Coding Scheme Designator            SH: 'UCUM'\n      (0008, 0103) Coding Scheme Version               SH: '1.4'\n      (0008, 0104) Code Meaning                        LO: 'mm2/s'\n      ---------\n   (0040, 9210) LUT Label                           SH: 'GE_RAINBOW'\n   (0040, 9211) Real World Value Last Value Mapped  SS: 5624\n   (0040, 9216) Real World Value First Value Mapped SS: 48\n   (0040, 9224) Real World Value Intercept          FD: 0.0\n   (0040, 9225) Real World Value Slope              FD: 1e-06\n   ---------\n(0043, 0010) Private Creator                     LO: 'GEMS_PARM_01'\n(0043, 1006) [Number of EPI shots]               UN: b'\\x01\\x00'\n(0043, 100a) [Type of receiver used]             UN: b'\\x01\\x00'\n(0043, 102f) [Image Type (real, imaginary, phase UN: b'\\x00\\x00'\n(0043, 1030) [Vas collapse flag]                 UN: b'\\x14\\x00'\n(0043, 1038) [User data 25...User data 48 {User4 UN: Array of 96 elements\n(0043, 1060) [Slop_int_10...slop_int_17]         UN: b'0\\\\0\\\\0\\\\0\\\\0\\\\0\\\\0\\\\0 '\n(0043, 1083) [Asset R Factors]                   UN: b'0.5\\\\1 '\n(0043, 1084) [Additional Asset Data]             UN: Array of 28 elements\n(0051, 0010) Private Creator                     LO: 'GEMS_FUNCTOOL_01'\n(0051, 1001) [Functional Proc Group Name]        UN: b'General '\n(0051, 1002) [Functional Processing Name]        UN: Array of 38 elements\n(0051, 1003) [Bias of Functional Image]          UN: b'\\x00\\x00\\x00\\x00'\n(0051, 1004) [Scale of Functional Image]         UN: b'\\xbd7\\x865'\n(0051, 1005) [Length of Parameters String]       UN: b'\\x1e\\x00\\x00\\x00'\n(0051, 1006) [Store Parameters string, delimited UN: Array of 30 elements\n(0051, 1007) [Functional Image Version]          UN: b'INLINE 1.0'\n(0051, 1008) [Store Color Ramp]                  UN: b'\\x00\\x00\\x00\\x00'\n(0051, 1009) [Store Width of Functional Image]   UN: b'`\\t\\x00\\x00'\n(0051, 100a) [Store level of Functional Image]   UN: b'\\x14\\x05\\x00\\x00'\n(0051, 100b) [Store B-Value with Functional Imag UN: b'\\x00\\x00zD'\n(0070, 0403) Relative Opacity                    FL: 0.5\n(7fe0, 0010) Pixel Data                          OW: Array of 131072 elements\n"
     ]
    },
    {
     "output_type": "display_data",
     "data": {
      "text/plain": "<Figure size 504x504 with 1 Axes>",
      "image/svg+xml": "<?xml version=\"1.0\" encoding=\"utf-8\" standalone=\"no\"?>\n<!DOCTYPE svg PUBLIC \"-//W3C//DTD SVG 1.1//EN\"\n  \"http://www.w3.org/Graphics/SVG/1.1/DTD/svg11.dtd\">\n<!-- Created with matplotlib (https://matplotlib.org/) -->\n<svg height=\"414.654141pt\" version=\"1.1\" viewBox=\"0 0 422.376016 414.654141\" width=\"422.376016pt\" xmlns=\"http://www.w3.org/2000/svg\" xmlns:xlink=\"http://www.w3.org/1999/xlink\">\n <metadata>\n  <rdf:RDF xmlns:cc=\"http://creativecommons.org/ns#\" xmlns:dc=\"http://purl.org/dc/elements/1.1/\" xmlns:rdf=\"http://www.w3.org/1999/02/22-rdf-syntax-ns#\">\n   <cc:Work>\n    <dc:type rdf:resource=\"http://purl.org/dc/dcmitype/StillImage\"/>\n    <dc:date>2021-03-23T14:12:02.531648</dc:date>\n    <dc:format>image/svg+xml</dc:format>\n    <dc:creator>\n     <cc:Agent>\n      <dc:title>Matplotlib v3.3.2, https://matplotlib.org/</dc:title>\n     </cc:Agent>\n    </dc:creator>\n   </cc:Work>\n  </rdf:RDF>\n </metadata>\n <defs>\n  <style type=\"text/css\">*{stroke-linecap:butt;stroke-linejoin:round;}</style>\n </defs>\n <g id=\"figure_1\">\n  <g id=\"patch_1\">\n   <path d=\"M 0 414.654141 \nL 422.376016 414.654141 \nL 422.376016 0 \nL 0 0 \nz\n\" style=\"fill:none;\"/>\n  </g>\n  <g id=\"axes_1\">\n   <g id=\"patch_2\">\n    <path d=\"M 33.2875 390.776016 \nL 413.8075 390.776016 \nL 413.8075 10.256016 \nL 33.2875 10.256016 \nz\n\" style=\"fill:#ffffff;\"/>\n   </g>\n   <g clip-path=\"url(#p990421cb76)\">\n    <image height=\"381\" id=\"image14f05e4e7b\" transform=\"scale(1 -1)translate(0 -381)\" width=\"381\" x=\"33.2875\" xlink:href=\"data:image/png;base64,\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\" y=\"-9.776016\"/>\n   </g>\n   <g id=\"matplotlib.axis_1\">\n    <g id=\"xtick_1\">\n     <g id=\"line2d_1\">\n      <defs>\n       <path d=\"M 0 0 \nL 0 3.5 \n\" id=\"mcf317ad83c\" style=\"stroke:#000000;stroke-width:0.8;\"/>\n      </defs>\n      <g>\n       <use style=\"stroke:#000000;stroke-width:0.8;\" x=\"34.030703\" xlink:href=\"#mcf317ad83c\" y=\"390.776016\"/>\n      </g>\n     </g>\n     <g id=\"text_1\">\n      <!-- 0 -->\n      <g transform=\"translate(30.849453 405.374453)scale(0.1 -0.1)\">\n       <defs>\n        <path d=\"M 31.78125 66.40625 \nQ 24.171875 66.40625 20.328125 58.90625 \nQ 16.5 51.421875 16.5 36.375 \nQ 16.5 21.390625 20.328125 13.890625 \nQ 24.171875 6.390625 31.78125 6.390625 \nQ 39.453125 6.390625 43.28125 13.890625 \nQ 47.125 21.390625 47.125 36.375 \nQ 47.125 51.421875 43.28125 58.90625 \nQ 39.453125 66.40625 31.78125 66.40625 \nz\nM 31.78125 74.21875 \nQ 44.046875 74.21875 50.515625 64.515625 \nQ 56.984375 54.828125 56.984375 36.375 \nQ 56.984375 17.96875 50.515625 8.265625 \nQ 44.046875 -1.421875 31.78125 -1.421875 \nQ 19.53125 -1.421875 13.0625 8.265625 \nQ 6.59375 17.96875 6.59375 36.375 \nQ 6.59375 54.828125 13.0625 64.515625 \nQ 19.53125 74.21875 31.78125 74.21875 \nz\n\" id=\"DejaVuSans-48\"/>\n       </defs>\n       <use xlink:href=\"#DejaVuSans-48\"/>\n      </g>\n     </g>\n    </g>\n    <g id=\"xtick_2\">\n     <g id=\"line2d_2\">\n      <g>\n       <use style=\"stroke:#000000;stroke-width:0.8;\" x=\"108.351016\" xlink:href=\"#mcf317ad83c\" y=\"390.776016\"/>\n      </g>\n     </g>\n     <g id=\"text_2\">\n      <!-- 50 -->\n      <g transform=\"translate(101.988516 405.374453)scale(0.1 -0.1)\">\n       <defs>\n        <path d=\"M 10.796875 72.90625 \nL 49.515625 72.90625 \nL 49.515625 64.59375 \nL 19.828125 64.59375 \nL 19.828125 46.734375 \nQ 21.96875 47.46875 24.109375 47.828125 \nQ 26.265625 48.1875 28.421875 48.1875 \nQ 40.625 48.1875 47.75 41.5 \nQ 54.890625 34.8125 54.890625 23.390625 \nQ 54.890625 11.625 47.5625 5.09375 \nQ 40.234375 -1.421875 26.90625 -1.421875 \nQ 22.3125 -1.421875 17.546875 -0.640625 \nQ 12.796875 0.140625 7.71875 1.703125 \nL 7.71875 11.625 \nQ 12.109375 9.234375 16.796875 8.0625 \nQ 21.484375 6.890625 26.703125 6.890625 \nQ 35.15625 6.890625 40.078125 11.328125 \nQ 45.015625 15.765625 45.015625 23.390625 \nQ 45.015625 31 40.078125 35.4375 \nQ 35.15625 39.890625 26.703125 39.890625 \nQ 22.75 39.890625 18.8125 39.015625 \nQ 14.890625 38.140625 10.796875 36.28125 \nz\n\" id=\"DejaVuSans-53\"/>\n       </defs>\n       <use xlink:href=\"#DejaVuSans-53\"/>\n       <use x=\"63.623047\" xlink:href=\"#DejaVuSans-48\"/>\n      </g>\n     </g>\n    </g>\n    <g id=\"xtick_3\">\n     <g id=\"line2d_3\">\n      <g>\n       <use style=\"stroke:#000000;stroke-width:0.8;\" x=\"182.671328\" xlink:href=\"#mcf317ad83c\" y=\"390.776016\"/>\n      </g>\n     </g>\n     <g id=\"text_3\">\n      <!-- 100 -->\n      <g transform=\"translate(173.127578 405.374453)scale(0.1 -0.1)\">\n       <defs>\n        <path d=\"M 12.40625 8.296875 \nL 28.515625 8.296875 \nL 28.515625 63.921875 \nL 10.984375 60.40625 \nL 10.984375 69.390625 \nL 28.421875 72.90625 \nL 38.28125 72.90625 \nL 38.28125 8.296875 \nL 54.390625 8.296875 \nL 54.390625 0 \nL 12.40625 0 \nz\n\" id=\"DejaVuSans-49\"/>\n       </defs>\n       <use xlink:href=\"#DejaVuSans-49\"/>\n       <use x=\"63.623047\" xlink:href=\"#DejaVuSans-48\"/>\n       <use x=\"127.246094\" xlink:href=\"#DejaVuSans-48\"/>\n      </g>\n     </g>\n    </g>\n    <g id=\"xtick_4\">\n     <g id=\"line2d_4\">\n      <g>\n       <use style=\"stroke:#000000;stroke-width:0.8;\" x=\"256.991641\" xlink:href=\"#mcf317ad83c\" y=\"390.776016\"/>\n      </g>\n     </g>\n     <g id=\"text_4\">\n      <!-- 150 -->\n      <g transform=\"translate(247.447891 405.374453)scale(0.1 -0.1)\">\n       <use xlink:href=\"#DejaVuSans-49\"/>\n       <use x=\"63.623047\" xlink:href=\"#DejaVuSans-53\"/>\n       <use x=\"127.246094\" xlink:href=\"#DejaVuSans-48\"/>\n      </g>\n     </g>\n    </g>\n    <g id=\"xtick_5\">\n     <g id=\"line2d_5\">\n      <g>\n       <use style=\"stroke:#000000;stroke-width:0.8;\" x=\"331.311953\" xlink:href=\"#mcf317ad83c\" y=\"390.776016\"/>\n      </g>\n     </g>\n     <g id=\"text_5\">\n      <!-- 200 -->\n      <g transform=\"translate(321.768203 405.374453)scale(0.1 -0.1)\">\n       <defs>\n        <path d=\"M 19.1875 8.296875 \nL 53.609375 8.296875 \nL 53.609375 0 \nL 7.328125 0 \nL 7.328125 8.296875 \nQ 12.9375 14.109375 22.625 23.890625 \nQ 32.328125 33.6875 34.8125 36.53125 \nQ 39.546875 41.84375 41.421875 45.53125 \nQ 43.3125 49.21875 43.3125 52.78125 \nQ 43.3125 58.59375 39.234375 62.25 \nQ 35.15625 65.921875 28.609375 65.921875 \nQ 23.96875 65.921875 18.8125 64.3125 \nQ 13.671875 62.703125 7.8125 59.421875 \nL 7.8125 69.390625 \nQ 13.765625 71.78125 18.9375 73 \nQ 24.125 74.21875 28.421875 74.21875 \nQ 39.75 74.21875 46.484375 68.546875 \nQ 53.21875 62.890625 53.21875 53.421875 \nQ 53.21875 48.921875 51.53125 44.890625 \nQ 49.859375 40.875 45.40625 35.40625 \nQ 44.1875 33.984375 37.640625 27.21875 \nQ 31.109375 20.453125 19.1875 8.296875 \nz\n\" id=\"DejaVuSans-50\"/>\n       </defs>\n       <use xlink:href=\"#DejaVuSans-50\"/>\n       <use x=\"63.623047\" xlink:href=\"#DejaVuSans-48\"/>\n       <use x=\"127.246094\" xlink:href=\"#DejaVuSans-48\"/>\n      </g>\n     </g>\n    </g>\n    <g id=\"xtick_6\">\n     <g id=\"line2d_6\">\n      <g>\n       <use style=\"stroke:#000000;stroke-width:0.8;\" x=\"405.632266\" xlink:href=\"#mcf317ad83c\" y=\"390.776016\"/>\n      </g>\n     </g>\n     <g id=\"text_6\">\n      <!-- 250 -->\n      <g transform=\"translate(396.088516 405.374453)scale(0.1 -0.1)\">\n       <use xlink:href=\"#DejaVuSans-50\"/>\n       <use x=\"63.623047\" xlink:href=\"#DejaVuSans-53\"/>\n       <use x=\"127.246094\" xlink:href=\"#DejaVuSans-48\"/>\n      </g>\n     </g>\n    </g>\n   </g>\n   <g id=\"matplotlib.axis_2\">\n    <g id=\"ytick_1\">\n     <g id=\"line2d_7\">\n      <defs>\n       <path d=\"M 0 0 \nL -3.5 0 \n\" id=\"mae04fab3e7\" style=\"stroke:#000000;stroke-width:0.8;\"/>\n      </defs>\n      <g>\n       <use style=\"stroke:#000000;stroke-width:0.8;\" x=\"33.2875\" xlink:href=\"#mae04fab3e7\" y=\"10.999219\"/>\n      </g>\n     </g>\n     <g id=\"text_7\">\n      <!-- 0 -->\n      <g transform=\"translate(19.925 14.798437)scale(0.1 -0.1)\">\n       <use xlink:href=\"#DejaVuSans-48\"/>\n      </g>\n     </g>\n    </g>\n    <g id=\"ytick_2\">\n     <g id=\"line2d_8\">\n      <g>\n       <use style=\"stroke:#000000;stroke-width:0.8;\" x=\"33.2875\" xlink:href=\"#mae04fab3e7\" y=\"85.319531\"/>\n      </g>\n     </g>\n     <g id=\"text_8\">\n      <!-- 50 -->\n      <g transform=\"translate(13.5625 89.11875)scale(0.1 -0.1)\">\n       <use xlink:href=\"#DejaVuSans-53\"/>\n       <use x=\"63.623047\" xlink:href=\"#DejaVuSans-48\"/>\n      </g>\n     </g>\n    </g>\n    <g id=\"ytick_3\">\n     <g id=\"line2d_9\">\n      <g>\n       <use style=\"stroke:#000000;stroke-width:0.8;\" x=\"33.2875\" xlink:href=\"#mae04fab3e7\" y=\"159.639844\"/>\n      </g>\n     </g>\n     <g id=\"text_9\">\n      <!-- 100 -->\n      <g transform=\"translate(7.2 163.439062)scale(0.1 -0.1)\">\n       <use xlink:href=\"#DejaVuSans-49\"/>\n       <use x=\"63.623047\" xlink:href=\"#DejaVuSans-48\"/>\n       <use x=\"127.246094\" xlink:href=\"#DejaVuSans-48\"/>\n      </g>\n     </g>\n    </g>\n    <g id=\"ytick_4\">\n     <g id=\"line2d_10\">\n      <g>\n       <use style=\"stroke:#000000;stroke-width:0.8;\" x=\"33.2875\" xlink:href=\"#mae04fab3e7\" y=\"233.960156\"/>\n      </g>\n     </g>\n     <g id=\"text_10\">\n      <!-- 150 -->\n      <g transform=\"translate(7.2 237.759375)scale(0.1 -0.1)\">\n       <use xlink:href=\"#DejaVuSans-49\"/>\n       <use x=\"63.623047\" xlink:href=\"#DejaVuSans-53\"/>\n       <use x=\"127.246094\" xlink:href=\"#DejaVuSans-48\"/>\n      </g>\n     </g>\n    </g>\n    <g id=\"ytick_5\">\n     <g id=\"line2d_11\">\n      <g>\n       <use style=\"stroke:#000000;stroke-width:0.8;\" x=\"33.2875\" xlink:href=\"#mae04fab3e7\" y=\"308.280469\"/>\n      </g>\n     </g>\n     <g id=\"text_11\">\n      <!-- 200 -->\n      <g transform=\"translate(7.2 312.079687)scale(0.1 -0.1)\">\n       <use xlink:href=\"#DejaVuSans-50\"/>\n       <use x=\"63.623047\" xlink:href=\"#DejaVuSans-48\"/>\n       <use x=\"127.246094\" xlink:href=\"#DejaVuSans-48\"/>\n      </g>\n     </g>\n    </g>\n    <g id=\"ytick_6\">\n     <g id=\"line2d_12\">\n      <g>\n       <use style=\"stroke:#000000;stroke-width:0.8;\" x=\"33.2875\" xlink:href=\"#mae04fab3e7\" y=\"382.600781\"/>\n      </g>\n     </g>\n     <g id=\"text_12\">\n      <!-- 250 -->\n      <g transform=\"translate(7.2 386.4)scale(0.1 -0.1)\">\n       <use xlink:href=\"#DejaVuSans-50\"/>\n       <use x=\"63.623047\" xlink:href=\"#DejaVuSans-53\"/>\n       <use x=\"127.246094\" xlink:href=\"#DejaVuSans-48\"/>\n      </g>\n     </g>\n    </g>\n   </g>\n   <g id=\"patch_3\">\n    <path d=\"M 33.2875 390.776016 \nL 33.2875 10.256016 \n\" style=\"fill:none;stroke:#000000;stroke-linecap:square;stroke-linejoin:miter;stroke-width:0.8;\"/>\n   </g>\n   <g id=\"patch_4\">\n    <path d=\"M 413.8075 390.776016 \nL 413.8075 10.256016 \n\" style=\"fill:none;stroke:#000000;stroke-linecap:square;stroke-linejoin:miter;stroke-width:0.8;\"/>\n   </g>\n   <g id=\"patch_5\">\n    <path d=\"M 33.2875 390.776016 \nL 413.8075 390.776016 \n\" style=\"fill:none;stroke:#000000;stroke-linecap:square;stroke-linejoin:miter;stroke-width:0.8;\"/>\n   </g>\n   <g id=\"patch_6\">\n    <path d=\"M 33.2875 10.256016 \nL 413.8075 10.256016 \n\" style=\"fill:none;stroke:#000000;stroke-linecap:square;stroke-linejoin:miter;stroke-width:0.8;\"/>\n   </g>\n  </g>\n </g>\n <defs>\n  <clipPath id=\"p990421cb76\">\n   <rect height=\"380.52\" width=\"380.52\" x=\"33.2875\" y=\"10.256016\"/>\n  </clipPath>\n </defs>\n</svg>\n",
      "image/png": "[encoded data removed]"
     },
     "metadata": {
      "needs_background": "light"
     }
    }
   ],
   "source": [
    "dcm, img = dicom2array(dcm_paths[1])\n",
    "print(f\"Dicom 0: \\n\", dcm)\n",
    "plot_img(img)"
   ]
  },
  {
   "cell_type": "code",
   "execution_count": 5,
   "metadata": {},
   "outputs": [
    {
     "output_type": "stream",
     "name": "stdout",
     "text": [
      "Series Number: 700\nSeries Description: Apparent Diffusion Coefficient (mm2/s)\nSlice Thickness: 5\nSpacing Between Slices: 6\nSice ThLocation: -53.68361664\nInstance Number: 3\nImage Position Patient: [-129.086, -132.089, -46.8369]\nSamples Per Pixel: 1\nRows: 256\nColumns: 256\n"
     ]
    }
   ],
   "source": [
    "print(f\"Series Number: {dcm.SeriesNumber}\")\n",
    "print(f\"Series Description: {dcm.SeriesDescription}\")\n",
    "print(f\"Slice Thickness: {dcm.SliceThickness}\")\n",
    "print(f\"Spacing Between Slices: {dcm.SpacingBetweenSlices}\")\n",
    "print(f\"Sice ThLocation: {dcm.SliceLocation}\")\n",
    "print(f\"Instance Number: {dcm.InstanceNumber}\")\n",
    "print(f\"Image Position Patient: {dcm.ImagePositionPatient}\")\n",
    "print(f\"Samples Per Pixel: {dcm.SamplesPerPixel}\")\n",
    "print(f\"Rows: {dcm.Rows}\")\n",
    "print(f\"Columns: {dcm.Columns}\")\n",
    "# Pixel Spacingdm.RowsPixelSpacingr\"int(f\"Rows\"Window Centerc.Rows}WindowCenteri\"nt(f\"Rows:\"Window WidthmRows})WindowWidth\"\n",
    "# print()f\"\"SSmallest Image Pixel Value Ơ{dcm.SmallestImagePixelValue}\n",
    "# print(f\"SmaLargestage Pixel Value: {dcm.SmaLargestgePixelValue}\")"
   ]
  },
  {
   "cell_type": "code",
   "execution_count": 256,
   "metadata": {
    "tags": []
   },
   "outputs": [
    {
     "output_type": "stream",
     "name": "stdout",
     "text": [
      "(512, 512, 707)\n"
     ]
    }
   ],
   "source": [
    "# study_path = '/media/tungthanhlee/DATA/brain-mri-tumor-dicom-masked/1.2.840.113619.6.410.92799438004935535719187645682270560917'\n",
    "\n",
    "# depth = len(os.listdir(study_path))\n",
    "# stack = np.empty((2512 2512 depth))\n",
    "# r dcm_i, file in aos.enumerate(os.listdir(study_path))   sdcm_path = os.path.join(study_path, dcm_file)\n",
    "#     dcm, img -= dicom2array(dcm_path)  \n",
    "#     if 'T1' in dcm.SeriesDescription:          \n",
    "#         k[:,:,i] = img  \n",
    "# p(ltastack.shape"
   ]
  },
  {
   "cell_type": "code",
   "execution_count": 244,
   "metadata": {},
   "outputs": [
    {
     "output_type": "execute_result",
     "data": {
      "text/plain": [
       "numpy.ndarray"
      ]
     },
     "metadata": {},
     "execution_count": 244
    }
   ],
   "source": []
  },
  {
   "cell_type": "code",
   "execution_count": 1,
   "metadata": {},
   "outputs": [],
   "source": [
    "# # Get the image shape and print it out\n",
    "# height, width, depth = img.shape\n",
    "# print(f\"The image object has the following dimensions: height: {height}, width:{width}, depth:{depth}, channels:{channels}\")"
   ]
  },
  {
   "cell_type": "code",
   "execution_count": null,
   "metadata": {},
   "outputs": [],
   "source": []
  },
  {
   "cell_type": "code",
   "execution_count": null,
   "metadata": {},
   "outputs": [],
   "source": []
  },
  {
   "cell_type": "code",
   "execution_count": null,
   "metadata": {},
   "outputs": [],
   "source": []
  },
  {
   "cell_type": "code",
   "execution_count": null,
   "metadata": {},
   "outputs": [],
   "source": []
  },
  {
   "source": [
    "## 3. Explore label"
   ],
   "cell_type": "markdown",
   "metadata": {}
  },
  {
   "cell_type": "code",
   "execution_count": 2,
   "metadata": {},
   "outputs": [
    {
     "output_type": "stream",
     "name": "stdout",
     "text": [
      "The number of total labels: 148\nPath of one label: /media/tungthanhlee/DATA/brain-mri-tumor-xml/1.2.840.113619.6.388.101774739834280643528361334251926593124/labels.xml\n"
     ]
    }
   ],
   "source": [
    "folder_label = \"/media/tungthanhlee/DATA/brain-mri-tumor-xml\"\n",
    "patient_folder = [os.path.join(folder_label, i) for i in os.listdir(folder_label)]\n",
    "labels_path = []\n",
    "for subdir in patient_folder:\n",
    "    for label_name in os.listdir(subdir):\n",
    "        label_path = os.path.join(subdir, label_name)\n",
    "        labels_path.append(label_path)\n",
    "print(\"The number of total labels:\", len(labels_path))\n",
    "print(\"Path of one label:\", labels_path[0])"
   ]
  },
  {
   "source": [
    "import pandas_read_xml as pdx\n",
    "\n",
    "df = pdx.read_xml(labels_path[5], [\"study_query\"])\n",
    "df"
   ],
   "cell_type": "code",
   "metadata": {},
   "execution_count": 3,
   "outputs": [
    {
     "output_type": "execute_result",
     "data": {
      "text/plain": [
       "                                                  @xmlns:xsi  \\\n",
       "@date              http://www.w3.org/2001/XMLSchema-instance   \n",
       "@modalityDicom     http://www.w3.org/2001/XMLSchema-instance   \n",
       "@numInstances      http://www.w3.org/2001/XMLSchema-instance   \n",
       "@numSeries         http://www.w3.org/2001/XMLSchema-instance   \n",
       "@patientPid        http://www.w3.org/2001/XMLSchema-instance   \n",
       "@studyDescription  http://www.w3.org/2001/XMLSchema-instance   \n",
       "diagnosis          http://www.w3.org/2001/XMLSchema-instance   \n",
       "label              http://www.w3.org/2001/XMLSchema-instance   \n",
       "patient            http://www.w3.org/2001/XMLSchema-instance   \n",
       "\n",
       "                                                               study  \n",
       "@date                                            2020-09-12 08:48:40  \n",
       "@modalityDicom                                                    MR  \n",
       "@numInstances                                                         \n",
       "@numSeries                                                            \n",
       "@patientPid                                                      YC4  \n",
       "@studyDescription                                                     \n",
       "diagnosis          [{'id': '907032', 'type': 'transcript', 'readi...  \n",
       "label              [{'@sessionId': 'BSDIEP', '@type': 'local', '@...  \n",
       "patient            {'@id': '787554', '@pid': 'YC4', '@name': '', ...  "
      ],
      "text/html": "<div>\n<style scoped>\n    .dataframe tbody tr th:only-of-type {\n        vertical-align: middle;\n    }\n\n    .dataframe tbody tr th {\n        vertical-align: top;\n    }\n\n    .dataframe thead th {\n        text-align: right;\n    }\n</style>\n<table border=\"1\" class=\"dataframe\">\n  <thead>\n    <tr style=\"text-align: right;\">\n      <th></th>\n      <th>@xmlns:xsi</th>\n      <th>study</th>\n    </tr>\n  </thead>\n  <tbody>\n    <tr>\n      <th>@date</th>\n      <td>http://www.w3.org/2001/XMLSchema-instance</td>\n      <td>2020-09-12 08:48:40</td>\n    </tr>\n    <tr>\n      <th>@modalityDicom</th>\n      <td>http://www.w3.org/2001/XMLSchema-instance</td>\n      <td>MR</td>\n    </tr>\n    <tr>\n      <th>@numInstances</th>\n      <td>http://www.w3.org/2001/XMLSchema-instance</td>\n      <td></td>\n    </tr>\n    <tr>\n      <th>@numSeries</th>\n      <td>http://www.w3.org/2001/XMLSchema-instance</td>\n      <td></td>\n    </tr>\n    <tr>\n      <th>@patientPid</th>\n      <td>http://www.w3.org/2001/XMLSchema-instance</td>\n      <td>YC4</td>\n    </tr>\n    <tr>\n      <th>@studyDescription</th>\n      <td>http://www.w3.org/2001/XMLSchema-instance</td>\n      <td></td>\n    </tr>\n    <tr>\n      <th>diagnosis</th>\n      <td>http://www.w3.org/2001/XMLSchema-instance</td>\n      <td>[{'id': '907032', 'type': 'transcript', 'readi...</td>\n    </tr>\n    <tr>\n      <th>label</th>\n      <td>http://www.w3.org/2001/XMLSchema-instance</td>\n      <td>[{'@sessionId': 'BSDIEP', '@type': 'local', '@...</td>\n    </tr>\n    <tr>\n      <th>patient</th>\n      <td>http://www.w3.org/2001/XMLSchema-instance</td>\n      <td>{'@id': '787554', '@pid': 'YC4', '@name': '', ...</td>\n    </tr>\n  </tbody>\n</table>\n</div>"
     },
     "metadata": {},
     "execution_count": 3
    }
   ]
  },
  {
   "source": [
    "### patientPid\n"
   ],
   "cell_type": "markdown",
   "metadata": {}
  },
  {
   "cell_type": "code",
   "execution_count": 4,
   "metadata": {},
   "outputs": [
    {
     "output_type": "execute_result",
     "data": {
      "text/plain": [
       "'YC4'"
      ]
     },
     "metadata": {},
     "execution_count": 4
    }
   ],
   "source": [
    "df[\"study\"][\"@patientPid\"]"
   ]
  },
  {
   "source": [
    "### diagnosis"
   ],
   "cell_type": "markdown",
   "metadata": {}
  },
  {
   "cell_type": "code",
   "execution_count": 5,
   "metadata": {},
   "outputs": [
    {
     "output_type": "execute_result",
     "data": {
      "text/plain": [
       "[OrderedDict([('id', '907032'),\n",
       "              ('type', 'transcript'),\n",
       "              ('reading', '-<br />'),\n",
       "              ('conclude', None)]),\n",
       " OrderedDict([('id', '907034'),\n",
       "              ('type', 'transcript'),\n",
       "              ('reading', '-<br />'),\n",
       "              ('conclude', None)])]"
      ]
     },
     "metadata": {},
     "execution_count": 5
    }
   ],
   "source": [
    "df[\"study\"][\"diagnosis\"]"
   ]
  },
  {
   "cell_type": "code",
   "execution_count": 6,
   "metadata": {},
   "outputs": [
    {
     "output_type": "stream",
     "name": "stdout",
     "text": [
      "907032\n907034\n"
     ]
    },
    {
     "output_type": "execute_result",
     "data": {
      "text/plain": [
       "['907032', '907034']"
      ]
     },
     "metadata": {},
     "execution_count": 6
    }
   ],
   "source": [
    "diagnosis_list = []\n",
    "for i in range(len(df[\"study\"][\"diagnosis\"])):\n",
    "    print(df[\"study\"][\"diagnosis\"][i][\"id\"])\n",
    "    diagnosis_list.append(df[\"study\"][\"diagnosis\"][i][\"id\"])\n",
    "diagnosis_list"
   ]
  },
  {
   "source": [
    "### label"
   ],
   "cell_type": "markdown",
   "metadata": {}
  },
  {
   "cell_type": "code",
   "execution_count": 7,
   "metadata": {},
   "outputs": [
    {
     "output_type": "execute_result",
     "data": {
      "text/plain": [
       "list"
      ]
     },
     "metadata": {},
     "execution_count": 7
    }
   ],
   "source": [
    "type(df[\"study\"][\"label\"])"
   ]
  },
  {
   "cell_type": "code",
   "execution_count": 8,
   "metadata": {},
   "outputs": [
    {
     "output_type": "execute_result",
     "data": {
      "text/plain": [
       "[OrderedDict([('@sessionId', 'BSDIEP'),\n",
       "              ('@type', 'local'),\n",
       "              ('@annotation', '20'),\n",
       "              ('@scope', ''),\n",
       "              ('@pointUnit', 'mm'),\n",
       "              ('@createTimestamp', '1610786567005'),\n",
       "              ('@imageUid', ''),\n",
       "              ('@seriesUid',\n",
       "               '1.2.840.113619.2.388.57473.14165493.19589.1599871326.514'),\n",
       "              ('@studyUid',\n",
       "               '1.2.840.113619.6.388.110095587501191797057351369086052343769'),\n",
       "              ('tags',\n",
       "               OrderedDict([('value',\n",
       "                             OrderedDict([('@name', 'Mass/Nodule')]))])),\n",
       "              ('point',\n",
       "               OrderedDict([('value',\n",
       "                             [OrderedDict([('@x', '32.771999359131'),\n",
       "                                           ('@y', '-24.319400787354'),\n",
       "                                           ('@z', '-1.5712599754333')]),\n",
       "                              OrderedDict([('@x', '47.808498382568'),\n",
       "                                           ('@y', '-24.319400787354'),\n",
       "                                           ('@z', '-1.5712599754333')]),\n",
       "                              OrderedDict([('@x', '47.808498382568'),\n",
       "                                           ('@y', '-12.551699638367'),\n",
       "                                           ('@z', '-1.5712599754333')]),\n",
       "                              OrderedDict([('@x', '32.771999359131'),\n",
       "                                           ('@y', '-12.551699638367'),\n",
       "                                           ('@z', '-1.5712599754333')]),\n",
       "                              OrderedDict([('@x', '28.84939956665'),\n",
       "                                           ('@y', '-29.549499511719'),\n",
       "                                           ('@z', '16.428699493408')]),\n",
       "                              OrderedDict([('@x', '61.537498474121'),\n",
       "                                           ('@y', '-29.549499511719'),\n",
       "                                           ('@z', '16.428699493408')]),\n",
       "                              OrderedDict([('@x', '61.537498474121'),\n",
       "                                           ('@y', '5.7535800933838'),\n",
       "                                           ('@z', '16.428699493408')]),\n",
       "                              OrderedDict([('@x', '28.84939956665'),\n",
       "                                           ('@y', '5.7535800933838'),\n",
       "                                           ('@z', '16.428699493408')]),\n",
       "                              OrderedDict([('@x', '37.348300933838'),\n",
       "                                           ('@y', '-18.435600280762'),\n",
       "                                           ('@z', '29.028699874878')]),\n",
       "                              OrderedDict([('@x', '48.462299346924'),\n",
       "                                           ('@y', '-18.435600280762'),\n",
       "                                           ('@z', '29.028699874878')]),\n",
       "                              OrderedDict([('@x', '48.462299346924'),\n",
       "                                           ('@y', '-6.0141100883484'),\n",
       "                                           ('@z', '29.028699874878')]),\n",
       "                              OrderedDict([('@x', '37.348300933838'),\n",
       "                                           ('@y', '-6.0141100883484'),\n",
       "                                           ('@z', '29.028699874878')])])]))]),\n",
       " OrderedDict([('@sessionId', 'BSDIEP'),\n",
       "              ('@type', 'local'),\n",
       "              ('@annotation', '20'),\n",
       "              ('@scope', ''),\n",
       "              ('@pointUnit', 'mm'),\n",
       "              ('@createTimestamp', '1610786615448'),\n",
       "              ('@imageUid', ''),\n",
       "              ('@seriesUid',\n",
       "               '1.2.840.113619.2.388.57473.14165493.19589.1599871326.514'),\n",
       "              ('@studyUid',\n",
       "               '1.2.840.113619.6.388.110095587501191797057351369086052343769'),\n",
       "              ('tags',\n",
       "               OrderedDict([('value',\n",
       "                             OrderedDict([('@name', 'Cerebral edema')]))])),\n",
       "              ('point',\n",
       "               OrderedDict([('value',\n",
       "                             [OrderedDict([('@x', '17.081699371338'),\n",
       "                                           ('@y', '-30.857000350952'),\n",
       "                                           ('@z', '-8.7712602615356')]),\n",
       "                              OrderedDict([('@x', '51.077301025391'),\n",
       "                                           ('@y', '-30.857000350952'),\n",
       "                                           ('@z', '-8.7712602615356')]),\n",
       "                              OrderedDict([('@x', '51.077301025391'),\n",
       "                                           ('@y', '-4.0528302192688'),\n",
       "                                           ('@z', '-8.7712602615356')]),\n",
       "                              OrderedDict([('@x', '17.081699371338'),\n",
       "                                           ('@y', '-4.0528302192688'),\n",
       "                                           ('@z', '-8.7712602615356')]),\n",
       "                              OrderedDict([('@x', '-18.221300125122'),\n",
       "                                           ('@y', '-37.394599914551'),\n",
       "                                           ('@z', '23.628700256348')]),\n",
       "                              OrderedDict([('@x', '72.651397705078'),\n",
       "                                           ('@y', '-37.394599914551'),\n",
       "                                           ('@z', '23.628700256348')]),\n",
       "                              OrderedDict([('@x', '72.651397705078'),\n",
       "                                           ('@y', '58.054401397705'),\n",
       "                                           ('@z', '23.628700256348')]),\n",
       "                              OrderedDict([('@x', '-18.221300125122'),\n",
       "                                           ('@y', '58.054401397705'),\n",
       "                                           ('@z', '23.628700256348')]),\n",
       "                              OrderedDict([('@x', '19.042999267578'),\n",
       "                                           ('@y', '39.749099731445'),\n",
       "                                           ('@z', '79.428703308105')]),\n",
       "                              OrderedDict([('@x', '41.270900726318'),\n",
       "                                           ('@y', '39.749099731445'),\n",
       "                                           ('@z', '79.428703308105')]),\n",
       "                              OrderedDict([('@x', '41.270900726318'),\n",
       "                                           ('@y', '65.899597167969'),\n",
       "                                           ('@z', '79.428703308105')]),\n",
       "                              OrderedDict([('@x', '19.042999267578'),\n",
       "                                           ('@y', '65.899597167969'),\n",
       "                                           ('@z', '79.428703308105')])])]))]),\n",
       " OrderedDict([('@sessionId', 'BSDIEP'),\n",
       "              ('@type', 'local'),\n",
       "              ('@annotation', '20'),\n",
       "              ('@scope', ''),\n",
       "              ('@pointUnit', 'mm'),\n",
       "              ('@createTimestamp', '1610786675676'),\n",
       "              ('@imageUid', ''),\n",
       "              ('@seriesUid',\n",
       "               '1.2.840.113619.2.388.57473.14165493.19589.1599871326.514'),\n",
       "              ('@studyUid',\n",
       "               '1.2.840.113619.6.388.110095587501191797057351369086052343769'),\n",
       "              ('tags',\n",
       "               OrderedDict([('value',\n",
       "                             OrderedDict([('@name', 'Midline shift')]))])),\n",
       "              ('point',\n",
       "               OrderedDict([('value',\n",
       "                             [OrderedDict([('@x', '-22.797700881958'),\n",
       "                                           ('@y', '-15.82050037384'),\n",
       "                                           ('@z', '16.428699493408')]),\n",
       "                              OrderedDict([('@x', '0.083960898220539'),\n",
       "                                           ('@y', '-15.82050037384'),\n",
       "                                           ('@z', '16.428699493408')]),\n",
       "                              OrderedDict([('@x', '0.083960898220539'),\n",
       "                                           ('@y', '37.787899017334'),\n",
       "                                           ('@z', '16.428699493408')]),\n",
       "                              OrderedDict([('@x', '-22.797700881958'),\n",
       "                                           ('@y', '37.787899017334'),\n",
       "                                           ('@z', '16.428699493408')]),\n",
       "                              OrderedDict([('@x', '-26.066499710083'),\n",
       "                                           ('@y', '-16.474300384521'),\n",
       "                                           ('@z', '29.028699874878')]),\n",
       "                              OrderedDict([('@x', '5.3140501976013'),\n",
       "                                           ('@y', '-16.474300384521'),\n",
       "                                           ('@z', '29.028699874878')]),\n",
       "                              OrderedDict([('@x', '5.3140501976013'),\n",
       "                                           ('@y', '43.01789855957'),\n",
       "                                           ('@z', '29.028699874878')]),\n",
       "                              OrderedDict([('@x', '-26.066499710083'),\n",
       "                                           ('@y', '43.01789855957'),\n",
       "                                           ('@z', '29.028699874878')]),\n",
       "                              OrderedDict([('@x', '-22.797700881958'),\n",
       "                                           ('@y', '-15.82050037384'),\n",
       "                                           ('@z', '45.228698730469')]),\n",
       "                              OrderedDict([('@x', '0.083960898220539'),\n",
       "                                           ('@y', '-15.82050037384'),\n",
       "                                           ('@z', '45.228698730469')]),\n",
       "                              OrderedDict([('@x', '0.083960898220539'),\n",
       "                                           ('@y', '37.787899017334'),\n",
       "                                           ('@z', '45.228698730469')]),\n",
       "                              OrderedDict([('@x', '-22.797700881958'),\n",
       "                                           ('@y', '37.787899017334'),\n",
       "                                           ('@z', '45.228698730469')])])]))]),\n",
       " OrderedDict([('@sessionId', 'BSDIEP'),\n",
       "              ('@type', 'global'),\n",
       "              ('@annotation', '-1'),\n",
       "              ('@scope', 'series'),\n",
       "              ('@pointUnit', ''),\n",
       "              ('@createTimestamp', '1610786705773'),\n",
       "              ('@imageUid', ''),\n",
       "              ('@seriesUid',\n",
       "               '1.2.840.113619.2.388.57473.14165493.19589.1599871326.514'),\n",
       "              ('@studyUid',\n",
       "               '1.2.840.113619.6.388.110095587501191797057351369086052343769'),\n",
       "              ('tags',\n",
       "               OrderedDict([('value', OrderedDict([('@name', 'Glioma')]))])),\n",
       "              ('point', None)])]"
      ]
     },
     "metadata": {},
     "execution_count": 8
    }
   ],
   "source": [
    "df[\"study\"][\"label\"]"
   ]
  },
  {
   "cell_type": "code",
   "execution_count": 9,
   "metadata": {},
   "outputs": [
    {
     "output_type": "execute_result",
     "data": {
      "text/plain": [
       "OrderedDict([('@sessionId', 'BSDIEP'),\n",
       "             ('@type', 'local'),\n",
       "             ('@annotation', '20'),\n",
       "             ('@scope', ''),\n",
       "             ('@pointUnit', 'mm'),\n",
       "             ('@createTimestamp', '1610786567005'),\n",
       "             ('@imageUid', ''),\n",
       "             ('@seriesUid',\n",
       "              '1.2.840.113619.2.388.57473.14165493.19589.1599871326.514'),\n",
       "             ('@studyUid',\n",
       "              '1.2.840.113619.6.388.110095587501191797057351369086052343769'),\n",
       "             ('tags',\n",
       "              OrderedDict([('value',\n",
       "                            OrderedDict([('@name', 'Mass/Nodule')]))])),\n",
       "             ('point',\n",
       "              OrderedDict([('value',\n",
       "                            [OrderedDict([('@x', '32.771999359131'),\n",
       "                                          ('@y', '-24.319400787354'),\n",
       "                                          ('@z', '-1.5712599754333')]),\n",
       "                             OrderedDict([('@x', '47.808498382568'),\n",
       "                                          ('@y', '-24.319400787354'),\n",
       "                                          ('@z', '-1.5712599754333')]),\n",
       "                             OrderedDict([('@x', '47.808498382568'),\n",
       "                                          ('@y', '-12.551699638367'),\n",
       "                                          ('@z', '-1.5712599754333')]),\n",
       "                             OrderedDict([('@x', '32.771999359131'),\n",
       "                                          ('@y', '-12.551699638367'),\n",
       "                                          ('@z', '-1.5712599754333')]),\n",
       "                             OrderedDict([('@x', '28.84939956665'),\n",
       "                                          ('@y', '-29.549499511719'),\n",
       "                                          ('@z', '16.428699493408')]),\n",
       "                             OrderedDict([('@x', '61.537498474121'),\n",
       "                                          ('@y', '-29.549499511719'),\n",
       "                                          ('@z', '16.428699493408')]),\n",
       "                             OrderedDict([('@x', '61.537498474121'),\n",
       "                                          ('@y', '5.7535800933838'),\n",
       "                                          ('@z', '16.428699493408')]),\n",
       "                             OrderedDict([('@x', '28.84939956665'),\n",
       "                                          ('@y', '5.7535800933838'),\n",
       "                                          ('@z', '16.428699493408')]),\n",
       "                             OrderedDict([('@x', '37.348300933838'),\n",
       "                                          ('@y', '-18.435600280762'),\n",
       "                                          ('@z', '29.028699874878')]),\n",
       "                             OrderedDict([('@x', '48.462299346924'),\n",
       "                                          ('@y', '-18.435600280762'),\n",
       "                                          ('@z', '29.028699874878')]),\n",
       "                             OrderedDict([('@x', '48.462299346924'),\n",
       "                                          ('@y', '-6.0141100883484'),\n",
       "                                          ('@z', '29.028699874878')]),\n",
       "                             OrderedDict([('@x', '37.348300933838'),\n",
       "                                          ('@y', '-6.0141100883484'),\n",
       "                                          ('@z', '29.028699874878')])])]))])"
      ]
     },
     "metadata": {},
     "execution_count": 9
    }
   ],
   "source": [
    "df[\"study\"][\"label\"][0]"
   ]
  },
  {
   "cell_type": "code",
   "execution_count": null,
   "metadata": {},
   "outputs": [],
   "source": []
  },
  {
   "cell_type": "code",
   "execution_count": 10,
   "metadata": {},
   "outputs": [
    {
     "output_type": "execute_result",
     "data": {
      "text/plain": [
       "collections.OrderedDict"
      ]
     },
     "metadata": {},
     "execution_count": 10
    }
   ],
   "source": [
    "type(df[\"study\"][\"label\"][0])"
   ]
  },
  {
   "cell_type": "code",
   "execution_count": 11,
   "metadata": {},
   "outputs": [
    {
     "output_type": "execute_result",
     "data": {
      "text/plain": [
       "OrderedDict([('@sessionId', 'BSDIEP'),\n",
       "             ('@type', 'local'),\n",
       "             ('@annotation', '20'),\n",
       "             ('@scope', ''),\n",
       "             ('@pointUnit', 'mm'),\n",
       "             ('@createTimestamp', '1610786567005'),\n",
       "             ('@imageUid', ''),\n",
       "             ('@seriesUid',\n",
       "              '1.2.840.113619.2.388.57473.14165493.19589.1599871326.514'),\n",
       "             ('@studyUid',\n",
       "              '1.2.840.113619.6.388.110095587501191797057351369086052343769'),\n",
       "             ('tags',\n",
       "              OrderedDict([('value',\n",
       "                            OrderedDict([('@name', 'Mass/Nodule')]))])),\n",
       "             ('point',\n",
       "              OrderedDict([('value',\n",
       "                            [OrderedDict([('@x', '32.771999359131'),\n",
       "                                          ('@y', '-24.319400787354'),\n",
       "                                          ('@z', '-1.5712599754333')]),\n",
       "                             OrderedDict([('@x', '47.808498382568'),\n",
       "                                          ('@y', '-24.319400787354'),\n",
       "                                          ('@z', '-1.5712599754333')]),\n",
       "                             OrderedDict([('@x', '47.808498382568'),\n",
       "                                          ('@y', '-12.551699638367'),\n",
       "                                          ('@z', '-1.5712599754333')]),\n",
       "                             OrderedDict([('@x', '32.771999359131'),\n",
       "                                          ('@y', '-12.551699638367'),\n",
       "                                          ('@z', '-1.5712599754333')]),\n",
       "                             OrderedDict([('@x', '28.84939956665'),\n",
       "                                          ('@y', '-29.549499511719'),\n",
       "                                          ('@z', '16.428699493408')]),\n",
       "                             OrderedDict([('@x', '61.537498474121'),\n",
       "                                          ('@y', '-29.549499511719'),\n",
       "                                          ('@z', '16.428699493408')]),\n",
       "                             OrderedDict([('@x', '61.537498474121'),\n",
       "                                          ('@y', '5.7535800933838'),\n",
       "                                          ('@z', '16.428699493408')]),\n",
       "                             OrderedDict([('@x', '28.84939956665'),\n",
       "                                          ('@y', '5.7535800933838'),\n",
       "                                          ('@z', '16.428699493408')]),\n",
       "                             OrderedDict([('@x', '37.348300933838'),\n",
       "                                          ('@y', '-18.435600280762'),\n",
       "                                          ('@z', '29.028699874878')]),\n",
       "                             OrderedDict([('@x', '48.462299346924'),\n",
       "                                          ('@y', '-18.435600280762'),\n",
       "                                          ('@z', '29.028699874878')]),\n",
       "                             OrderedDict([('@x', '48.462299346924'),\n",
       "                                          ('@y', '-6.0141100883484'),\n",
       "                                          ('@z', '29.028699874878')]),\n",
       "                             OrderedDict([('@x', '37.348300933838'),\n",
       "                                          ('@y', '-6.0141100883484'),\n",
       "                                          ('@z', '29.028699874878')])])]))])"
      ]
     },
     "metadata": {},
     "execution_count": 11
    }
   ],
   "source": [
    "df[\"study\"][\"label\"][0]"
   ]
  },
  {
   "cell_type": "code",
   "execution_count": 12,
   "metadata": {},
   "outputs": [
    {
     "output_type": "execute_result",
     "data": {
      "text/plain": [
       "odict_keys(['@sessionId', '@type', '@annotation', '@scope', '@pointUnit', '@createTimestamp', '@imageUid', '@seriesUid', '@studyUid', 'tags', 'point'])"
      ]
     },
     "metadata": {},
     "execution_count": 12
    }
   ],
   "source": [
    "df[\"study\"][\"label\"][0].keys()"
   ]
  },
  {
   "cell_type": "code",
   "execution_count": 13,
   "metadata": {},
   "outputs": [
    {
     "output_type": "execute_result",
     "data": {
      "text/plain": [
       "odict_values(['BSDIEP', 'local', '20', '', 'mm', '1610786567005', '', '1.2.840.113619.2.388.57473.14165493.19589.1599871326.514', '1.2.840.113619.6.388.110095587501191797057351369086052343769', OrderedDict([('value', OrderedDict([('@name', 'Mass/Nodule')]))]), OrderedDict([('value', [OrderedDict([('@x', '32.771999359131'), ('@y', '-24.319400787354'), ('@z', '-1.5712599754333')]), OrderedDict([('@x', '47.808498382568'), ('@y', '-24.319400787354'), ('@z', '-1.5712599754333')]), OrderedDict([('@x', '47.808498382568'), ('@y', '-12.551699638367'), ('@z', '-1.5712599754333')]), OrderedDict([('@x', '32.771999359131'), ('@y', '-12.551699638367'), ('@z', '-1.5712599754333')]), OrderedDict([('@x', '28.84939956665'), ('@y', '-29.549499511719'), ('@z', '16.428699493408')]), OrderedDict([('@x', '61.537498474121'), ('@y', '-29.549499511719'), ('@z', '16.428699493408')]), OrderedDict([('@x', '61.537498474121'), ('@y', '5.7535800933838'), ('@z', '16.428699493408')]), OrderedDict([('@x', '28.84939956665'), ('@y', '5.7535800933838'), ('@z', '16.428699493408')]), OrderedDict([('@x', '37.348300933838'), ('@y', '-18.435600280762'), ('@z', '29.028699874878')]), OrderedDict([('@x', '48.462299346924'), ('@y', '-18.435600280762'), ('@z', '29.028699874878')]), OrderedDict([('@x', '48.462299346924'), ('@y', '-6.0141100883484'), ('@z', '29.028699874878')]), OrderedDict([('@x', '37.348300933838'), ('@y', '-6.0141100883484'), ('@z', '29.028699874878')])])])])"
      ]
     },
     "metadata": {},
     "execution_count": 13
    }
   ],
   "source": [
    "df[\"study\"][\"label\"][0].values()"
   ]
  },
  {
   "cell_type": "code",
   "execution_count": 14,
   "metadata": {},
   "outputs": [
    {
     "output_type": "execute_result",
     "data": {
      "text/plain": [
       "OrderedDict([('@x', '32.771999359131'),\n",
       "             ('@y', '-24.319400787354'),\n",
       "             ('@z', '-1.5712599754333')])"
      ]
     },
     "metadata": {},
     "execution_count": 14
    }
   ],
   "source": [
    "df[\"study\"][\"label\"][0][\"point\"][\"value\"][0]"
   ]
  },
  {
   "cell_type": "code",
   "execution_count": 15,
   "metadata": {},
   "outputs": [
    {
     "output_type": "execute_result",
     "data": {
      "text/plain": [
       "'Mass/Nodule'"
      ]
     },
     "metadata": {},
     "execution_count": 15
    }
   ],
   "source": [
    "df[\"study\"][\"label\"][0][\"tags\"][\"value\"][\"@name\"]"
   ]
  },
  {
   "cell_type": "code",
   "execution_count": 16,
   "metadata": {},
   "outputs": [
    {
     "output_type": "execute_result",
     "data": {
      "text/plain": [
       "1"
      ]
     },
     "metadata": {},
     "execution_count": 16
    }
   ],
   "source": [
    "len(df[\"study\"][\"label\"][0][\"tags\"][\"value\"])"
   ]
  },
  {
   "cell_type": "code",
   "execution_count": 17,
   "metadata": {},
   "outputs": [
    {
     "output_type": "execute_result",
     "data": {
      "text/plain": [
       "OrderedDict([('value',\n",
       "              [OrderedDict([('@x', '32.771999359131'),\n",
       "                            ('@y', '-24.319400787354'),\n",
       "                            ('@z', '-1.5712599754333')]),\n",
       "               OrderedDict([('@x', '47.808498382568'),\n",
       "                            ('@y', '-24.319400787354'),\n",
       "                            ('@z', '-1.5712599754333')]),\n",
       "               OrderedDict([('@x', '47.808498382568'),\n",
       "                            ('@y', '-12.551699638367'),\n",
       "                            ('@z', '-1.5712599754333')]),\n",
       "               OrderedDict([('@x', '32.771999359131'),\n",
       "                            ('@y', '-12.551699638367'),\n",
       "                            ('@z', '-1.5712599754333')]),\n",
       "               OrderedDict([('@x', '28.84939956665'),\n",
       "                            ('@y', '-29.549499511719'),\n",
       "                            ('@z', '16.428699493408')]),\n",
       "               OrderedDict([('@x', '61.537498474121'),\n",
       "                            ('@y', '-29.549499511719'),\n",
       "                            ('@z', '16.428699493408')]),\n",
       "               OrderedDict([('@x', '61.537498474121'),\n",
       "                            ('@y', '5.7535800933838'),\n",
       "                            ('@z', '16.428699493408')]),\n",
       "               OrderedDict([('@x', '28.84939956665'),\n",
       "                            ('@y', '5.7535800933838'),\n",
       "                            ('@z', '16.428699493408')]),\n",
       "               OrderedDict([('@x', '37.348300933838'),\n",
       "                            ('@y', '-18.435600280762'),\n",
       "                            ('@z', '29.028699874878')]),\n",
       "               OrderedDict([('@x', '48.462299346924'),\n",
       "                            ('@y', '-18.435600280762'),\n",
       "                            ('@z', '29.028699874878')]),\n",
       "               OrderedDict([('@x', '48.462299346924'),\n",
       "                            ('@y', '-6.0141100883484'),\n",
       "                            ('@z', '29.028699874878')]),\n",
       "               OrderedDict([('@x', '37.348300933838'),\n",
       "                            ('@y', '-6.0141100883484'),\n",
       "                            ('@z', '29.028699874878')])])])"
      ]
     },
     "metadata": {},
     "execution_count": 17
    }
   ],
   "source": [
    "# Point (x, y, z)\n",
    "df[\"study\"][\"label\"][0][\"point\"]"
   ]
  },
  {
   "cell_type": "code",
   "execution_count": 18,
   "metadata": {},
   "outputs": [
    {
     "output_type": "execute_result",
     "data": {
      "text/plain": [
       "11"
      ]
     },
     "metadata": {},
     "execution_count": 18
    }
   ],
   "source": [
    "len(df[\"study\"][\"label\"][0])"
   ]
  },
  {
   "cell_type": "code",
   "execution_count": 19,
   "metadata": {},
   "outputs": [
    {
     "output_type": "execute_result",
     "data": {
      "text/plain": [
       "'32.771999359131'"
      ]
     },
     "metadata": {},
     "execution_count": 19
    }
   ],
   "source": [
    "# x-axis\n",
    "df[\"study\"][\"label\"][0][\"point\"][\"value\"][0][\"@x\"]"
   ]
  },
  {
   "cell_type": "code",
   "execution_count": 20,
   "metadata": {},
   "outputs": [],
   "source": [
    "key_columns = ['@patientPid', 'diagnosis', '@sessionId', '@type', '@annotation', '@scope', '@pointUnit', '@createTimestamp', '@imageUid', '@seriesUid', '@studyUid', 'tags', 'point']\n"
   ]
  },
  {
   "source": [
    "# Extract information from 1 file .xml"
   ],
   "cell_type": "markdown",
   "metadata": {}
  },
  {
   "cell_type": "code",
   "execution_count": 21,
   "metadata": {},
   "outputs": [
    {
     "output_type": "stream",
     "name": "stdout",
     "text": [
      "The number of total labels: 148\n/media/tungthanhlee/DATA/brain-mri-tumor-xml/1.2.840.113619.6.388.101774739834280643528361334251926593124/labels.xml\n"
     ]
    }
   ],
   "source": [
    "import os\n",
    "import numpy as np\n",
    "import matplotlib.pyplot as plt\n",
    "import pydicom\n",
    "import pandas_read_xml as pdx\n",
    "from pydicom.pixel_data_handlers.util import apply_voi_lut\n",
    "from collections import OrderedDict\n",
    "\n",
    "\n",
    "folder_label = \"/media/tungthanhlee/DATA/brain-mri-tumor-xml\"\n",
    "patient_folder = [os.path.join(folder_label, i) for i in os.listdir(folder_label)]\n",
    "labels_path = []\n",
    "for subdir in patient_folder:\n",
    "    for label_name in os.listdir(subdir):\n",
    "        label_path = os.path.join(subdir, label_name)\n",
    "        labels_path.append(label_path)\n",
    "print(\"The number of total labels:\", len(labels_path))\n",
    "print(labels_path[0])\n"
   ]
  },
  {
   "cell_type": "code",
   "execution_count": 22,
   "metadata": {},
   "outputs": [
    {
     "output_type": "stream",
     "name": "stdout",
     "text": [
      "****************************************************************************************************\nname_xml_list:\n ['1.2.840.113619.6.388.110095587501191797057351369086052343769', '1.2.840.113619.6.388.110095587501191797057351369086052343769', '1.2.840.113619.6.388.110095587501191797057351369086052343769', '1.2.840.113619.6.388.110095587501191797057351369086052343769']\npatientPid_list:\n ['YC4', 'YC4', 'YC4']\ndiagnosis_list:\n [['907032', '907034'], ['907032', '907034'], ['907032', '907034']]\nsessionId_list:\n ['BSDIEP', 'BSDIEP', 'BSDIEP']\ntype_list:\n ['local', 'local', 'local']\nannotation_list:\n ['20', '20', '20']\nscope_list:\n ['', '', '']\npointUnit_list:\n ['mm', 'mm', 'mm']\ncreateTimestamp_list:\n ['1610786567005', '1610786615448', '1610786675676']\nimageUid_list:\n ['', '', '']\nseriesUid_list:\n ['1.2.840.113619.2.388.57473.14165493.19589.1599871326.514', '1.2.840.113619.2.388.57473.14165493.19589.1599871326.514', '1.2.840.113619.2.388.57473.14165493.19589.1599871326.514']\nstudyUid_list:\n ['1.2.840.113619.6.388.110095587501191797057351369086052343769', '1.2.840.113619.6.388.110095587501191797057351369086052343769', '1.2.840.113619.6.388.110095587501191797057351369086052343769']\ntags_list:\n ['Mass/Nodule', 'Cerebral edema', 'Midline shift']\npoint_list:\n [[[32.771999359131, -24.319400787354, -1.5712599754333], [47.808498382568, -24.319400787354, -1.5712599754333], [47.808498382568, -12.551699638367, -1.5712599754333], [32.771999359131, -12.551699638367, -1.5712599754333], [28.84939956665, -29.549499511719, 16.428699493408], [61.537498474121, -29.549499511719, 16.428699493408], [61.537498474121, 5.7535800933838, 16.428699493408], [28.84939956665, 5.7535800933838, 16.428699493408], [37.348300933838, -18.435600280762, 29.028699874878], [48.462299346924, -18.435600280762, 29.028699874878], [48.462299346924, -6.0141100883484, 29.028699874878], [37.348300933838, -6.0141100883484, 29.028699874878]], [[17.081699371338, -30.857000350952, -8.7712602615356], [51.077301025391, -30.857000350952, -8.7712602615356], [51.077301025391, -4.0528302192688, -8.7712602615356], [17.081699371338, -4.0528302192688, -8.7712602615356], [-18.221300125122, -37.394599914551, 23.628700256348], [72.651397705078, -37.394599914551, 23.628700256348], [72.651397705078, 58.054401397705, 23.628700256348], [-18.221300125122, 58.054401397705, 23.628700256348], [19.042999267578, 39.749099731445, 79.428703308105], [41.270900726318, 39.749099731445, 79.428703308105], [41.270900726318, 65.899597167969, 79.428703308105], [19.042999267578, 65.899597167969, 79.428703308105]], [[-22.797700881958, -15.82050037384, 16.428699493408], [0.083960898220539, -15.82050037384, 16.428699493408], [0.083960898220539, 37.787899017334, 16.428699493408], [-22.797700881958, 37.787899017334, 16.428699493408], [-26.066499710083, -16.474300384521, 29.028699874878], [5.3140501976013, -16.474300384521, 29.028699874878], [5.3140501976013, 43.01789855957, 29.028699874878], [-26.066499710083, 43.01789855957, 29.028699874878], [-22.797700881958, -15.82050037384, 45.228698730469], [0.083960898220539, -15.82050037384, 45.228698730469], [0.083960898220539, 37.787899017334, 45.228698730469], [-22.797700881958, 37.787899017334, 45.228698730469]]]\n"
     ]
    }
   ],
   "source": [
    "df = pdx.read_xml(labels_path[5], [\"study_query\"])\n",
    "\n",
    "name_xml_list = []\n",
    "patientPid_list = []\n",
    "diagnosis_list = []\n",
    "sessionId_list = []\n",
    "type_list = []\n",
    "annotation_list = []\n",
    "scope_list = []\n",
    "pointUnit_list = []\n",
    "createTimestamp_list = []\n",
    "imageUid_list = []\n",
    "seriesUid_list = []\n",
    "studyUid_list = []\n",
    "tags_list = []\n",
    "point_list = []\n",
    "\n",
    "for idx1 in range(len(df[\"study\"][\"label\"])):\n",
    "    name_xml = labels_path[5].split('/')[-2]\n",
    "    name_xml_list.append(name_xml)\n",
    "    obj = df[\"study\"][\"label\"][idx1]\n",
    "    # point_list\n",
    "    sub_points = []\n",
    "    if not obj[\"point\"] == None: \n",
    "        if not obj[\"point\"][\"value\"] == None:\n",
    "            if len(obj[\"point\"][\"value\"]) == 1:\n",
    "                    x = np.float(obj[\"point\"][\"value\"][0][\"@x\"])\n",
    "                    y = np.float(obj[\"point\"][\"value\"][0][\"@y\"])\n",
    "                    z = np.float(obj[\"point\"][\"value\"][0][\"@z\"])\n",
    "                    one_point.append(x)\n",
    "                    one_point.append(y)\n",
    "                    one_point.append(z)\n",
    "                    sub_points.append(one_point)\n",
    "            else:\n",
    "                for i in range(12):\n",
    "                    one_point = []\n",
    "                    x = np.float(obj[\"point\"][\"value\"][i][\"@x\"])\n",
    "                    y = np.float(obj[\"point\"][\"value\"][i][\"@y\"])\n",
    "                    z = np.float(obj[\"point\"][\"value\"][i][\"@z\"])\n",
    "                    one_point.append(x)\n",
    "                    one_point.append(y)\n",
    "                    one_point.append(z)\n",
    "                    sub_points.append(one_point)\n",
    "            if not sub_points == []:\n",
    "                point_list.append(sub_points)\n",
    "                # patientPid_list\n",
    "                patientPid_list.append(df[\"study\"][\"@patientPid\"])\n",
    "                # diagnosis_list\n",
    "                diagnosis_sub = []\n",
    "                for idx2 in range(len(df[\"study\"][\"diagnosis\"])):\n",
    "                    diagnosis_sub.append(df[\"study\"][\"diagnosis\"][idx2][\"id\"])\n",
    "                diagnosis_list.append(diagnosis_sub)\n",
    "                # sessionId_list\n",
    "                sessionId_list.append(obj[\"@sessionId\"])\n",
    "                # type_list\n",
    "                type_list.append(obj[\"@type\"])\n",
    "                # annotation_list\n",
    "                annotation_list.append(obj[\"@annotation\"])\n",
    "                # scope_list\n",
    "                scope_list.append(obj[\"@scope\"])\n",
    "                # pointUnit_list\n",
    "                pointUnit_list.append(obj[\"@pointUnit\"])\n",
    "                # createTimestamp\n",
    "                createTimestamp_list.append(obj[\"@createTimestamp\"])\n",
    "                # imageUid_list \n",
    "                imageUid_list.append(obj[\"@imageUid\"])\n",
    "                # seriesUid_list\n",
    "                seriesUid_list.append(obj[\"@seriesUid\"])\n",
    "                # studyUid_list\n",
    "                studyUid_list.append(obj[\"@studyUid\"])\n",
    "                # tags_list: \n",
    "                if len(obj[\"tags\"][\"value\"]) == 1:\n",
    "                    tags_list.append(obj[\"tags\"][\"value\"][\"@name\"])\n",
    "                else: # tags have more than 1\n",
    "                    sub_tags_list = []\n",
    "                    print(len(obj[\"tags\"][\"value\"]))\n",
    "                    for l in range(len(obj[\"tags\"][\"value\"])):   \n",
    "                        sub_tags_list.append(obj[\"tags\"][\"value\"][l][\"@name\"])\n",
    "                    tags_list.append(sub_tags_list)\n",
    "\n",
    "\n",
    "# print(len(patientPid_list))\n",
    "# print(len(diagnosis_list))\n",
    "# print(len(sessionId_list))\n",
    "# print(len(type_list))\n",
    "# print(len(annotation_list))\n",
    "# print(len(scope_list))\n",
    "# print(len(pointUnit_list))\n",
    "# print(len(createTimestamp_list))\n",
    "# print(len(imageUid_list))\n",
    "# print(len(seriesUid_list))\n",
    "# print(len(studyUid_list))\n",
    "# print(len(tags_list))\n",
    "# print(len(point_list))\n",
    "print(\"*\"*100)\n",
    "print(\"name_xml_list:\\n\", name_xml_list)\n",
    "print(\"patientPid_list:\\n\", patientPid_list)\n",
    "print(\"diagnosis_list:\\n\", diagnosis_list)\n",
    "print(\"sessionId_list:\\n\", sessionId_list)\n",
    "print(\"type_list:\\n\", type_list)\n",
    "print(\"annotation_list:\\n\", annotation_list)\n",
    "print(\"scope_list:\\n\", scope_list)\n",
    "print(\"pointUnit_list:\\n\", pointUnit_list)\n",
    "print(\"createTimestamp_list:\\n\", createTimestamp_list)\n",
    "print(\"imageUid_list:\\n\", imageUid_list)\n",
    "print(\"seriesUid_list:\\n\", seriesUid_list)\n",
    "print(\"studyUid_list:\\n\", studyUid_list)\n",
    "print(\"tags_list:\\n\", tags_list)\n",
    "print(\"point_list:\\n\", point_list)"
   ]
  },
  {
   "source": [
    "# Extract information from folder .xml"
   ],
   "cell_type": "markdown",
   "metadata": {}
  },
  {
   "cell_type": "code",
   "execution_count": 23,
   "metadata": {},
   "outputs": [
    {
     "output_type": "stream",
     "name": "stdout",
     "text": [
      "0\n",
      "0\n",
      "0\n",
      "***************************************************************************************************\n",
      "512\n",
      "512\n",
      "512\n",
      "512\n",
      "512\n",
      "512\n",
      "512\n",
      "512\n",
      "512\n",
      "512\n",
      "512\n",
      "512\n",
      "512\n",
      "512\n"
     ]
    }
   ],
   "source": [
    "xml_name_list = []\n",
    "patientPid_list = []\n",
    "diagnosis_list = []\n",
    "sessionId_list = []\n",
    "type_list = []\n",
    "annotation_list = []\n",
    "scope_list = []\n",
    "pointUnit_list = []\n",
    "createTimestamp_list = []\n",
    "imageUid_list = []\n",
    "seriesUid_list = []\n",
    "studyUid_list = []\n",
    "tags_list = []\n",
    "point_list = []\n",
    "\n",
    "for j in range(len(labels_path)):\n",
    "    df = pdx.read_xml(labels_path[j], [\"study_query\"])\n",
    "\n",
    "    for idx1 in range(len(df[\"study\"][\"label\"])):\n",
    "        try:\n",
    "\n",
    "            name_xml = labels_path[j].split('/')[-2]\n",
    "            obj = df[\"study\"][\"label\"][idx1]\n",
    "            # point_list\n",
    "            sub_points = []\n",
    "            if obj[\"point\"] == None:\n",
    "                sub_points.append(\"None\")\n",
    "            elif obj[\"point\"][\"value\"] == None:\n",
    "                sub_points.append(\"None\")\n",
    "            else:\n",
    "                if len(obj[\"point\"][\"value\"]) == 1:\n",
    "                    x = np.float(obj[\"point\"][\"value\"][0][\"@x\"])\n",
    "                    y = np.float(obj[\"point\"][\"value\"][0][\"@y\"])\n",
    "                    z = np.float(obj[\"point\"][\"value\"][0][\"@z\"])\n",
    "                    one_point.append(x)\n",
    "                    one_point.append(y)\n",
    "                    one_point.append(z)\n",
    "                    sub_points.append(one_point)\n",
    "                else:\n",
    "                    for i in range(len(obj[\"point\"][\"value\"])):\n",
    "                        one_point = []\n",
    "                        x = np.float(obj[\"point\"][\"value\"][i][\"@x\"])\n",
    "                        y = np.float(obj[\"point\"][\"value\"][i][\"@y\"])\n",
    "                        z = np.float(obj[\"point\"][\"value\"][i][\"@z\"])\n",
    "                        one_point.append(x)\n",
    "                        one_point.append(y)\n",
    "                        one_point.append(z)\n",
    "                        sub_points.append(one_point)\n",
    "            # xml_name_list \n",
    "            xml_name_list.append(name_xml)\n",
    "            # point_list\n",
    "            point_list.append(sub_points)\n",
    "            # patientPid_list\n",
    "            patientPid_list.append(df[\"study\"][\"@patientPid\"])\n",
    "            # diagnosis_list\n",
    "            diagnosis_sub = []\n",
    "            for idx2 in range(len(df[\"study\"][\"diagnosis\"])):\n",
    "                diagnosis_sub.append(df[\"study\"][\"diagnosis\"][idx2][\"id\"])\n",
    "            diagnosis_list.append(diagnosis_sub)\n",
    "            # sessionId_list\n",
    "            sessionId_list.append(obj[\"@sessionId\"])\n",
    "            # type_list\n",
    "            type_list.append(obj[\"@type\"])\n",
    "            # annotation_list\n",
    "            annotation_list.append(obj[\"@annotation\"])\n",
    "            # scope_list\n",
    "            scope_list.append(obj[\"@scope\"])\n",
    "            # pointUnit_list\n",
    "            pointUnit_list.append(obj[\"@pointUnit\"])\n",
    "            # createTimestamp\n",
    "            createTimestamp_list.append(obj[\"@createTimestamp\"])\n",
    "            # imageUid_list \n",
    "            imageUid_list.append(obj[\"@imageUid\"])\n",
    "            # seriesUid_list\n",
    "            seriesUid_list.append(obj[\"@seriesUid\"])\n",
    "            # studyUid_list\n",
    "            studyUid_list.append(obj[\"@studyUid\"])\n",
    "            # tags_list: \n",
    "            if len(obj[\"tags\"][\"value\"]) == 1:\n",
    "                tags_list.append(obj[\"tags\"][\"value\"][\"@name\"])\n",
    "            else: # tags have more than 1\n",
    "                sub_tags_list = []\n",
    "                for l in range(len(obj[\"tags\"][\"value\"])):   \n",
    "                    sub_tags_list.append(obj[\"tags\"][\"value\"][l][\"@name\"])\n",
    "                tags_list.append(sub_tags_list)\n",
    "\n",
    "        except Exception as e:\n",
    "            print(e)\n",
    "\n",
    "print(\"*\"*99)\n",
    "print(len(xml_name_list))\n",
    "print(len(patientPid_list))\n",
    "print(len(diagnosis_list))\n",
    "print(len(sessionId_list))\n",
    "print(len(type_list))\n",
    "print(len(annotation_list))\n",
    "print(len(scope_list))\n",
    "print(len(pointUnit_list))\n",
    "print(len(createTimestamp_list))\n",
    "print(len(imageUid_list))\n",
    "print(len(seriesUid_list))\n",
    "print(len(studyUid_list))\n",
    "print(len(tags_list))\n",
    "print(len(point_list))"
   ]
  },
  {
   "cell_type": "code",
   "execution_count": null,
   "metadata": {},
   "outputs": [],
   "source": []
  },
  {
   "source": [
    "# Export dataframe to file csv, xlsx, pickle"
   ],
   "cell_type": "markdown",
   "metadata": {}
  },
  {
   "cell_type": "code",
   "execution_count": 24,
   "metadata": {},
   "outputs": [],
   "source": [
    "import pandas as pd\n",
    "\n",
    "data = {'xml_name': xml_name_list,\n",
    "        'patientPid': patientPid_list,\n",
    "        'diagnosis': diagnosis_list,  \n",
    "        'sessionId': sessionId_list,\n",
    "        'type': type_list,\n",
    "        'annotation': annotation_list,\n",
    "        'scope': scope_list,\n",
    "        'pointUnit': pointUnit_list,\n",
    "        'createTimestamp': createTimestamp_list,\n",
    "        'imageUid': imageUid_list,\n",
    "        'seriesUid': seriesUid_list,\n",
    "        'studyUid': studyUid_list,\n",
    "        'tags': tags_list,\n",
    "        'point': point_list\n",
    "        }\n",
    "\n",
    "cols = ['xml_name', 'patientPid', 'diagnosis', 'sessionId', 'type', 'annotation', 'scope', 'pointUnit', 'createTimestamp', 'imageUid', 'seriesUid', 'studyUid', 'tags', 'point']\n",
    "dfame = pd.DataFrame(data, columns=cols)\n",
    "\n",
    "# dfame = pd.DataFrame(data, columns=['patientPid', 'diagnosis', 'tags', 'point'])\n",
    "## dfame.to_csv('//media/tungthanhlee/DATA/brain-mri-edasummary/summary.csv')"
   ]
  },
  {
   "cell_type": "code",
   "execution_count": 25,
   "metadata": {},
   "outputs": [],
   "source": [
    "dfame.to_excel('/media/tungthanhlee/DATA/brain-mri-eda/summary.xlsx')"
   ]
  },
  {
   "cell_type": "code",
   "execution_count": 26,
   "metadata": {},
   "outputs": [],
   "source": [
    "dfame.to_pickle('/media/tungthanhlee/DATA/brain-mri-eda/summary.pkl')"
   ]
  },
  {
   "cell_type": "code",
   "execution_count": 27,
   "metadata": {},
   "outputs": [
    {
     "output_type": "execute_result",
     "data": {
      "text/plain": [
       "                                              xml_name patientPid  \\\n",
       "0    1.2.840.113619.6.388.1017747398342806435283613...       YC21   \n",
       "1    1.2.840.113619.6.388.1017747398342806435283613...       YC21   \n",
       "2    1.2.840.113619.6.388.1017747398342806435283613...       YC21   \n",
       "3    1.2.840.113619.6.388.1017747398342806435283613...       YC21   \n",
       "4    1.2.840.113619.6.388.1067388807510514152787160...     23 BHK   \n",
       "..                                                 ...        ...   \n",
       "507  1.2.840.113619.6.410.6718953729125917342083405...     DV P57   \n",
       "508  1.2.840.113619.6.410.7201826919570282850193720...     DV F23   \n",
       "509  1.2.840.113619.6.410.7201826919570282850193720...     DV F23   \n",
       "510  1.2.840.113619.6.410.9279943800493553571918764...     DV F57   \n",
       "511  1.2.840.113619.6.410.9279943800493553571918764...     DV F57   \n",
       "\n",
       "            diagnosis sessionId    type annotation   scope pointUnit  \\\n",
       "0    [908910, 908912]    BSDIEP   local         20                mm   \n",
       "1    [908910, 908912]    BSDIEP   local         20                mm   \n",
       "2    [908910, 908912]    BSDIEP   local         20                mm   \n",
       "3    [908910, 908912]    BSDIEP  global         -1  series             \n",
       "4    [841808, 841810]    BSDIEP   local         20                mm   \n",
       "..                ...       ...     ...        ...     ...       ...   \n",
       "507  [912482, 912484]    BSDIEP  global         -1  series             \n",
       "508  [906048, 906050]    BSDIEP   local         20                mm   \n",
       "509  [906048, 906050]    BSDIEP  global         -1  series             \n",
       "510  [913340, 913342]    BSDIEP   local         20                mm   \n",
       "511  [913340, 913342]    BSDIEP  global         -1  series             \n",
       "\n",
       "    createTimestamp imageUid  \\\n",
       "0     1610884981375            \n",
       "1     1610885017001            \n",
       "2     1610885075681            \n",
       "3     1610885136683            \n",
       "4     1607483610460            \n",
       "..              ...      ...   \n",
       "507   1611441661993            \n",
       "508   1610726793465            \n",
       "509   1610726821329            \n",
       "510   1611481704955            \n",
       "511   1611481734402            \n",
       "\n",
       "                                             seriesUid  \\\n",
       "0    1.2.840.113619.2.388.57473.14165493.12654.1599...   \n",
       "1    1.2.840.113619.2.388.57473.14165493.12654.1599...   \n",
       "2    1.2.840.113619.2.388.57473.14165493.12654.1599...   \n",
       "3    1.2.840.113619.2.388.57473.14165493.12654.1599...   \n",
       "4    1.2.840.113619.2.388.57473.14165493.13177.1591...   \n",
       "..                                                 ...   \n",
       "507  1.2.840.113619.2.410.15512023.5814788.13131.15...   \n",
       "508  1.2.840.113619.2.410.15512023.5814788.13104.16...   \n",
       "509  1.2.840.113619.2.410.15512023.5814788.13104.16...   \n",
       "510  1.2.840.113619.2.410.15512023.5814788.28593.15...   \n",
       "511  1.2.840.113619.2.410.15512023.5814788.28593.15...   \n",
       "\n",
       "                                              studyUid  \\\n",
       "0    1.2.840.113619.6.388.1017747398342806435283613...   \n",
       "1    1.2.840.113619.6.388.1017747398342806435283613...   \n",
       "2    1.2.840.113619.6.388.1017747398342806435283613...   \n",
       "3    1.2.840.113619.6.388.1017747398342806435283613...   \n",
       "4    1.2.840.113619.6.388.1067388807510514152787160...   \n",
       "..                                                 ...   \n",
       "507  1.2.840.113619.6.410.6718953729125917342083405...   \n",
       "508  1.2.840.113619.6.410.7201826919570282850193720...   \n",
       "509  1.2.840.113619.6.410.7201826919570282850193720...   \n",
       "510  1.2.840.113619.6.410.9279943800493553571918764...   \n",
       "511  1.2.840.113619.6.410.9279943800493553571918764...   \n",
       "\n",
       "                                            tags  \\\n",
       "0                                    Mass/Nodule   \n",
       "1                                 Cerebral edema   \n",
       "2                                  Midline shift   \n",
       "3                                     Meningioma   \n",
       "4                                    Mass/Nodule   \n",
       "..                                           ...   \n",
       "507  [Cerebral tumor, Cerebral vascular disease]   \n",
       "508                                  Mass/Nodule   \n",
       "509                            Pituitary adenoma   \n",
       "510                                  Mass/Nodule   \n",
       "511                                   Meningioma   \n",
       "\n",
       "                                                 point  \n",
       "0    [[-12.035799980164, -70.509002685547, -40.1687...  \n",
       "1    [[-46.030101776123, -54.770900726318, -36.5686...  \n",
       "2    [[-0.074838802218437, -44.698501586914, -18.56...  \n",
       "3                                               [None]  \n",
       "4    [[-1.3457000255585, -22.289400100708, -15.3137...  \n",
       "..                                                 ...  \n",
       "507                                             [None]  \n",
       "508  [[-11.559499740601, -5.1256899833679, -56.9049...  \n",
       "509                                             [None]  \n",
       "510  [[-22.561500549316, 18.221099853516, -40.00730...  \n",
       "511                                             [None]  \n",
       "\n",
       "[512 rows x 14 columns]"
      ],
      "text/html": "<div>\n<style scoped>\n    .dataframe tbody tr th:only-of-type {\n        vertical-align: middle;\n    }\n\n    .dataframe tbody tr th {\n        vertical-align: top;\n    }\n\n    .dataframe thead th {\n        text-align: right;\n    }\n</style>\n<table border=\"1\" class=\"dataframe\">\n  <thead>\n    <tr style=\"text-align: right;\">\n      <th></th>\n      <th>xml_name</th>\n      <th>patientPid</th>\n      <th>diagnosis</th>\n      <th>sessionId</th>\n      <th>type</th>\n      <th>annotation</th>\n      <th>scope</th>\n      <th>pointUnit</th>\n      <th>createTimestamp</th>\n      <th>imageUid</th>\n      <th>seriesUid</th>\n      <th>studyUid</th>\n      <th>tags</th>\n      <th>point</th>\n    </tr>\n  </thead>\n  <tbody>\n    <tr>\n      <th>0</th>\n      <td>1.2.840.113619.6.388.1017747398342806435283613...</td>\n      <td>YC21</td>\n      <td>[908910, 908912]</td>\n      <td>BSDIEP</td>\n      <td>local</td>\n      <td>20</td>\n      <td></td>\n      <td>mm</td>\n      <td>1610884981375</td>\n      <td></td>\n      <td>1.2.840.113619.2.388.57473.14165493.12654.1599...</td>\n      <td>1.2.840.113619.6.388.1017747398342806435283613...</td>\n      <td>Mass/Nodule</td>\n      <td>[[-12.035799980164, -70.509002685547, -40.1687...</td>\n    </tr>\n    <tr>\n      <th>1</th>\n      <td>1.2.840.113619.6.388.1017747398342806435283613...</td>\n      <td>YC21</td>\n      <td>[908910, 908912]</td>\n      <td>BSDIEP</td>\n      <td>local</td>\n      <td>20</td>\n      <td></td>\n      <td>mm</td>\n      <td>1610885017001</td>\n      <td></td>\n      <td>1.2.840.113619.2.388.57473.14165493.12654.1599...</td>\n      <td>1.2.840.113619.6.388.1017747398342806435283613...</td>\n      <td>Cerebral edema</td>\n      <td>[[-46.030101776123, -54.770900726318, -36.5686...</td>\n    </tr>\n    <tr>\n      <th>2</th>\n      <td>1.2.840.113619.6.388.1017747398342806435283613...</td>\n      <td>YC21</td>\n      <td>[908910, 908912]</td>\n      <td>BSDIEP</td>\n      <td>local</td>\n      <td>20</td>\n      <td></td>\n      <td>mm</td>\n      <td>1610885075681</td>\n      <td></td>\n      <td>1.2.840.113619.2.388.57473.14165493.12654.1599...</td>\n      <td>1.2.840.113619.6.388.1017747398342806435283613...</td>\n      <td>Midline shift</td>\n      <td>[[-0.074838802218437, -44.698501586914, -18.56...</td>\n    </tr>\n    <tr>\n      <th>3</th>\n      <td>1.2.840.113619.6.388.1017747398342806435283613...</td>\n      <td>YC21</td>\n      <td>[908910, 908912]</td>\n      <td>BSDIEP</td>\n      <td>global</td>\n      <td>-1</td>\n      <td>series</td>\n      <td></td>\n      <td>1610885136683</td>\n      <td></td>\n      <td>1.2.840.113619.2.388.57473.14165493.12654.1599...</td>\n      <td>1.2.840.113619.6.388.1017747398342806435283613...</td>\n      <td>Meningioma</td>\n      <td>[None]</td>\n    </tr>\n    <tr>\n      <th>4</th>\n      <td>1.2.840.113619.6.388.1067388807510514152787160...</td>\n      <td>23 BHK</td>\n      <td>[841808, 841810]</td>\n      <td>BSDIEP</td>\n      <td>local</td>\n      <td>20</td>\n      <td></td>\n      <td>mm</td>\n      <td>1607483610460</td>\n      <td></td>\n      <td>1.2.840.113619.2.388.57473.14165493.13177.1591...</td>\n      <td>1.2.840.113619.6.388.1067388807510514152787160...</td>\n      <td>Mass/Nodule</td>\n      <td>[[-1.3457000255585, -22.289400100708, -15.3137...</td>\n    </tr>\n    <tr>\n      <th>...</th>\n      <td>...</td>\n      <td>...</td>\n      <td>...</td>\n      <td>...</td>\n      <td>...</td>\n      <td>...</td>\n      <td>...</td>\n      <td>...</td>\n      <td>...</td>\n      <td>...</td>\n      <td>...</td>\n      <td>...</td>\n      <td>...</td>\n      <td>...</td>\n    </tr>\n    <tr>\n      <th>507</th>\n      <td>1.2.840.113619.6.410.6718953729125917342083405...</td>\n      <td>DV P57</td>\n      <td>[912482, 912484]</td>\n      <td>BSDIEP</td>\n      <td>global</td>\n      <td>-1</td>\n      <td>series</td>\n      <td></td>\n      <td>1611441661993</td>\n      <td></td>\n      <td>1.2.840.113619.2.410.15512023.5814788.13131.15...</td>\n      <td>1.2.840.113619.6.410.6718953729125917342083405...</td>\n      <td>[Cerebral tumor, Cerebral vascular disease]</td>\n      <td>[None]</td>\n    </tr>\n    <tr>\n      <th>508</th>\n      <td>1.2.840.113619.6.410.7201826919570282850193720...</td>\n      <td>DV F23</td>\n      <td>[906048, 906050]</td>\n      <td>BSDIEP</td>\n      <td>local</td>\n      <td>20</td>\n      <td></td>\n      <td>mm</td>\n      <td>1610726793465</td>\n      <td></td>\n      <td>1.2.840.113619.2.410.15512023.5814788.13104.16...</td>\n      <td>1.2.840.113619.6.410.7201826919570282850193720...</td>\n      <td>Mass/Nodule</td>\n      <td>[[-11.559499740601, -5.1256899833679, -56.9049...</td>\n    </tr>\n    <tr>\n      <th>509</th>\n      <td>1.2.840.113619.6.410.7201826919570282850193720...</td>\n      <td>DV F23</td>\n      <td>[906048, 906050]</td>\n      <td>BSDIEP</td>\n      <td>global</td>\n      <td>-1</td>\n      <td>series</td>\n      <td></td>\n      <td>1610726821329</td>\n      <td></td>\n      <td>1.2.840.113619.2.410.15512023.5814788.13104.16...</td>\n      <td>1.2.840.113619.6.410.7201826919570282850193720...</td>\n      <td>Pituitary adenoma</td>\n      <td>[None]</td>\n    </tr>\n    <tr>\n      <th>510</th>\n      <td>1.2.840.113619.6.410.9279943800493553571918764...</td>\n      <td>DV F57</td>\n      <td>[913340, 913342]</td>\n      <td>BSDIEP</td>\n      <td>local</td>\n      <td>20</td>\n      <td></td>\n      <td>mm</td>\n      <td>1611481704955</td>\n      <td></td>\n      <td>1.2.840.113619.2.410.15512023.5814788.28593.15...</td>\n      <td>1.2.840.113619.6.410.9279943800493553571918764...</td>\n      <td>Mass/Nodule</td>\n      <td>[[-22.561500549316, 18.221099853516, -40.00730...</td>\n    </tr>\n    <tr>\n      <th>511</th>\n      <td>1.2.840.113619.6.410.9279943800493553571918764...</td>\n      <td>DV F57</td>\n      <td>[913340, 913342]</td>\n      <td>BSDIEP</td>\n      <td>global</td>\n      <td>-1</td>\n      <td>series</td>\n      <td></td>\n      <td>1611481734402</td>\n      <td></td>\n      <td>1.2.840.113619.2.410.15512023.5814788.28593.15...</td>\n      <td>1.2.840.113619.6.410.9279943800493553571918764...</td>\n      <td>Meningioma</td>\n      <td>[None]</td>\n    </tr>\n  </tbody>\n</table>\n<p>512 rows × 14 columns</p>\n</div>"
     },
     "metadata": {},
     "execution_count": 27
    }
   ],
   "source": [
    "dfame"
   ]
  },
  {
   "cell_type": "code",
   "execution_count": 28,
   "metadata": {},
   "outputs": [
    {
     "output_type": "stream",
     "name": "stdout",
     "text": [
      "Unique values of column type:\n ['local' 'global']\n"
     ]
    }
   ],
   "source": [
    "print(f\"Unique values of column type:\\n\", dfame[\"type\"].unique())"
   ]
  },
  {
   "source": [
    "## Extract rows have tags which are equal 'global' "
   ],
   "cell_type": "markdown",
   "metadata": {}
  },
  {
   "cell_type": "code",
   "execution_count": 29,
   "metadata": {},
   "outputs": [
    {
     "output_type": "execute_result",
     "data": {
      "text/plain": [
       "     index                                           xml_name patientPid  \\\n",
       "0        3  1.2.840.113619.6.388.1017747398342806435283613...       YC21   \n",
       "1        5  1.2.840.113619.6.388.1067388807510514152787160...     23 BHK   \n",
       "2       14  1.2.840.113619.6.388.1081120408802499059158946...       YC11   \n",
       "3       16  1.2.840.113619.6.388.1085857506259653239604053...       YC63   \n",
       "4       20  1.2.840.113619.6.388.1086680686963790084220790...      DV 63   \n",
       "..     ...                                                ...        ...   \n",
       "147    500  1.2.840.113619.6.410.3703626307294449374407781...      DV F6   \n",
       "148    504  1.2.840.113619.6.410.6640772753983381136153803...    BHQH CC   \n",
       "149    507  1.2.840.113619.6.410.6718953729125917342083405...     DV P57   \n",
       "150    509  1.2.840.113619.6.410.7201826919570282850193720...     DV F23   \n",
       "151    511  1.2.840.113619.6.410.9279943800493553571918764...     DV F57   \n",
       "\n",
       "            diagnosis sessionId    type annotation   scope pointUnit  \\\n",
       "0    [908910, 908912]    BSDIEP  global         -1  series             \n",
       "1    [841808, 841810]    BSDIEP  global         -1  series             \n",
       "2    [914778, 914780]    BSDIEP  global         -1  series             \n",
       "3    [889934, 889936]    BSDIEP  global         -1  series             \n",
       "4    [841576, 841578]    BSDIEP  global         -1  series             \n",
       "..                ...       ...     ...        ...     ...       ...   \n",
       "147  [912576, 912578]    BSDIEP  global         -1  series             \n",
       "148  [911252, 911254]    BSDIEP  global         -1  series             \n",
       "149  [912482, 912484]    BSDIEP  global         -1  series             \n",
       "150  [906048, 906050]    BSDIEP  global         -1  series             \n",
       "151  [913340, 913342]    BSDIEP  global         -1  series             \n",
       "\n",
       "    createTimestamp imageUid  \\\n",
       "0     1610885136683            \n",
       "1     1607483647730            \n",
       "2     1611612229880            \n",
       "3     1609206874365            \n",
       "4     1607479639458            \n",
       "..              ...      ...   \n",
       "147   1611444603106            \n",
       "148   1611243632863            \n",
       "149   1611441661993            \n",
       "150   1610726821329            \n",
       "151   1611481734402            \n",
       "\n",
       "                                             seriesUid  \\\n",
       "0    1.2.840.113619.2.388.57473.14165493.12654.1599...   \n",
       "1    1.2.840.113619.2.388.57473.14165493.13177.1591...   \n",
       "2    1.2.840.113619.2.388.57473.14165493.12404.1597...   \n",
       "3    1.2.840.113619.2.388.57473.14165493.13307.1595...   \n",
       "4    1.2.840.113619.2.388.57473.14165493.12954.1590...   \n",
       "..                                                 ...   \n",
       "147  1.2.840.113619.2.410.15512023.5814788.13143.15...   \n",
       "148  1.2.840.113619.2.410.15512023.5814788.13178.16...   \n",
       "149  1.2.840.113619.2.410.15512023.5814788.13131.15...   \n",
       "150  1.2.840.113619.2.410.15512023.5814788.13104.16...   \n",
       "151  1.2.840.113619.2.410.15512023.5814788.28593.15...   \n",
       "\n",
       "                                              studyUid  \\\n",
       "0    1.2.840.113619.6.388.1017747398342806435283613...   \n",
       "1    1.2.840.113619.6.388.1067388807510514152787160...   \n",
       "2    1.2.840.113619.6.388.1081120408802499059158946...   \n",
       "3    1.2.840.113619.6.388.1085857506259653239604053...   \n",
       "4    1.2.840.113619.6.388.1086680686963790084220790...   \n",
       "..                                                 ...   \n",
       "147  1.2.840.113619.6.410.3703626307294449374407781...   \n",
       "148  1.2.840.113619.6.410.6640772753983381136153803...   \n",
       "149  1.2.840.113619.6.410.6718953729125917342083405...   \n",
       "150  1.2.840.113619.6.410.7201826919570282850193720...   \n",
       "151  1.2.840.113619.6.410.9279943800493553571918764...   \n",
       "\n",
       "                                                  tags   point  \n",
       "0                                           Meningioma  [None]  \n",
       "1                                    Pituitary adenoma  [None]  \n",
       "2    [Sinus disease, Cerebral tumor, Intracranial m...  [None]  \n",
       "3                                            Cavernoma  [None]  \n",
       "4                                               Glioma  [None]  \n",
       "..                                                 ...     ...  \n",
       "147          [Cerebral tumor, Intracranial metastasis]  [None]  \n",
       "148                                     Cerebral tumor  [None]  \n",
       "149        [Cerebral tumor, Cerebral vascular disease]  [None]  \n",
       "150                                  Pituitary adenoma  [None]  \n",
       "151                                         Meningioma  [None]  \n",
       "\n",
       "[152 rows x 15 columns]"
      ],
      "text/html": "<div>\n<style scoped>\n    .dataframe tbody tr th:only-of-type {\n        vertical-align: middle;\n    }\n\n    .dataframe tbody tr th {\n        vertical-align: top;\n    }\n\n    .dataframe thead th {\n        text-align: right;\n    }\n</style>\n<table border=\"1\" class=\"dataframe\">\n  <thead>\n    <tr style=\"text-align: right;\">\n      <th></th>\n      <th>index</th>\n      <th>xml_name</th>\n      <th>patientPid</th>\n      <th>diagnosis</th>\n      <th>sessionId</th>\n      <th>type</th>\n      <th>annotation</th>\n      <th>scope</th>\n      <th>pointUnit</th>\n      <th>createTimestamp</th>\n      <th>imageUid</th>\n      <th>seriesUid</th>\n      <th>studyUid</th>\n      <th>tags</th>\n      <th>point</th>\n    </tr>\n  </thead>\n  <tbody>\n    <tr>\n      <th>0</th>\n      <td>3</td>\n      <td>1.2.840.113619.6.388.1017747398342806435283613...</td>\n      <td>YC21</td>\n      <td>[908910, 908912]</td>\n      <td>BSDIEP</td>\n      <td>global</td>\n      <td>-1</td>\n      <td>series</td>\n      <td></td>\n      <td>1610885136683</td>\n      <td></td>\n      <td>1.2.840.113619.2.388.57473.14165493.12654.1599...</td>\n      <td>1.2.840.113619.6.388.1017747398342806435283613...</td>\n      <td>Meningioma</td>\n      <td>[None]</td>\n    </tr>\n    <tr>\n      <th>1</th>\n      <td>5</td>\n      <td>1.2.840.113619.6.388.1067388807510514152787160...</td>\n      <td>23 BHK</td>\n      <td>[841808, 841810]</td>\n      <td>BSDIEP</td>\n      <td>global</td>\n      <td>-1</td>\n      <td>series</td>\n      <td></td>\n      <td>1607483647730</td>\n      <td></td>\n      <td>1.2.840.113619.2.388.57473.14165493.13177.1591...</td>\n      <td>1.2.840.113619.6.388.1067388807510514152787160...</td>\n      <td>Pituitary adenoma</td>\n      <td>[None]</td>\n    </tr>\n    <tr>\n      <th>2</th>\n      <td>14</td>\n      <td>1.2.840.113619.6.388.1081120408802499059158946...</td>\n      <td>YC11</td>\n      <td>[914778, 914780]</td>\n      <td>BSDIEP</td>\n      <td>global</td>\n      <td>-1</td>\n      <td>series</td>\n      <td></td>\n      <td>1611612229880</td>\n      <td></td>\n      <td>1.2.840.113619.2.388.57473.14165493.12404.1597...</td>\n      <td>1.2.840.113619.6.388.1081120408802499059158946...</td>\n      <td>[Sinus disease, Cerebral tumor, Intracranial m...</td>\n      <td>[None]</td>\n    </tr>\n    <tr>\n      <th>3</th>\n      <td>16</td>\n      <td>1.2.840.113619.6.388.1085857506259653239604053...</td>\n      <td>YC63</td>\n      <td>[889934, 889936]</td>\n      <td>BSDIEP</td>\n      <td>global</td>\n      <td>-1</td>\n      <td>series</td>\n      <td></td>\n      <td>1609206874365</td>\n      <td></td>\n      <td>1.2.840.113619.2.388.57473.14165493.13307.1595...</td>\n      <td>1.2.840.113619.6.388.1085857506259653239604053...</td>\n      <td>Cavernoma</td>\n      <td>[None]</td>\n    </tr>\n    <tr>\n      <th>4</th>\n      <td>20</td>\n      <td>1.2.840.113619.6.388.1086680686963790084220790...</td>\n      <td>DV 63</td>\n      <td>[841576, 841578]</td>\n      <td>BSDIEP</td>\n      <td>global</td>\n      <td>-1</td>\n      <td>series</td>\n      <td></td>\n      <td>1607479639458</td>\n      <td></td>\n      <td>1.2.840.113619.2.388.57473.14165493.12954.1590...</td>\n      <td>1.2.840.113619.6.388.1086680686963790084220790...</td>\n      <td>Glioma</td>\n      <td>[None]</td>\n    </tr>\n    <tr>\n      <th>...</th>\n      <td>...</td>\n      <td>...</td>\n      <td>...</td>\n      <td>...</td>\n      <td>...</td>\n      <td>...</td>\n      <td>...</td>\n      <td>...</td>\n      <td>...</td>\n      <td>...</td>\n      <td>...</td>\n      <td>...</td>\n      <td>...</td>\n      <td>...</td>\n      <td>...</td>\n    </tr>\n    <tr>\n      <th>147</th>\n      <td>500</td>\n      <td>1.2.840.113619.6.410.3703626307294449374407781...</td>\n      <td>DV F6</td>\n      <td>[912576, 912578]</td>\n      <td>BSDIEP</td>\n      <td>global</td>\n      <td>-1</td>\n      <td>series</td>\n      <td></td>\n      <td>1611444603106</td>\n      <td></td>\n      <td>1.2.840.113619.2.410.15512023.5814788.13143.15...</td>\n      <td>1.2.840.113619.6.410.3703626307294449374407781...</td>\n      <td>[Cerebral tumor, Intracranial metastasis]</td>\n      <td>[None]</td>\n    </tr>\n    <tr>\n      <th>148</th>\n      <td>504</td>\n      <td>1.2.840.113619.6.410.6640772753983381136153803...</td>\n      <td>BHQH CC</td>\n      <td>[911252, 911254]</td>\n      <td>BSDIEP</td>\n      <td>global</td>\n      <td>-1</td>\n      <td>series</td>\n      <td></td>\n      <td>1611243632863</td>\n      <td></td>\n      <td>1.2.840.113619.2.410.15512023.5814788.13178.16...</td>\n      <td>1.2.840.113619.6.410.6640772753983381136153803...</td>\n      <td>Cerebral tumor</td>\n      <td>[None]</td>\n    </tr>\n    <tr>\n      <th>149</th>\n      <td>507</td>\n      <td>1.2.840.113619.6.410.6718953729125917342083405...</td>\n      <td>DV P57</td>\n      <td>[912482, 912484]</td>\n      <td>BSDIEP</td>\n      <td>global</td>\n      <td>-1</td>\n      <td>series</td>\n      <td></td>\n      <td>1611441661993</td>\n      <td></td>\n      <td>1.2.840.113619.2.410.15512023.5814788.13131.15...</td>\n      <td>1.2.840.113619.6.410.6718953729125917342083405...</td>\n      <td>[Cerebral tumor, Cerebral vascular disease]</td>\n      <td>[None]</td>\n    </tr>\n    <tr>\n      <th>150</th>\n      <td>509</td>\n      <td>1.2.840.113619.6.410.7201826919570282850193720...</td>\n      <td>DV F23</td>\n      <td>[906048, 906050]</td>\n      <td>BSDIEP</td>\n      <td>global</td>\n      <td>-1</td>\n      <td>series</td>\n      <td></td>\n      <td>1610726821329</td>\n      <td></td>\n      <td>1.2.840.113619.2.410.15512023.5814788.13104.16...</td>\n      <td>1.2.840.113619.6.410.7201826919570282850193720...</td>\n      <td>Pituitary adenoma</td>\n      <td>[None]</td>\n    </tr>\n    <tr>\n      <th>151</th>\n      <td>511</td>\n      <td>1.2.840.113619.6.410.9279943800493553571918764...</td>\n      <td>DV F57</td>\n      <td>[913340, 913342]</td>\n      <td>BSDIEP</td>\n      <td>global</td>\n      <td>-1</td>\n      <td>series</td>\n      <td></td>\n      <td>1611481734402</td>\n      <td></td>\n      <td>1.2.840.113619.2.410.15512023.5814788.28593.15...</td>\n      <td>1.2.840.113619.6.410.9279943800493553571918764...</td>\n      <td>Meningioma</td>\n      <td>[None]</td>\n    </tr>\n  </tbody>\n</table>\n<p>152 rows × 15 columns</p>\n</div>"
     },
     "metadata": {},
     "execution_count": 29
    }
   ],
   "source": [
    "df_global = dfame[dfame[\"type\"] == \"global\"]\n",
    "df_global = df_global.reset_index()\n",
    "df_global"
   ]
  },
  {
   "source": [
    "for i in range(len(df_global[\"tags\"])):\n",
    "    print(i)\n",
    "    print(df_global[\"tags\"][i])\n",
    "    print('-'*39)"
   ],
   "cell_type": "code",
   "metadata": {},
   "execution_count": 30,
   "outputs": [
    {
     "output_type": "stream",
     "name": "stdout",
     "text": [
      "0\nMeningioma\n---------------------------------------\n1\nPituitary adenoma\n---------------------------------------\n2\n['Sinus disease', 'Cerebral tumor', 'Intracranial metastasis']\n---------------------------------------\n3\nCavernoma\n---------------------------------------\n4\nGlioma\n---------------------------------------\n5\nGlioma\n---------------------------------------\n6\nOther tumor\n---------------------------------------\n7\n['Cerebral tumor', 'Acute ischemic stroke']\n---------------------------------------\n8\n['Lymphoma', 'Other tumor']\n---------------------------------------\n9\nCerebral tumor\n---------------------------------------\n10\n['Sinus disease', 'Neurinoma']\n---------------------------------------\n11\nLymphoma\n---------------------------------------\n12\nPituitary adenoma\n---------------------------------------\n13\nGlioma\n---------------------------------------\n14\nOther tumor\n---------------------------------------\n15\nCerebral tumor\n---------------------------------------\n16\n['Sinus disease', 'Meningioma']\n---------------------------------------\n17\n['Cerebral tumor', 'Glioma']\n---------------------------------------\n18\nMeningioma\n---------------------------------------\n19\n['Pituitary adenoma', 'Other tumor']\n---------------------------------------\n20\nOther tumor\n---------------------------------------\n21\nMeningioma\n---------------------------------------\n22\nPituitary adenoma\n---------------------------------------\n23\n['Encephalomalacia', 'Glioma']\n---------------------------------------\n24\n['Cerebral tumor', 'Other']\n---------------------------------------\n25\n['Sinus disease', 'Chordoma', 'Other tumor']\n---------------------------------------\n26\n['Other tumor', 'Chronic ischemic stroke']\n---------------------------------------\n27\n['Glioma', 'Lymphoma']\n---------------------------------------\n28\nCavernoma\n---------------------------------------\n29\nNeurinoma\n---------------------------------------\n30\n['Pituitary adenoma', 'Other tumor']\n---------------------------------------\n31\nNeurinoma\n---------------------------------------\n32\n['Glioma', 'Other tumor']\n---------------------------------------\n33\nCerebral tumor\n---------------------------------------\n34\nGlioma\n---------------------------------------\n35\n['Sinus disease', 'Pituitary adenoma']\n---------------------------------------\n36\n['Other tumor', 'Aging demyelinating']\n---------------------------------------\n37\n['Cerebral tumor', 'Intracranial metastasis']\n---------------------------------------\n38\n['Glioma', 'Other tumor']\n---------------------------------------\n39\nOther tumor\n---------------------------------------\n40\n['Sinus disease', 'Other tumor', 'Aging demyelinating']\n---------------------------------------\n41\n['Glioma', 'Lymphoma']\n---------------------------------------\n42\nMeningioma\n---------------------------------------\n43\n['Encephalomalacia', 'Meningioma']\n---------------------------------------\n44\nCerebral tumor\n---------------------------------------\n45\n['Sinus disease', 'Meningioma']\n---------------------------------------\n46\nNeurinoma\n---------------------------------------\n47\n['Sinus disease', 'Pituitary adenoma']\n---------------------------------------\n48\nNeurinoma\n---------------------------------------\n49\nOther tumor\n---------------------------------------\n50\nNeurinoma\n---------------------------------------\n51\n['Cavernoma', 'Sinus disease']\n---------------------------------------\n52\nOther tumor\n---------------------------------------\n53\nCerebral tumor\n---------------------------------------\n54\n['Cerebral tumor', 'Glioma']\n---------------------------------------\n55\n['Glioma', 'Meningioma']\n---------------------------------------\n56\n['Sinus disease', 'Pituitary adenoma']\n---------------------------------------\n57\nNeurinoma\n---------------------------------------\n58\n['Sinus disease', 'Other tumor', 'Chronic ischemic stroke', 'Aging demyelinating']\n---------------------------------------\n59\n['Cerebral tumor', 'Other']\n---------------------------------------\n60\nPituitary adenoma\n---------------------------------------\n61\nNeurinoma\n---------------------------------------\n62\nCerebral tumor\n---------------------------------------\n63\nCerebral tumor\n---------------------------------------\n64\nOther tumor\n---------------------------------------\n65\nMeningioma\n---------------------------------------\n66\nCerebral tumor\n---------------------------------------\n67\nCerebral tumor\n---------------------------------------\n68\nOther tumor\n---------------------------------------\n69\n['Encephalomalacia', 'Pituitary adenoma']\n---------------------------------------\n70\nGlioma\n---------------------------------------\n71\n['Cerebral tumor', 'Intracranial metastasis']\n---------------------------------------\n72\n['Pituitary adenoma', 'Other tumor']\n---------------------------------------\n73\nCerebral tumor\n---------------------------------------\n74\nPituitary adenoma\n---------------------------------------\n75\n['Cerebral tumor', 'Other tumor']\n---------------------------------------\n76\nCerebral tumor\n---------------------------------------\n77\n['Cerebral tumor', 'Other']\n---------------------------------------\n78\nCerebral tumor\n---------------------------------------\n79\n['Sinus disease', 'Neurinoma']\n---------------------------------------\n80\nGlioma\n---------------------------------------\n81\nCavernoma\n---------------------------------------\n82\n['Pituitary adenoma', 'Chronic ischemic stroke']\n---------------------------------------\n83\nGlioma\n---------------------------------------\n84\nGlioma\n---------------------------------------\n85\nGlioma\n---------------------------------------\n86\n['Chordoma', 'Other tumor']\n---------------------------------------\n87\n['Sinus disease', 'Chordoma', 'Other tumor']\n---------------------------------------\n88\nCerebral tumor\n---------------------------------------\n89\n['Glioma', 'Aging demyelinating']\n---------------------------------------\n90\n['Cerebral tumor', 'Cystic mass']\n---------------------------------------\n91\n['Cerebral tumor', 'Other']\n---------------------------------------\n92\nCerebral tumor\n---------------------------------------\n93\n['Glioma', 'Chronic ischemic stroke']\n---------------------------------------\n94\n['Intracranial metastasis', 'Other tumor']\n---------------------------------------\n95\nCerebral tumor\n---------------------------------------\n96\nGlioma\n---------------------------------------\n97\n['Intracranial metastasis', 'Glioma']\n---------------------------------------\n98\nSinus disease\n---------------------------------------\n99\nGlioma\n---------------------------------------\n100\n['Cavernoma', 'Aging demyelinating']\n---------------------------------------\n101\nNeurinoma\n---------------------------------------\n102\n['Encephalomalacia', 'Cerebral tumor']\n---------------------------------------\n103\nMeningioma\n---------------------------------------\n104\nGlioma\n---------------------------------------\n105\nGlioma\n---------------------------------------\n106\n['Cerebral tumor', 'Acute ischemic stroke']\n---------------------------------------\n107\nCerebral tumor\n---------------------------------------\n108\nMeningioma\n---------------------------------------\n109\n['Sinus disease', 'Pituitary adenoma', 'Other']\n---------------------------------------\n110\nCavernoma\n---------------------------------------\n111\n['Sinus disease', 'Other tumor']\n---------------------------------------\n112\n['Other tumor', 'Cystic mass']\n---------------------------------------\n113\nMeningioma\n---------------------------------------\n114\n['Neurinoma', 'Other tumor']\n---------------------------------------\n115\nCystic mass\n---------------------------------------\n116\n['Lymphoma', 'Cystic mass']\n---------------------------------------\n117\n['Sinus disease', 'Glioma']\n---------------------------------------\n118\n['Sinus disease', 'Other tumor', 'Aging demyelinating', 'Other']\n---------------------------------------\n119\nOther tumor\n---------------------------------------\n120\nPituitary adenoma\n---------------------------------------\n121\nOther tumor\n---------------------------------------\n122\n['Sinus disease', 'Meningioma']\n---------------------------------------\n123\nNeurinoma\n---------------------------------------\n124\nSinus disease\n---------------------------------------\n125\n['Sinus disease', 'Pituitary adenoma']\n---------------------------------------\n126\nNeurinoma\n---------------------------------------\n127\n['Sinus disease', 'Neurinoma']\n---------------------------------------\n128\nGlioma\n---------------------------------------\n129\nNeurinoma\n---------------------------------------\n130\n['Sinus disease', 'Meningioma']\n---------------------------------------\n131\nPituitary adenoma\n---------------------------------------\n132\nNeurinoma\n---------------------------------------\n133\nOther tumor\n---------------------------------------\n134\nMeningioma\n---------------------------------------\n135\nMeningioma\n---------------------------------------\n136\nCerebral tumor\n---------------------------------------\n137\nGlioma\n---------------------------------------\n138\nMeningioma\n---------------------------------------\n139\n['Neurinoma', 'Meningioma']\n---------------------------------------\n140\n['Other tumor', 'Cystic mass']\n---------------------------------------\n141\nNeurinoma\n---------------------------------------\n142\nGlioma\n---------------------------------------\n143\n['Lymphoma', 'Acute ischemic stroke', 'Chronic ischemic stroke']\n---------------------------------------\n144\n['Other tumor', 'Aging demyelinating']\n---------------------------------------\n145\nGlioma\n---------------------------------------\n146\nMeningioma\n---------------------------------------\n147\n['Cerebral tumor', 'Intracranial metastasis']\n---------------------------------------\n148\nCerebral tumor\n---------------------------------------\n149\n['Cerebral tumor', 'Cerebral vascular disease']\n---------------------------------------\n150\nPituitary adenoma\n---------------------------------------\n151\nMeningioma\n---------------------------------------\n"
     ]
    }
   ]
  },
  {
   "cell_type": "code",
   "execution_count": 31,
   "metadata": {},
   "outputs": [
    {
     "output_type": "stream",
     "name": "stdout",
     "text": [
      "98\n",
      "Sinus disease\n",
      "115\n",
      "Cystic mass\n",
      "124\n",
      "Sinus disease\n",
      "<ipython-input-31-01f810f8a575>:13: SettingWithCopyWarning: \n",
      "A value is trying to be set on a copy of a slice from a DataFrame\n",
      "\n",
      "See the caveats in the documentation: https://pandas.pydata.org/pandas-docs/stable/user_guide/indexing.html#returning-a-view-versus-a-copy\n",
      "  df_global['tags'][i] = df_global['tags'][i][j]\n",
      "<ipython-input-31-01f810f8a575>:8: SettingWithCopyWarning: \n",
      "A value is trying to be set on a copy of a slice from a DataFrame\n",
      "\n",
      "See the caveats in the documentation: https://pandas.pydata.org/pandas-docs/stable/user_guide/indexing.html#returning-a-view-versus-a-copy\n",
      "  df_global['tags'][i] = None\n"
     ]
    },
    {
     "output_type": "execute_result",
     "data": {
      "text/plain": [
       "     index                                           xml_name patientPid  \\\n",
       "0        3  1.2.840.113619.6.388.1017747398342806435283613...       YC21   \n",
       "1        5  1.2.840.113619.6.388.1067388807510514152787160...     23 BHK   \n",
       "2       14  1.2.840.113619.6.388.1081120408802499059158946...       YC11   \n",
       "3       16  1.2.840.113619.6.388.1085857506259653239604053...       YC63   \n",
       "4       20  1.2.840.113619.6.388.1086680686963790084220790...      DV 63   \n",
       "..     ...                                                ...        ...   \n",
       "147    500  1.2.840.113619.6.410.3703626307294449374407781...      DV F6   \n",
       "148    504  1.2.840.113619.6.410.6640772753983381136153803...    BHQH CC   \n",
       "149    507  1.2.840.113619.6.410.6718953729125917342083405...     DV P57   \n",
       "150    509  1.2.840.113619.6.410.7201826919570282850193720...     DV F23   \n",
       "151    511  1.2.840.113619.6.410.9279943800493553571918764...     DV F57   \n",
       "\n",
       "            diagnosis sessionId    type annotation   scope pointUnit  \\\n",
       "0    [908910, 908912]    BSDIEP  global         -1  series             \n",
       "1    [841808, 841810]    BSDIEP  global         -1  series             \n",
       "2    [914778, 914780]    BSDIEP  global         -1  series             \n",
       "3    [889934, 889936]    BSDIEP  global         -1  series             \n",
       "4    [841576, 841578]    BSDIEP  global         -1  series             \n",
       "..                ...       ...     ...        ...     ...       ...   \n",
       "147  [912576, 912578]    BSDIEP  global         -1  series             \n",
       "148  [911252, 911254]    BSDIEP  global         -1  series             \n",
       "149  [912482, 912484]    BSDIEP  global         -1  series             \n",
       "150  [906048, 906050]    BSDIEP  global         -1  series             \n",
       "151  [913340, 913342]    BSDIEP  global         -1  series             \n",
       "\n",
       "    createTimestamp imageUid  \\\n",
       "0     1610885136683            \n",
       "1     1607483647730            \n",
       "2     1611612229880            \n",
       "3     1609206874365            \n",
       "4     1607479639458            \n",
       "..              ...      ...   \n",
       "147   1611444603106            \n",
       "148   1611243632863            \n",
       "149   1611441661993            \n",
       "150   1610726821329            \n",
       "151   1611481734402            \n",
       "\n",
       "                                             seriesUid  \\\n",
       "0    1.2.840.113619.2.388.57473.14165493.12654.1599...   \n",
       "1    1.2.840.113619.2.388.57473.14165493.13177.1591...   \n",
       "2    1.2.840.113619.2.388.57473.14165493.12404.1597...   \n",
       "3    1.2.840.113619.2.388.57473.14165493.13307.1595...   \n",
       "4    1.2.840.113619.2.388.57473.14165493.12954.1590...   \n",
       "..                                                 ...   \n",
       "147  1.2.840.113619.2.410.15512023.5814788.13143.15...   \n",
       "148  1.2.840.113619.2.410.15512023.5814788.13178.16...   \n",
       "149  1.2.840.113619.2.410.15512023.5814788.13131.15...   \n",
       "150  1.2.840.113619.2.410.15512023.5814788.13104.16...   \n",
       "151  1.2.840.113619.2.410.15512023.5814788.28593.15...   \n",
       "\n",
       "                                              studyUid               tags  \\\n",
       "0    1.2.840.113619.6.388.1017747398342806435283613...         Meningioma   \n",
       "1    1.2.840.113619.6.388.1067388807510514152787160...  Pituitary adenoma   \n",
       "2    1.2.840.113619.6.388.1081120408802499059158946...     Cerebral tumor   \n",
       "3    1.2.840.113619.6.388.1085857506259653239604053...          Cavernoma   \n",
       "4    1.2.840.113619.6.388.1086680686963790084220790...             Glioma   \n",
       "..                                                 ...                ...   \n",
       "147  1.2.840.113619.6.410.3703626307294449374407781...     Cerebral tumor   \n",
       "148  1.2.840.113619.6.410.6640772753983381136153803...     Cerebral tumor   \n",
       "149  1.2.840.113619.6.410.6718953729125917342083405...     Cerebral tumor   \n",
       "150  1.2.840.113619.6.410.7201826919570282850193720...  Pituitary adenoma   \n",
       "151  1.2.840.113619.6.410.9279943800493553571918764...         Meningioma   \n",
       "\n",
       "      point  \n",
       "0    [None]  \n",
       "1    [None]  \n",
       "2    [None]  \n",
       "3    [None]  \n",
       "4    [None]  \n",
       "..      ...  \n",
       "147  [None]  \n",
       "148  [None]  \n",
       "149  [None]  \n",
       "150  [None]  \n",
       "151  [None]  \n",
       "\n",
       "[152 rows x 15 columns]"
      ],
      "text/html": "<div>\n<style scoped>\n    .dataframe tbody tr th:only-of-type {\n        vertical-align: middle;\n    }\n\n    .dataframe tbody tr th {\n        vertical-align: top;\n    }\n\n    .dataframe thead th {\n        text-align: right;\n    }\n</style>\n<table border=\"1\" class=\"dataframe\">\n  <thead>\n    <tr style=\"text-align: right;\">\n      <th></th>\n      <th>index</th>\n      <th>xml_name</th>\n      <th>patientPid</th>\n      <th>diagnosis</th>\n      <th>sessionId</th>\n      <th>type</th>\n      <th>annotation</th>\n      <th>scope</th>\n      <th>pointUnit</th>\n      <th>createTimestamp</th>\n      <th>imageUid</th>\n      <th>seriesUid</th>\n      <th>studyUid</th>\n      <th>tags</th>\n      <th>point</th>\n    </tr>\n  </thead>\n  <tbody>\n    <tr>\n      <th>0</th>\n      <td>3</td>\n      <td>1.2.840.113619.6.388.1017747398342806435283613...</td>\n      <td>YC21</td>\n      <td>[908910, 908912]</td>\n      <td>BSDIEP</td>\n      <td>global</td>\n      <td>-1</td>\n      <td>series</td>\n      <td></td>\n      <td>1610885136683</td>\n      <td></td>\n      <td>1.2.840.113619.2.388.57473.14165493.12654.1599...</td>\n      <td>1.2.840.113619.6.388.1017747398342806435283613...</td>\n      <td>Meningioma</td>\n      <td>[None]</td>\n    </tr>\n    <tr>\n      <th>1</th>\n      <td>5</td>\n      <td>1.2.840.113619.6.388.1067388807510514152787160...</td>\n      <td>23 BHK</td>\n      <td>[841808, 841810]</td>\n      <td>BSDIEP</td>\n      <td>global</td>\n      <td>-1</td>\n      <td>series</td>\n      <td></td>\n      <td>1607483647730</td>\n      <td></td>\n      <td>1.2.840.113619.2.388.57473.14165493.13177.1591...</td>\n      <td>1.2.840.113619.6.388.1067388807510514152787160...</td>\n      <td>Pituitary adenoma</td>\n      <td>[None]</td>\n    </tr>\n    <tr>\n      <th>2</th>\n      <td>14</td>\n      <td>1.2.840.113619.6.388.1081120408802499059158946...</td>\n      <td>YC11</td>\n      <td>[914778, 914780]</td>\n      <td>BSDIEP</td>\n      <td>global</td>\n      <td>-1</td>\n      <td>series</td>\n      <td></td>\n      <td>1611612229880</td>\n      <td></td>\n      <td>1.2.840.113619.2.388.57473.14165493.12404.1597...</td>\n      <td>1.2.840.113619.6.388.1081120408802499059158946...</td>\n      <td>Cerebral tumor</td>\n      <td>[None]</td>\n    </tr>\n    <tr>\n      <th>3</th>\n      <td>16</td>\n      <td>1.2.840.113619.6.388.1085857506259653239604053...</td>\n      <td>YC63</td>\n      <td>[889934, 889936]</td>\n      <td>BSDIEP</td>\n      <td>global</td>\n      <td>-1</td>\n      <td>series</td>\n      <td></td>\n      <td>1609206874365</td>\n      <td></td>\n      <td>1.2.840.113619.2.388.57473.14165493.13307.1595...</td>\n      <td>1.2.840.113619.6.388.1085857506259653239604053...</td>\n      <td>Cavernoma</td>\n      <td>[None]</td>\n    </tr>\n    <tr>\n      <th>4</th>\n      <td>20</td>\n      <td>1.2.840.113619.6.388.1086680686963790084220790...</td>\n      <td>DV 63</td>\n      <td>[841576, 841578]</td>\n      <td>BSDIEP</td>\n      <td>global</td>\n      <td>-1</td>\n      <td>series</td>\n      <td></td>\n      <td>1607479639458</td>\n      <td></td>\n      <td>1.2.840.113619.2.388.57473.14165493.12954.1590...</td>\n      <td>1.2.840.113619.6.388.1086680686963790084220790...</td>\n      <td>Glioma</td>\n      <td>[None]</td>\n    </tr>\n    <tr>\n      <th>...</th>\n      <td>...</td>\n      <td>...</td>\n      <td>...</td>\n      <td>...</td>\n      <td>...</td>\n      <td>...</td>\n      <td>...</td>\n      <td>...</td>\n      <td>...</td>\n      <td>...</td>\n      <td>...</td>\n      <td>...</td>\n      <td>...</td>\n      <td>...</td>\n      <td>...</td>\n    </tr>\n    <tr>\n      <th>147</th>\n      <td>500</td>\n      <td>1.2.840.113619.6.410.3703626307294449374407781...</td>\n      <td>DV F6</td>\n      <td>[912576, 912578]</td>\n      <td>BSDIEP</td>\n      <td>global</td>\n      <td>-1</td>\n      <td>series</td>\n      <td></td>\n      <td>1611444603106</td>\n      <td></td>\n      <td>1.2.840.113619.2.410.15512023.5814788.13143.15...</td>\n      <td>1.2.840.113619.6.410.3703626307294449374407781...</td>\n      <td>Cerebral tumor</td>\n      <td>[None]</td>\n    </tr>\n    <tr>\n      <th>148</th>\n      <td>504</td>\n      <td>1.2.840.113619.6.410.6640772753983381136153803...</td>\n      <td>BHQH CC</td>\n      <td>[911252, 911254]</td>\n      <td>BSDIEP</td>\n      <td>global</td>\n      <td>-1</td>\n      <td>series</td>\n      <td></td>\n      <td>1611243632863</td>\n      <td></td>\n      <td>1.2.840.113619.2.410.15512023.5814788.13178.16...</td>\n      <td>1.2.840.113619.6.410.6640772753983381136153803...</td>\n      <td>Cerebral tumor</td>\n      <td>[None]</td>\n    </tr>\n    <tr>\n      <th>149</th>\n      <td>507</td>\n      <td>1.2.840.113619.6.410.6718953729125917342083405...</td>\n      <td>DV P57</td>\n      <td>[912482, 912484]</td>\n      <td>BSDIEP</td>\n      <td>global</td>\n      <td>-1</td>\n      <td>series</td>\n      <td></td>\n      <td>1611441661993</td>\n      <td></td>\n      <td>1.2.840.113619.2.410.15512023.5814788.13131.15...</td>\n      <td>1.2.840.113619.6.410.6718953729125917342083405...</td>\n      <td>Cerebral tumor</td>\n      <td>[None]</td>\n    </tr>\n    <tr>\n      <th>150</th>\n      <td>509</td>\n      <td>1.2.840.113619.6.410.7201826919570282850193720...</td>\n      <td>DV F23</td>\n      <td>[906048, 906050]</td>\n      <td>BSDIEP</td>\n      <td>global</td>\n      <td>-1</td>\n      <td>series</td>\n      <td></td>\n      <td>1610726821329</td>\n      <td></td>\n      <td>1.2.840.113619.2.410.15512023.5814788.13104.16...</td>\n      <td>1.2.840.113619.6.410.7201826919570282850193720...</td>\n      <td>Pituitary adenoma</td>\n      <td>[None]</td>\n    </tr>\n    <tr>\n      <th>151</th>\n      <td>511</td>\n      <td>1.2.840.113619.6.410.9279943800493553571918764...</td>\n      <td>DV F57</td>\n      <td>[913340, 913342]</td>\n      <td>BSDIEP</td>\n      <td>global</td>\n      <td>-1</td>\n      <td>series</td>\n      <td></td>\n      <td>1611481734402</td>\n      <td></td>\n      <td>1.2.840.113619.2.410.15512023.5814788.28593.15...</td>\n      <td>1.2.840.113619.6.410.9279943800493553571918764...</td>\n      <td>Meningioma</td>\n      <td>[None]</td>\n    </tr>\n  </tbody>\n</table>\n<p>152 rows × 15 columns</p>\n</div>"
     },
     "metadata": {},
     "execution_count": 31
    }
   ],
   "source": [
    "labels = ['Other tumor', 'Glioma', 'Meningioma', 'Pituitary adenoma', 'Cerebral tumor', 'Neurinoma', 'Cavernoma', 'Lymphoma', 'Chordoma']\n",
    "\n",
    "for i in range(len(df_global['tags'])):\n",
    "    if type(df_global['tags'][i])==str:\n",
    "        if not df_global['tags'][i] in labels:\n",
    "            print(i)\n",
    "            print(df_global['tags'][i])\n",
    "            df_global['tags'][i] = None\n",
    "    elif type(df_global['tags'][i])==list:\n",
    "        for j in range(len(df_global['tags'][i])):\n",
    "            if df_global['tags'][i][j] in labels:\n",
    "                # print(df_global['tags'][i][j])\n",
    "                df_global['tags'][i] = df_global['tags'][i][j]\n",
    "df_global"
   ]
  },
  {
   "cell_type": "code",
   "execution_count": 32,
   "metadata": {},
   "outputs": [
    {
     "output_type": "execute_result",
     "data": {
      "text/plain": [
       "     index                                           xml_name patientPid  \\\n",
       "0        3  1.2.840.113619.6.388.1017747398342806435283613...       YC21   \n",
       "1        5  1.2.840.113619.6.388.1067388807510514152787160...     23 BHK   \n",
       "2       14  1.2.840.113619.6.388.1081120408802499059158946...       YC11   \n",
       "3       16  1.2.840.113619.6.388.1085857506259653239604053...       YC63   \n",
       "4       20  1.2.840.113619.6.388.1086680686963790084220790...      DV 63   \n",
       "..     ...                                                ...        ...   \n",
       "147    500  1.2.840.113619.6.410.3703626307294449374407781...      DV F6   \n",
       "148    504  1.2.840.113619.6.410.6640772753983381136153803...    BHQH CC   \n",
       "149    507  1.2.840.113619.6.410.6718953729125917342083405...     DV P57   \n",
       "150    509  1.2.840.113619.6.410.7201826919570282850193720...     DV F23   \n",
       "151    511  1.2.840.113619.6.410.9279943800493553571918764...     DV F57   \n",
       "\n",
       "            diagnosis sessionId    type annotation   scope pointUnit  \\\n",
       "0    [908910, 908912]    BSDIEP  global         -1  series             \n",
       "1    [841808, 841810]    BSDIEP  global         -1  series             \n",
       "2    [914778, 914780]    BSDIEP  global         -1  series             \n",
       "3    [889934, 889936]    BSDIEP  global         -1  series             \n",
       "4    [841576, 841578]    BSDIEP  global         -1  series             \n",
       "..                ...       ...     ...        ...     ...       ...   \n",
       "147  [912576, 912578]    BSDIEP  global         -1  series             \n",
       "148  [911252, 911254]    BSDIEP  global         -1  series             \n",
       "149  [912482, 912484]    BSDIEP  global         -1  series             \n",
       "150  [906048, 906050]    BSDIEP  global         -1  series             \n",
       "151  [913340, 913342]    BSDIEP  global         -1  series             \n",
       "\n",
       "    createTimestamp imageUid  \\\n",
       "0     1610885136683            \n",
       "1     1607483647730            \n",
       "2     1611612229880            \n",
       "3     1609206874365            \n",
       "4     1607479639458            \n",
       "..              ...      ...   \n",
       "147   1611444603106            \n",
       "148   1611243632863            \n",
       "149   1611441661993            \n",
       "150   1610726821329            \n",
       "151   1611481734402            \n",
       "\n",
       "                                             seriesUid  \\\n",
       "0    1.2.840.113619.2.388.57473.14165493.12654.1599...   \n",
       "1    1.2.840.113619.2.388.57473.14165493.13177.1591...   \n",
       "2    1.2.840.113619.2.388.57473.14165493.12404.1597...   \n",
       "3    1.2.840.113619.2.388.57473.14165493.13307.1595...   \n",
       "4    1.2.840.113619.2.388.57473.14165493.12954.1590...   \n",
       "..                                                 ...   \n",
       "147  1.2.840.113619.2.410.15512023.5814788.13143.15...   \n",
       "148  1.2.840.113619.2.410.15512023.5814788.13178.16...   \n",
       "149  1.2.840.113619.2.410.15512023.5814788.13131.15...   \n",
       "150  1.2.840.113619.2.410.15512023.5814788.13104.16...   \n",
       "151  1.2.840.113619.2.410.15512023.5814788.28593.15...   \n",
       "\n",
       "                                              studyUid               tags  \\\n",
       "0    1.2.840.113619.6.388.1017747398342806435283613...         Meningioma   \n",
       "1    1.2.840.113619.6.388.1067388807510514152787160...  Pituitary adenoma   \n",
       "2    1.2.840.113619.6.388.1081120408802499059158946...     Cerebral tumor   \n",
       "3    1.2.840.113619.6.388.1085857506259653239604053...          Cavernoma   \n",
       "4    1.2.840.113619.6.388.1086680686963790084220790...             Glioma   \n",
       "..                                                 ...                ...   \n",
       "147  1.2.840.113619.6.410.3703626307294449374407781...     Cerebral tumor   \n",
       "148  1.2.840.113619.6.410.6640772753983381136153803...     Cerebral tumor   \n",
       "149  1.2.840.113619.6.410.6718953729125917342083405...     Cerebral tumor   \n",
       "150  1.2.840.113619.6.410.7201826919570282850193720...  Pituitary adenoma   \n",
       "151  1.2.840.113619.6.410.9279943800493553571918764...         Meningioma   \n",
       "\n",
       "      point  \n",
       "0    [None]  \n",
       "1    [None]  \n",
       "2    [None]  \n",
       "3    [None]  \n",
       "4    [None]  \n",
       "..      ...  \n",
       "147  [None]  \n",
       "148  [None]  \n",
       "149  [None]  \n",
       "150  [None]  \n",
       "151  [None]  \n",
       "\n",
       "[149 rows x 15 columns]"
      ],
      "text/html": "<div>\n<style scoped>\n    .dataframe tbody tr th:only-of-type {\n        vertical-align: middle;\n    }\n\n    .dataframe tbody tr th {\n        vertical-align: top;\n    }\n\n    .dataframe thead th {\n        text-align: right;\n    }\n</style>\n<table border=\"1\" class=\"dataframe\">\n  <thead>\n    <tr style=\"text-align: right;\">\n      <th></th>\n      <th>index</th>\n      <th>xml_name</th>\n      <th>patientPid</th>\n      <th>diagnosis</th>\n      <th>sessionId</th>\n      <th>type</th>\n      <th>annotation</th>\n      <th>scope</th>\n      <th>pointUnit</th>\n      <th>createTimestamp</th>\n      <th>imageUid</th>\n      <th>seriesUid</th>\n      <th>studyUid</th>\n      <th>tags</th>\n      <th>point</th>\n    </tr>\n  </thead>\n  <tbody>\n    <tr>\n      <th>0</th>\n      <td>3</td>\n      <td>1.2.840.113619.6.388.1017747398342806435283613...</td>\n      <td>YC21</td>\n      <td>[908910, 908912]</td>\n      <td>BSDIEP</td>\n      <td>global</td>\n      <td>-1</td>\n      <td>series</td>\n      <td></td>\n      <td>1610885136683</td>\n      <td></td>\n      <td>1.2.840.113619.2.388.57473.14165493.12654.1599...</td>\n      <td>1.2.840.113619.6.388.1017747398342806435283613...</td>\n      <td>Meningioma</td>\n      <td>[None]</td>\n    </tr>\n    <tr>\n      <th>1</th>\n      <td>5</td>\n      <td>1.2.840.113619.6.388.1067388807510514152787160...</td>\n      <td>23 BHK</td>\n      <td>[841808, 841810]</td>\n      <td>BSDIEP</td>\n      <td>global</td>\n      <td>-1</td>\n      <td>series</td>\n      <td></td>\n      <td>1607483647730</td>\n      <td></td>\n      <td>1.2.840.113619.2.388.57473.14165493.13177.1591...</td>\n      <td>1.2.840.113619.6.388.1067388807510514152787160...</td>\n      <td>Pituitary adenoma</td>\n      <td>[None]</td>\n    </tr>\n    <tr>\n      <th>2</th>\n      <td>14</td>\n      <td>1.2.840.113619.6.388.1081120408802499059158946...</td>\n      <td>YC11</td>\n      <td>[914778, 914780]</td>\n      <td>BSDIEP</td>\n      <td>global</td>\n      <td>-1</td>\n      <td>series</td>\n      <td></td>\n      <td>1611612229880</td>\n      <td></td>\n      <td>1.2.840.113619.2.388.57473.14165493.12404.1597...</td>\n      <td>1.2.840.113619.6.388.1081120408802499059158946...</td>\n      <td>Cerebral tumor</td>\n      <td>[None]</td>\n    </tr>\n    <tr>\n      <th>3</th>\n      <td>16</td>\n      <td>1.2.840.113619.6.388.1085857506259653239604053...</td>\n      <td>YC63</td>\n      <td>[889934, 889936]</td>\n      <td>BSDIEP</td>\n      <td>global</td>\n      <td>-1</td>\n      <td>series</td>\n      <td></td>\n      <td>1609206874365</td>\n      <td></td>\n      <td>1.2.840.113619.2.388.57473.14165493.13307.1595...</td>\n      <td>1.2.840.113619.6.388.1085857506259653239604053...</td>\n      <td>Cavernoma</td>\n      <td>[None]</td>\n    </tr>\n    <tr>\n      <th>4</th>\n      <td>20</td>\n      <td>1.2.840.113619.6.388.1086680686963790084220790...</td>\n      <td>DV 63</td>\n      <td>[841576, 841578]</td>\n      <td>BSDIEP</td>\n      <td>global</td>\n      <td>-1</td>\n      <td>series</td>\n      <td></td>\n      <td>1607479639458</td>\n      <td></td>\n      <td>1.2.840.113619.2.388.57473.14165493.12954.1590...</td>\n      <td>1.2.840.113619.6.388.1086680686963790084220790...</td>\n      <td>Glioma</td>\n      <td>[None]</td>\n    </tr>\n    <tr>\n      <th>...</th>\n      <td>...</td>\n      <td>...</td>\n      <td>...</td>\n      <td>...</td>\n      <td>...</td>\n      <td>...</td>\n      <td>...</td>\n      <td>...</td>\n      <td>...</td>\n      <td>...</td>\n      <td>...</td>\n      <td>...</td>\n      <td>...</td>\n      <td>...</td>\n      <td>...</td>\n    </tr>\n    <tr>\n      <th>147</th>\n      <td>500</td>\n      <td>1.2.840.113619.6.410.3703626307294449374407781...</td>\n      <td>DV F6</td>\n      <td>[912576, 912578]</td>\n      <td>BSDIEP</td>\n      <td>global</td>\n      <td>-1</td>\n      <td>series</td>\n      <td></td>\n      <td>1611444603106</td>\n      <td></td>\n      <td>1.2.840.113619.2.410.15512023.5814788.13143.15...</td>\n      <td>1.2.840.113619.6.410.3703626307294449374407781...</td>\n      <td>Cerebral tumor</td>\n      <td>[None]</td>\n    </tr>\n    <tr>\n      <th>148</th>\n      <td>504</td>\n      <td>1.2.840.113619.6.410.6640772753983381136153803...</td>\n      <td>BHQH CC</td>\n      <td>[911252, 911254]</td>\n      <td>BSDIEP</td>\n      <td>global</td>\n      <td>-1</td>\n      <td>series</td>\n      <td></td>\n      <td>1611243632863</td>\n      <td></td>\n      <td>1.2.840.113619.2.410.15512023.5814788.13178.16...</td>\n      <td>1.2.840.113619.6.410.6640772753983381136153803...</td>\n      <td>Cerebral tumor</td>\n      <td>[None]</td>\n    </tr>\n    <tr>\n      <th>149</th>\n      <td>507</td>\n      <td>1.2.840.113619.6.410.6718953729125917342083405...</td>\n      <td>DV P57</td>\n      <td>[912482, 912484]</td>\n      <td>BSDIEP</td>\n      <td>global</td>\n      <td>-1</td>\n      <td>series</td>\n      <td></td>\n      <td>1611441661993</td>\n      <td></td>\n      <td>1.2.840.113619.2.410.15512023.5814788.13131.15...</td>\n      <td>1.2.840.113619.6.410.6718953729125917342083405...</td>\n      <td>Cerebral tumor</td>\n      <td>[None]</td>\n    </tr>\n    <tr>\n      <th>150</th>\n      <td>509</td>\n      <td>1.2.840.113619.6.410.7201826919570282850193720...</td>\n      <td>DV F23</td>\n      <td>[906048, 906050]</td>\n      <td>BSDIEP</td>\n      <td>global</td>\n      <td>-1</td>\n      <td>series</td>\n      <td></td>\n      <td>1610726821329</td>\n      <td></td>\n      <td>1.2.840.113619.2.410.15512023.5814788.13104.16...</td>\n      <td>1.2.840.113619.6.410.7201826919570282850193720...</td>\n      <td>Pituitary adenoma</td>\n      <td>[None]</td>\n    </tr>\n    <tr>\n      <th>151</th>\n      <td>511</td>\n      <td>1.2.840.113619.6.410.9279943800493553571918764...</td>\n      <td>DV F57</td>\n      <td>[913340, 913342]</td>\n      <td>BSDIEP</td>\n      <td>global</td>\n      <td>-1</td>\n      <td>series</td>\n      <td></td>\n      <td>1611481734402</td>\n      <td></td>\n      <td>1.2.840.113619.2.410.15512023.5814788.28593.15...</td>\n      <td>1.2.840.113619.6.410.9279943800493553571918764...</td>\n      <td>Meningioma</td>\n      <td>[None]</td>\n    </tr>\n  </tbody>\n</table>\n<p>149 rows × 15 columns</p>\n</div>"
     },
     "metadata": {},
     "execution_count": 32
    }
   ],
   "source": [
    "# Remove 3 rows have not tags which in labels\n",
    "indexNames = [98, 115, 124]\n",
    "df_global.drop(indexNames, inplace=True)\n",
    "df_global\n"
   ]
  },
  {
   "cell_type": "code",
   "execution_count": 33,
   "metadata": {},
   "outputs": [
    {
     "output_type": "execute_result",
     "data": {
      "text/plain": [
       "array(['Meningioma', 'Pituitary adenoma', 'Cerebral tumor', 'Cavernoma',\n",
       "       'Glioma', 'Other tumor', 'Lymphoma', 'Neurinoma', 'Chordoma'],\n",
       "      dtype=object)"
      ]
     },
     "metadata": {},
     "execution_count": 33
    }
   ],
   "source": [
    "df_global['tags'].unique()"
   ]
  },
  {
   "cell_type": "code",
   "execution_count": 34,
   "metadata": {},
   "outputs": [],
   "source": [
    "df_global.to_pickle('/media/tungthanhlee/DATA/brain-mri-eda/summary_global.pkl')"
   ]
  },
  {
   "cell_type": "code",
   "execution_count": null,
   "metadata": {},
   "outputs": [],
   "source": []
  },
  {
   "cell_type": "code",
   "execution_count": null,
   "metadata": {},
   "outputs": [],
   "source": []
  },
  {
   "cell_type": "code",
   "execution_count": null,
   "metadata": {},
   "outputs": [],
   "source": []
  },
  {
   "cell_type": "code",
   "execution_count": null,
   "metadata": {},
   "outputs": [],
   "source": []
  },
  {
   "cell_type": "code",
   "execution_count": null,
   "metadata": {},
   "outputs": [],
   "source": []
  },
  {
   "cell_type": "code",
   "execution_count": null,
   "metadata": {},
   "outputs": [],
   "source": []
  },
  {
   "cell_type": "code",
   "execution_count": null,
   "metadata": {},
   "outputs": [],
   "source": []
  },
  {
   "source": [
    "## Extract rows have tags which are equal 'local' "
   ],
   "cell_type": "markdown",
   "metadata": {}
  },
  {
   "cell_type": "code",
   "execution_count": 35,
   "metadata": {},
   "outputs": [
    {
     "output_type": "execute_result",
     "data": {
      "text/plain": [
       "     index                                           xml_name patientPid  \\\n",
       "0        0  1.2.840.113619.6.388.1017747398342806435283613...       YC21   \n",
       "1        1  1.2.840.113619.6.388.1017747398342806435283613...       YC21   \n",
       "2        2  1.2.840.113619.6.388.1017747398342806435283613...       YC21   \n",
       "3        4  1.2.840.113619.6.388.1067388807510514152787160...     23 BHK   \n",
       "4        6  1.2.840.113619.6.388.1081120408802499059158946...       YC11   \n",
       "..     ...                                                ...        ...   \n",
       "355    503  1.2.840.113619.6.410.6640772753983381136153803...    BHQH CC   \n",
       "356    505  1.2.840.113619.6.410.6718953729125917342083405...     DV P57   \n",
       "357    506  1.2.840.113619.6.410.6718953729125917342083405...     DV P57   \n",
       "358    508  1.2.840.113619.6.410.7201826919570282850193720...     DV F23   \n",
       "359    510  1.2.840.113619.6.410.9279943800493553571918764...     DV F57   \n",
       "\n",
       "            diagnosis sessionId   type annotation scope pointUnit  \\\n",
       "0    [908910, 908912]    BSDIEP  local         20              mm   \n",
       "1    [908910, 908912]    BSDIEP  local         20              mm   \n",
       "2    [908910, 908912]    BSDIEP  local         20              mm   \n",
       "3    [841808, 841810]    BSDIEP  local         20              mm   \n",
       "4    [914778, 914780]    BSDIEP  local         20              mm   \n",
       "..                ...       ...    ...        ...   ...       ...   \n",
       "355  [911252, 911254]    BSDIEP  local         20              mm   \n",
       "356  [912482, 912484]    BSDIEP  local         20              mm   \n",
       "357  [912482, 912484]    BSDIEP  local         20              mm   \n",
       "358  [906048, 906050]    BSDIEP  local         20              mm   \n",
       "359  [913340, 913342]    BSDIEP  local         20              mm   \n",
       "\n",
       "    createTimestamp imageUid  \\\n",
       "0     1610884981375            \n",
       "1     1610885017001            \n",
       "2     1610885075681            \n",
       "3     1607483610460            \n",
       "4     1611611924351            \n",
       "..              ...      ...   \n",
       "355   1611243584664            \n",
       "356   1611441490118            \n",
       "357   1611441604628            \n",
       "358   1610726793465            \n",
       "359   1611481704955            \n",
       "\n",
       "                                             seriesUid  \\\n",
       "0    1.2.840.113619.2.388.57473.14165493.12654.1599...   \n",
       "1    1.2.840.113619.2.388.57473.14165493.12654.1599...   \n",
       "2    1.2.840.113619.2.388.57473.14165493.12654.1599...   \n",
       "3    1.2.840.113619.2.388.57473.14165493.13177.1591...   \n",
       "4    1.2.840.113619.2.388.57473.14165493.12404.1597...   \n",
       "..                                                 ...   \n",
       "355  1.2.840.113619.2.410.15512023.5814788.13178.16...   \n",
       "356  1.2.840.113619.2.410.15512023.5814788.13131.15...   \n",
       "357  1.2.840.113619.2.410.15512023.5814788.13131.15...   \n",
       "358  1.2.840.113619.2.410.15512023.5814788.13104.16...   \n",
       "359  1.2.840.113619.2.410.15512023.5814788.28593.15...   \n",
       "\n",
       "                                              studyUid  \\\n",
       "0    1.2.840.113619.6.388.1017747398342806435283613...   \n",
       "1    1.2.840.113619.6.388.1017747398342806435283613...   \n",
       "2    1.2.840.113619.6.388.1017747398342806435283613...   \n",
       "3    1.2.840.113619.6.388.1067388807510514152787160...   \n",
       "4    1.2.840.113619.6.388.1081120408802499059158946...   \n",
       "..                                                 ...   \n",
       "355  1.2.840.113619.6.410.6640772753983381136153803...   \n",
       "356  1.2.840.113619.6.410.6718953729125917342083405...   \n",
       "357  1.2.840.113619.6.410.6718953729125917342083405...   \n",
       "358  1.2.840.113619.6.410.7201826919570282850193720...   \n",
       "359  1.2.840.113619.6.410.9279943800493553571918764...   \n",
       "\n",
       "                              tags  \\\n",
       "0                      Mass/Nodule   \n",
       "1                   Cerebral edema   \n",
       "2                    Midline shift   \n",
       "3                      Mass/Nodule   \n",
       "4                      Mass/Nodule   \n",
       "..                             ...   \n",
       "355                 Cerebral edema   \n",
       "356  [Mass/Nodule, Cyst component]   \n",
       "357     Arteriovenous malformation   \n",
       "358                    Mass/Nodule   \n",
       "359                    Mass/Nodule   \n",
       "\n",
       "                                                 point  \n",
       "0    [[-12.035799980164, -70.509002685547, -40.1687...  \n",
       "1    [[-46.030101776123, -54.770900726318, -36.5686...  \n",
       "2    [[-0.074838802218437, -44.698501586914, -18.56...  \n",
       "3    [[-1.3457000255585, -22.289400100708, -15.3137...  \n",
       "4    [[-4.5391001701355, 28.402599334717, 31.545000...  \n",
       "..                                                 ...  \n",
       "355  [[36.03870010376, -16.236099243164, -28.229900...  \n",
       "356  [[-12.221300125122, -33.957599639893, -44.1800...  \n",
       "357  [[-62.219200134277, -10.291899681091, -29.7800...  \n",
       "358  [[-11.559499740601, -5.1256899833679, -56.9049...  \n",
       "359  [[-22.561500549316, 18.221099853516, -40.00730...  \n",
       "\n",
       "[360 rows x 15 columns]"
      ],
      "text/html": "<div>\n<style scoped>\n    .dataframe tbody tr th:only-of-type {\n        vertical-align: middle;\n    }\n\n    .dataframe tbody tr th {\n        vertical-align: top;\n    }\n\n    .dataframe thead th {\n        text-align: right;\n    }\n</style>\n<table border=\"1\" class=\"dataframe\">\n  <thead>\n    <tr style=\"text-align: right;\">\n      <th></th>\n      <th>index</th>\n      <th>xml_name</th>\n      <th>patientPid</th>\n      <th>diagnosis</th>\n      <th>sessionId</th>\n      <th>type</th>\n      <th>annotation</th>\n      <th>scope</th>\n      <th>pointUnit</th>\n      <th>createTimestamp</th>\n      <th>imageUid</th>\n      <th>seriesUid</th>\n      <th>studyUid</th>\n      <th>tags</th>\n      <th>point</th>\n    </tr>\n  </thead>\n  <tbody>\n    <tr>\n      <th>0</th>\n      <td>0</td>\n      <td>1.2.840.113619.6.388.1017747398342806435283613...</td>\n      <td>YC21</td>\n      <td>[908910, 908912]</td>\n      <td>BSDIEP</td>\n      <td>local</td>\n      <td>20</td>\n      <td></td>\n      <td>mm</td>\n      <td>1610884981375</td>\n      <td></td>\n      <td>1.2.840.113619.2.388.57473.14165493.12654.1599...</td>\n      <td>1.2.840.113619.6.388.1017747398342806435283613...</td>\n      <td>Mass/Nodule</td>\n      <td>[[-12.035799980164, -70.509002685547, -40.1687...</td>\n    </tr>\n    <tr>\n      <th>1</th>\n      <td>1</td>\n      <td>1.2.840.113619.6.388.1017747398342806435283613...</td>\n      <td>YC21</td>\n      <td>[908910, 908912]</td>\n      <td>BSDIEP</td>\n      <td>local</td>\n      <td>20</td>\n      <td></td>\n      <td>mm</td>\n      <td>1610885017001</td>\n      <td></td>\n      <td>1.2.840.113619.2.388.57473.14165493.12654.1599...</td>\n      <td>1.2.840.113619.6.388.1017747398342806435283613...</td>\n      <td>Cerebral edema</td>\n      <td>[[-46.030101776123, -54.770900726318, -36.5686...</td>\n    </tr>\n    <tr>\n      <th>2</th>\n      <td>2</td>\n      <td>1.2.840.113619.6.388.1017747398342806435283613...</td>\n      <td>YC21</td>\n      <td>[908910, 908912]</td>\n      <td>BSDIEP</td>\n      <td>local</td>\n      <td>20</td>\n      <td></td>\n      <td>mm</td>\n      <td>1610885075681</td>\n      <td></td>\n      <td>1.2.840.113619.2.388.57473.14165493.12654.1599...</td>\n      <td>1.2.840.113619.6.388.1017747398342806435283613...</td>\n      <td>Midline shift</td>\n      <td>[[-0.074838802218437, -44.698501586914, -18.56...</td>\n    </tr>\n    <tr>\n      <th>3</th>\n      <td>4</td>\n      <td>1.2.840.113619.6.388.1067388807510514152787160...</td>\n      <td>23 BHK</td>\n      <td>[841808, 841810]</td>\n      <td>BSDIEP</td>\n      <td>local</td>\n      <td>20</td>\n      <td></td>\n      <td>mm</td>\n      <td>1607483610460</td>\n      <td></td>\n      <td>1.2.840.113619.2.388.57473.14165493.13177.1591...</td>\n      <td>1.2.840.113619.6.388.1067388807510514152787160...</td>\n      <td>Mass/Nodule</td>\n      <td>[[-1.3457000255585, -22.289400100708, -15.3137...</td>\n    </tr>\n    <tr>\n      <th>4</th>\n      <td>6</td>\n      <td>1.2.840.113619.6.388.1081120408802499059158946...</td>\n      <td>YC11</td>\n      <td>[914778, 914780]</td>\n      <td>BSDIEP</td>\n      <td>local</td>\n      <td>20</td>\n      <td></td>\n      <td>mm</td>\n      <td>1611611924351</td>\n      <td></td>\n      <td>1.2.840.113619.2.388.57473.14165493.12404.1597...</td>\n      <td>1.2.840.113619.6.388.1081120408802499059158946...</td>\n      <td>Mass/Nodule</td>\n      <td>[[-4.5391001701355, 28.402599334717, 31.545000...</td>\n    </tr>\n    <tr>\n      <th>...</th>\n      <td>...</td>\n      <td>...</td>\n      <td>...</td>\n      <td>...</td>\n      <td>...</td>\n      <td>...</td>\n      <td>...</td>\n      <td>...</td>\n      <td>...</td>\n      <td>...</td>\n      <td>...</td>\n      <td>...</td>\n      <td>...</td>\n      <td>...</td>\n      <td>...</td>\n    </tr>\n    <tr>\n      <th>355</th>\n      <td>503</td>\n      <td>1.2.840.113619.6.410.6640772753983381136153803...</td>\n      <td>BHQH CC</td>\n      <td>[911252, 911254]</td>\n      <td>BSDIEP</td>\n      <td>local</td>\n      <td>20</td>\n      <td></td>\n      <td>mm</td>\n      <td>1611243584664</td>\n      <td></td>\n      <td>1.2.840.113619.2.410.15512023.5814788.13178.16...</td>\n      <td>1.2.840.113619.6.410.6640772753983381136153803...</td>\n      <td>Cerebral edema</td>\n      <td>[[36.03870010376, -16.236099243164, -28.229900...</td>\n    </tr>\n    <tr>\n      <th>356</th>\n      <td>505</td>\n      <td>1.2.840.113619.6.410.6718953729125917342083405...</td>\n      <td>DV P57</td>\n      <td>[912482, 912484]</td>\n      <td>BSDIEP</td>\n      <td>local</td>\n      <td>20</td>\n      <td></td>\n      <td>mm</td>\n      <td>1611441490118</td>\n      <td></td>\n      <td>1.2.840.113619.2.410.15512023.5814788.13131.15...</td>\n      <td>1.2.840.113619.6.410.6718953729125917342083405...</td>\n      <td>[Mass/Nodule, Cyst component]</td>\n      <td>[[-12.221300125122, -33.957599639893, -44.1800...</td>\n    </tr>\n    <tr>\n      <th>357</th>\n      <td>506</td>\n      <td>1.2.840.113619.6.410.6718953729125917342083405...</td>\n      <td>DV P57</td>\n      <td>[912482, 912484]</td>\n      <td>BSDIEP</td>\n      <td>local</td>\n      <td>20</td>\n      <td></td>\n      <td>mm</td>\n      <td>1611441604628</td>\n      <td></td>\n      <td>1.2.840.113619.2.410.15512023.5814788.13131.15...</td>\n      <td>1.2.840.113619.6.410.6718953729125917342083405...</td>\n      <td>Arteriovenous malformation</td>\n      <td>[[-62.219200134277, -10.291899681091, -29.7800...</td>\n    </tr>\n    <tr>\n      <th>358</th>\n      <td>508</td>\n      <td>1.2.840.113619.6.410.7201826919570282850193720...</td>\n      <td>DV F23</td>\n      <td>[906048, 906050]</td>\n      <td>BSDIEP</td>\n      <td>local</td>\n      <td>20</td>\n      <td></td>\n      <td>mm</td>\n      <td>1610726793465</td>\n      <td></td>\n      <td>1.2.840.113619.2.410.15512023.5814788.13104.16...</td>\n      <td>1.2.840.113619.6.410.7201826919570282850193720...</td>\n      <td>Mass/Nodule</td>\n      <td>[[-11.559499740601, -5.1256899833679, -56.9049...</td>\n    </tr>\n    <tr>\n      <th>359</th>\n      <td>510</td>\n      <td>1.2.840.113619.6.410.9279943800493553571918764...</td>\n      <td>DV F57</td>\n      <td>[913340, 913342]</td>\n      <td>BSDIEP</td>\n      <td>local</td>\n      <td>20</td>\n      <td></td>\n      <td>mm</td>\n      <td>1611481704955</td>\n      <td></td>\n      <td>1.2.840.113619.2.410.15512023.5814788.28593.15...</td>\n      <td>1.2.840.113619.6.410.9279943800493553571918764...</td>\n      <td>Mass/Nodule</td>\n      <td>[[-22.561500549316, 18.221099853516, -40.00730...</td>\n    </tr>\n  </tbody>\n</table>\n<p>360 rows × 15 columns</p>\n</div>"
     },
     "metadata": {},
     "execution_count": 35
    }
   ],
   "source": [
    "df_local = dfame[dfame[\"type\"] == \"local\"]\n",
    "df_local = df_local.reset_index()\n",
    "df_local"
   ]
  },
  {
   "cell_type": "code",
   "execution_count": 36,
   "metadata": {},
   "outputs": [
    {
     "output_type": "stream",
     "name": "stdout",
     "text": [
      "index: 0\n*******************\nxml_name: 1.2.840.113619.6.388.101774739834280643528361334251926593124\n*******************\npatientPid: YC21\n*******************\ndiagnosis: ['908910', '908912']\n*******************\nsessionId: BSDIEP\n*******************\ntype: local\n*******************\nannotation: 20\n*******************\nscope: \n*******************\npointUnit: mm\n*******************\ncreateTimestamp: 1610884981375\n*******************\nimageUid: \n*******************\nseriesUid: 1.2.840.113619.2.388.57473.14165493.12654.1599525247.526\n*******************\nstudyUid: 1.2.840.113619.6.388.101774739834280643528361334251926593124\n*******************\ntags: Mass/Nodule\n*******************\npoint: [[-12.035799980164, -70.509002685547, -40.168701171875], [4.9613599777222, -70.509002685547, -40.168701171875], [4.9613599777222, -52.882301330566, -40.168701171875], [-12.035799980164, -52.882301330566, -40.168701171875], [-36.587299346924, -83.728996276855, -18.568700790405], [7.4794502258301, -83.728996276855, -18.568700790405], [7.4794502258301, -47.216598510742, -18.568700790405], [-36.587299346924, -47.216598510742, -18.568700790405], [-25.885299682617, -81.210899353027, -4.1686601638794], [-0.074838802218437, -81.210899353027, -4.1686601638794], [-0.074838802218437, -58.548000335693, -4.1686601638794], [-25.885299682617, -58.548000335693, -4.1686601638794]]\n*******************\n"
     ]
    }
   ],
   "source": [
    "keys = df_local.columns\n",
    "keys\n",
    "for key in keys:\n",
    "    print(f\"{key}: {df_local[key][0]}\")\n",
    "    print('*'*19)"
   ]
  },
  {
   "cell_type": "code",
   "execution_count": 38,
   "metadata": {
    "tags": []
   },
   "outputs": [
    {
     "output_type": "execute_result",
     "data": {
      "text/plain": [
       "                                              xml_name patientPid  \\\n",
       "0    1.2.840.113619.6.388.1017747398342806435283613...       YC21   \n",
       "1    1.2.840.113619.6.388.1017747398342806435283613...       YC21   \n",
       "2    1.2.840.113619.6.388.1017747398342806435283613...       YC21   \n",
       "3    1.2.840.113619.6.388.1017747398342806435283613...       YC21   \n",
       "4    1.2.840.113619.6.388.1067388807510514152787160...     23 BHK   \n",
       "..                                                 ...        ...   \n",
       "507  1.2.840.113619.6.410.6718953729125917342083405...     DV P57   \n",
       "508  1.2.840.113619.6.410.7201826919570282850193720...     DV F23   \n",
       "509  1.2.840.113619.6.410.7201826919570282850193720...     DV F23   \n",
       "510  1.2.840.113619.6.410.9279943800493553571918764...     DV F57   \n",
       "511  1.2.840.113619.6.410.9279943800493553571918764...     DV F57   \n",
       "\n",
       "            diagnosis sessionId    type annotation   scope pointUnit  \\\n",
       "0    [908910, 908912]    BSDIEP   local         20                mm   \n",
       "1    [908910, 908912]    BSDIEP   local         20                mm   \n",
       "2    [908910, 908912]    BSDIEP   local         20                mm   \n",
       "3    [908910, 908912]    BSDIEP  global         -1  series             \n",
       "4    [841808, 841810]    BSDIEP   local         20                mm   \n",
       "..                ...       ...     ...        ...     ...       ...   \n",
       "507  [912482, 912484]    BSDIEP  global         -1  series             \n",
       "508  [906048, 906050]    BSDIEP   local         20                mm   \n",
       "509  [906048, 906050]    BSDIEP  global         -1  series             \n",
       "510  [913340, 913342]    BSDIEP   local         20                mm   \n",
       "511  [913340, 913342]    BSDIEP  global         -1  series             \n",
       "\n",
       "    createTimestamp imageUid  \\\n",
       "0     1610884981375            \n",
       "1     1610885017001            \n",
       "2     1610885075681            \n",
       "3     1610885136683            \n",
       "4     1607483610460            \n",
       "..              ...      ...   \n",
       "507   1611441661993            \n",
       "508   1610726793465            \n",
       "509   1610726821329            \n",
       "510   1611481704955            \n",
       "511   1611481734402            \n",
       "\n",
       "                                             seriesUid  \\\n",
       "0    1.2.840.113619.2.388.57473.14165493.12654.1599...   \n",
       "1    1.2.840.113619.2.388.57473.14165493.12654.1599...   \n",
       "2    1.2.840.113619.2.388.57473.14165493.12654.1599...   \n",
       "3    1.2.840.113619.2.388.57473.14165493.12654.1599...   \n",
       "4    1.2.840.113619.2.388.57473.14165493.13177.1591...   \n",
       "..                                                 ...   \n",
       "507  1.2.840.113619.2.410.15512023.5814788.13131.15...   \n",
       "508  1.2.840.113619.2.410.15512023.5814788.13104.16...   \n",
       "509  1.2.840.113619.2.410.15512023.5814788.13104.16...   \n",
       "510  1.2.840.113619.2.410.15512023.5814788.28593.15...   \n",
       "511  1.2.840.113619.2.410.15512023.5814788.28593.15...   \n",
       "\n",
       "                                              studyUid  \\\n",
       "0    1.2.840.113619.6.388.1017747398342806435283613...   \n",
       "1    1.2.840.113619.6.388.1017747398342806435283613...   \n",
       "2    1.2.840.113619.6.388.1017747398342806435283613...   \n",
       "3    1.2.840.113619.6.388.1017747398342806435283613...   \n",
       "4    1.2.840.113619.6.388.1067388807510514152787160...   \n",
       "..                                                 ...   \n",
       "507  1.2.840.113619.6.410.6718953729125917342083405...   \n",
       "508  1.2.840.113619.6.410.7201826919570282850193720...   \n",
       "509  1.2.840.113619.6.410.7201826919570282850193720...   \n",
       "510  1.2.840.113619.6.410.9279943800493553571918764...   \n",
       "511  1.2.840.113619.6.410.9279943800493553571918764...   \n",
       "\n",
       "                                            tags  \\\n",
       "0                                    Mass/Nodule   \n",
       "1                                 Cerebral edema   \n",
       "2                                  Midline shift   \n",
       "3                                     Meningioma   \n",
       "4                                    Mass/Nodule   \n",
       "..                                           ...   \n",
       "507  [Cerebral tumor, Cerebral vascular disease]   \n",
       "508                                  Mass/Nodule   \n",
       "509                            Pituitary adenoma   \n",
       "510                                  Mass/Nodule   \n",
       "511                                   Meningioma   \n",
       "\n",
       "                                                 point  \n",
       "0    [[-12.035799980164, -70.509002685547, -40.1687...  \n",
       "1    [[-46.030101776123, -54.770900726318, -36.5686...  \n",
       "2    [[-0.074838802218437, -44.698501586914, -18.56...  \n",
       "3                                               [None]  \n",
       "4    [[-1.3457000255585, -22.289400100708, -15.3137...  \n",
       "..                                                 ...  \n",
       "507                                             [None]  \n",
       "508  [[-11.559499740601, -5.1256899833679, -56.9049...  \n",
       "509                                             [None]  \n",
       "510  [[-22.561500549316, 18.221099853516, -40.00730...  \n",
       "511                                             [None]  \n",
       "\n",
       "[512 rows x 14 columns]"
      ],
      "text/html": "<div>\n<style scoped>\n    .dataframe tbody tr th:only-of-type {\n        vertical-align: middle;\n    }\n\n    .dataframe tbody tr th {\n        vertical-align: top;\n    }\n\n    .dataframe thead th {\n        text-align: right;\n    }\n</style>\n<table border=\"1\" class=\"dataframe\">\n  <thead>\n    <tr style=\"text-align: right;\">\n      <th></th>\n      <th>xml_name</th>\n      <th>patientPid</th>\n      <th>diagnosis</th>\n      <th>sessionId</th>\n      <th>type</th>\n      <th>annotation</th>\n      <th>scope</th>\n      <th>pointUnit</th>\n      <th>createTimestamp</th>\n      <th>imageUid</th>\n      <th>seriesUid</th>\n      <th>studyUid</th>\n      <th>tags</th>\n      <th>point</th>\n    </tr>\n  </thead>\n  <tbody>\n    <tr>\n      <th>0</th>\n      <td>1.2.840.113619.6.388.1017747398342806435283613...</td>\n      <td>YC21</td>\n      <td>[908910, 908912]</td>\n      <td>BSDIEP</td>\n      <td>local</td>\n      <td>20</td>\n      <td></td>\n      <td>mm</td>\n      <td>1610884981375</td>\n      <td></td>\n      <td>1.2.840.113619.2.388.57473.14165493.12654.1599...</td>\n      <td>1.2.840.113619.6.388.1017747398342806435283613...</td>\n      <td>Mass/Nodule</td>\n      <td>[[-12.035799980164, -70.509002685547, -40.1687...</td>\n    </tr>\n    <tr>\n      <th>1</th>\n      <td>1.2.840.113619.6.388.1017747398342806435283613...</td>\n      <td>YC21</td>\n      <td>[908910, 908912]</td>\n      <td>BSDIEP</td>\n      <td>local</td>\n      <td>20</td>\n      <td></td>\n      <td>mm</td>\n      <td>1610885017001</td>\n      <td></td>\n      <td>1.2.840.113619.2.388.57473.14165493.12654.1599...</td>\n      <td>1.2.840.113619.6.388.1017747398342806435283613...</td>\n      <td>Cerebral edema</td>\n      <td>[[-46.030101776123, -54.770900726318, -36.5686...</td>\n    </tr>\n    <tr>\n      <th>2</th>\n      <td>1.2.840.113619.6.388.1017747398342806435283613...</td>\n      <td>YC21</td>\n      <td>[908910, 908912]</td>\n      <td>BSDIEP</td>\n      <td>local</td>\n      <td>20</td>\n      <td></td>\n      <td>mm</td>\n      <td>1610885075681</td>\n      <td></td>\n      <td>1.2.840.113619.2.388.57473.14165493.12654.1599...</td>\n      <td>1.2.840.113619.6.388.1017747398342806435283613...</td>\n      <td>Midline shift</td>\n      <td>[[-0.074838802218437, -44.698501586914, -18.56...</td>\n    </tr>\n    <tr>\n      <th>3</th>\n      <td>1.2.840.113619.6.388.1017747398342806435283613...</td>\n      <td>YC21</td>\n      <td>[908910, 908912]</td>\n      <td>BSDIEP</td>\n      <td>global</td>\n      <td>-1</td>\n      <td>series</td>\n      <td></td>\n      <td>1610885136683</td>\n      <td></td>\n      <td>1.2.840.113619.2.388.57473.14165493.12654.1599...</td>\n      <td>1.2.840.113619.6.388.1017747398342806435283613...</td>\n      <td>Meningioma</td>\n      <td>[None]</td>\n    </tr>\n    <tr>\n      <th>4</th>\n      <td>1.2.840.113619.6.388.1067388807510514152787160...</td>\n      <td>23 BHK</td>\n      <td>[841808, 841810]</td>\n      <td>BSDIEP</td>\n      <td>local</td>\n      <td>20</td>\n      <td></td>\n      <td>mm</td>\n      <td>1607483610460</td>\n      <td></td>\n      <td>1.2.840.113619.2.388.57473.14165493.13177.1591...</td>\n      <td>1.2.840.113619.6.388.1067388807510514152787160...</td>\n      <td>Mass/Nodule</td>\n      <td>[[-1.3457000255585, -22.289400100708, -15.3137...</td>\n    </tr>\n    <tr>\n      <th>...</th>\n      <td>...</td>\n      <td>...</td>\n      <td>...</td>\n      <td>...</td>\n      <td>...</td>\n      <td>...</td>\n      <td>...</td>\n      <td>...</td>\n      <td>...</td>\n      <td>...</td>\n      <td>...</td>\n      <td>...</td>\n      <td>...</td>\n      <td>...</td>\n    </tr>\n    <tr>\n      <th>507</th>\n      <td>1.2.840.113619.6.410.6718953729125917342083405...</td>\n      <td>DV P57</td>\n      <td>[912482, 912484]</td>\n      <td>BSDIEP</td>\n      <td>global</td>\n      <td>-1</td>\n      <td>series</td>\n      <td></td>\n      <td>1611441661993</td>\n      <td></td>\n      <td>1.2.840.113619.2.410.15512023.5814788.13131.15...</td>\n      <td>1.2.840.113619.6.410.6718953729125917342083405...</td>\n      <td>[Cerebral tumor, Cerebral vascular disease]</td>\n      <td>[None]</td>\n    </tr>\n    <tr>\n      <th>508</th>\n      <td>1.2.840.113619.6.410.7201826919570282850193720...</td>\n      <td>DV F23</td>\n      <td>[906048, 906050]</td>\n      <td>BSDIEP</td>\n      <td>local</td>\n      <td>20</td>\n      <td></td>\n      <td>mm</td>\n      <td>1610726793465</td>\n      <td></td>\n      <td>1.2.840.113619.2.410.15512023.5814788.13104.16...</td>\n      <td>1.2.840.113619.6.410.7201826919570282850193720...</td>\n      <td>Mass/Nodule</td>\n      <td>[[-11.559499740601, -5.1256899833679, -56.9049...</td>\n    </tr>\n    <tr>\n      <th>509</th>\n      <td>1.2.840.113619.6.410.7201826919570282850193720...</td>\n      <td>DV F23</td>\n      <td>[906048, 906050]</td>\n      <td>BSDIEP</td>\n      <td>global</td>\n      <td>-1</td>\n      <td>series</td>\n      <td></td>\n      <td>1610726821329</td>\n      <td></td>\n      <td>1.2.840.113619.2.410.15512023.5814788.13104.16...</td>\n      <td>1.2.840.113619.6.410.7201826919570282850193720...</td>\n      <td>Pituitary adenoma</td>\n      <td>[None]</td>\n    </tr>\n    <tr>\n      <th>510</th>\n      <td>1.2.840.113619.6.410.9279943800493553571918764...</td>\n      <td>DV F57</td>\n      <td>[913340, 913342]</td>\n      <td>BSDIEP</td>\n      <td>local</td>\n      <td>20</td>\n      <td></td>\n      <td>mm</td>\n      <td>1611481704955</td>\n      <td></td>\n      <td>1.2.840.113619.2.410.15512023.5814788.28593.15...</td>\n      <td>1.2.840.113619.6.410.9279943800493553571918764...</td>\n      <td>Mass/Nodule</td>\n      <td>[[-22.561500549316, 18.221099853516, -40.00730...</td>\n    </tr>\n    <tr>\n      <th>511</th>\n      <td>1.2.840.113619.6.410.9279943800493553571918764...</td>\n      <td>DV F57</td>\n      <td>[913340, 913342]</td>\n      <td>BSDIEP</td>\n      <td>global</td>\n      <td>-1</td>\n      <td>series</td>\n      <td></td>\n      <td>1611481734402</td>\n      <td></td>\n      <td>1.2.840.113619.2.410.15512023.5814788.28593.15...</td>\n      <td>1.2.840.113619.6.410.9279943800493553571918764...</td>\n      <td>Meningioma</td>\n      <td>[None]</td>\n    </tr>\n  </tbody>\n</table>\n<p>512 rows × 14 columns</p>\n</div>"
     },
     "metadata": {},
     "execution_count": 38
    }
   ],
   "source": [
    "dfame"
   ]
  },
  {
   "cell_type": "code",
   "execution_count": 42,
   "metadata": {},
   "outputs": [
    {
     "output_type": "stream",
     "name": "stdout",
     "text": [
      "Dicom 0: \n Dataset.file_meta -------------------------------\n(0002, 0000) File Meta Information Group Length  UL: 198\n(0002, 0001) File Meta Information Version       OB: b'\\x00\\x01'\n(0002, 0002) Media Storage SOP Class UID         UI: MR Image Storage\n(0002, 0003) Media Storage SOP Instance UID      UI: 1.2.840.113619.2.311.149759259314721767500053971461046076203\n(0002, 0010) Transfer Syntax UID                 UI: Implicit VR Little Endian\n(0002, 0012) Implementation Class UID            UI: 1.2.840.113747.20001115\n(0002, 0013) Implementation Version Name         SH: ''\n(0002, 0016) Source Application Entity Title     AE: 'VITREA1'\n-------------------------------------------------\n(0008, 0005) Specific Character Set              CS: 'ISO_IR 100'\n(0008, 0008) Image Type                          CS: ['DERIVED', 'PRIMARY', 'ADC', 'ADC']\n(0008, 0012) Instance Creation Date              DA: '19700101'\n(0008, 0013) Instance Creation Time              TM: '100000'\n(0008, 0016) SOP Class UID                       UI: MR Image Storage\n(0008, 0018) SOP Instance UID                    UI: 1.2.840.113619.2.311.149759259314721767500053971461046076203\n(0008, 0020) Study Date                          DA: '19700101'\n(0008, 0021) Series Date                         DA: '19700101'\n(0008, 0022) Acquisition Date                    DA: '19700101'\n(0008, 0023) Content Date                        DA: '19700101'\n(0008, 0030) Study Time                          TM: '100000'\n(0008, 0031) Series Time                         TM: '100000'\n(0008, 0032) Acquisition Time                    TM: '100000'\n(0008, 0033) Content Time                        TM: '100000'\n(0008, 0050) Accession Number                    SH: 'b3bc1857-f224-4c1d-a83d-6c2bafda54ff'\n(0008, 0060) Modality                            CS: 'MR'\n(0008, 0070) Manufacturer                        LO: 'ff79a60f-97fb-44e2-bc69-a3aa5e996dae'\n(0008, 0080) Institution Name                    LO: '1862b250-ff89-440a-993f-0523fdbd1c20'\n(0008, 0090) Referring Physician's Name          PN: 'd6f907ae-c252-4674-8986-1843449e6611'\n(0008, 1010) Station Name                        SH: '4f5069d4-4c5d-48b8-b200-8accd8266be9'\n(0008, 103e) Series Description                  LO: 'Apparent Diffusion Coefficient (mm2/s)'\n(0008, 1090) Manufacturer's Model Name           LO: '3cc370df-bd2c-433d-aaef-8ca9c1f442c6'\n(0008, 1140)  Referenced Image Sequence  1 item(s) ---- \n   (0008, 1150) Referenced SOP Class UID            UI: MR Image Storage\n   (0008, 1155) Referenced SOP Instance UID         UI: 1.2.840.113619.2.388.57473.14165493.11896.1599525312.130\n   (0040, a170)  Purpose of Reference Code Sequence  1 item(s) ---- \n      (0008, 0100) Code Value                          SH: '121338'\n      (0008, 0102) Coding Scheme Designator            SH: 'DCM'\n      (0008, 0104) Code Meaning                        LO: 'Anatomic image'\n      ---------\n   ---------\n(0009, 0010) Private Creator                     LO: 'GEMS_IDEN_01'\n(0009, 1002) [Suite id]                          UN: b'gehc'\n(0009, 1004) [Product id]                        UN: b'SIGNA '\n(0009, 1027) [Image actual date]                 UN: b'\\xd0\\x85X_'\n(0009, 1030) [Service id]                        UN: b'gehc'\n(0009, 1031) [Mobile location number]            UN: b'9999'\n(0009, 10e3) [Equipment UID]                     UN: Array of 38 elements\n(0009, 10e9) [Actual series data time stamp]     UN: b'\\xd0\\x85X_'\n(0010, 0010) Patient's Name                      PN: 'ac41c576-a28a-4da1-8f55-fd273d7a72bc'\n(0010, 0020) Patient ID                          LO: '1eca8e43-1ff4-41a0-9543-d90b67f82394'\n(0010, 0030) Patient's Birth Date                DA: '19700101'\n(0010, 0040) Patient's Sex                       CS: ''\n(0010, 1010) Patient's Age                       AS: '000Y'\n(0010, 1030) Patient's Weight                    DS: \"55.0\"\n(0010, 21b0) Additional Patient History          LT: ''\n(0018, 0020) Scanning Sequence                   CS: ['EP', 'SE']\n(0018, 0021) Sequence Variant                    CS: 'NONE'\n(0018, 0022) Scan Options                        CS: ['EPI_GEMS', 'FILTERED_GEMS', 'ACC_GEMS', 'PFF']\n(0018, 0023) MR Acquisition Type                 CS: '2D'\n(0018, 0050) Slice Thickness                     DS: \"5.0\"\n(0018, 0080) Repetition Time                     DS: \"4384.0\"\n(0018, 0081) Echo Time                           DS: \"101.9\"\n(0018, 0084) Imaging Frequency                   DS: \"63.871431\"\n(0018, 0086) Echo Number(s)                      IS: \"1\"\n(0018, 0087) Magnetic Field Strength             DS: \"1.5\"\n(0018, 0088) Spacing Between Slices              DS: \"6.0\"\n(0018, 0091) Echo Train Length                   IS: \"1\"\n(0018, 0095) Pixel Bandwidth                     DS: \"1953.12\"\n(0018, 1020) Software Versions                   LO: ['25', 'LX', 'MR Software release:SV25.0_R08_1822.b']\n(0018, 1030) Protocol Name                       LO: 'BRAIN - HHH'\n(0018, 1060) Trigger Time                        DS: None\n(0018, 1090) Cardiac Number of Images            IS: \"0\"\n(0018, 1100) Reconstruction Diameter             DS: \"260.0\"\n(0018, 1250) Receive Coil Name                   SH: 'NVarray'\n(0018, 1310) Acquisition Matrix                  US: [128, 0, 0, 128]\n(0018, 1312) In-plane Phase Encoding Direction   CS: 'COL'\n(0018, 1314) Flip Angle                          DS: \"90.0\"\n(0018, 5100) Patient Position                    CS: 'HFS'\n(0019, 0010) Private Creator                     LO: 'GEMS_ACQU_01'\n(0019, 1017) [Series plane]                      UN: b'\\x10\\x00'\n(0019, 101e) [Display field of view]             UN: b'260.000000'\n(0019, 105a) [Acquisition Duration]              UN: b'B\\x83\\x16L'\n(0019, 107e) [Number of echoes]                  UN: b'\\x01\\x00'\n(0019, 108f) [Swappf]                            UN: b'\\x01\\x00'\n(0019, 109c) [Pulse Sequence Name]               UN: b'epi2'\n(0019, 109f) [Transmitting Coil Type]            UN: b'\\x03\\x00'\n(0019, 10a4) [SAT fat/water/bone]                UN: b'\\x00\\x00'\n(0019, 10af) [User data 8]                       UN: b'0.000000'\n(0019, 10b0) [User data 9]                       UN: b'0.000000'\n(0019, 10b1) [User data 10]                      UN: b'0.000000'\n(0019, 10b2) [User data 11]                      UN: b'0.000000'\n(0019, 10b3) [User data 12]                      UN: b'0.000000'\n(0019, 10b4) [User data 13]                      UN: b'0.000000'\n(0019, 10bb) [User data 20]                      UN: b'0.000000'\n(0019, 10bc) [User data 21]                      UN: b'0.000000'\n(0019, 10bd) [User data 22]                      UN: b'0.000000'\n(0019, 10c0) [Saturation planes]                 UN: b'\\x00\\x00'\n(0019, 10cb) [Phase Contrast flow axis]          UN: b'\\x00\\x00'\n(0019, 10cc) [Velocity encoding]                 UN: b'\\x00\\x00'\n(0019, 10d5) [Fractional echo]                   UN: b'\\x03\\x00'\n(0019, 10d7) [Cardiac phase number]              UN: b'\\x00\\x00'\n(0019, 10d8) [Variable echoflag]                 UN: b'\\x00\\x00'\n(0019, 10d9) [Concatenated SAT {# DTI Diffusion  UN: b'0.000000'\n(0019, 10f2) [Fast phases]                       UN: b'\\x00\\x00'\n(0020, 000d) Study Instance UID                  UI: 1.2.840.113619.6.388.101774739834280643528361334251926593124\n(0020, 000e) Series Instance UID                 UI: 1.2.840.113619.2.5.1916222523715996118091599611809219000\n(0020, 0010) Study ID                            SH: '30697'\n(0020, 0011) Series Number                       IS: \"700\"\n(0020, 0013) Instance Number                     IS: \"7\"\n(0020, 0032) Image Position (Patient)            DS: [-129.124, -130.786, -22.8723]\n(0020, 0037) Image Orientation (Patient)         DS: [0.999995, 0.00266694, 0.0014183, -0.00258601, 0.998522, -0.0542916]\n(0020, 0052) Frame of Reference UID              UI: 1.2.840.113619.2.388.57473.14165493.12654.1599525247.518\n(0020, 0060) Laterality                          CS: ''\n(0020, 1002) Images in Acquisition               IS: \"40\"\n(0020, 1040) Position Reference Indicator        LO: ''\n(0020, 1041) Slice Location                      DS: \"-29.71903038\"\n(0021, 0010) Private Creator                     LO: 'GEMS_RELA_01'\n(0021, 1037) [Screen Format]                     UN: b'\\x10\\x00'\n(0021, 104f) [Locations in acquisition]          UN: b'\\x14\\x00'\n(0021, 105a) [Diffusion direction]               UN: b'\\x07\\x00\\x00\\x00'\n(0025, 0010) Private Creator                     LO: 'GEMS_SERS_01'\n(0025, 1007) [Images in Series]                  UN: b'(\\x00\\x00\\x00'\n(0025, 1019) [Last image number used]            UN: b'(\\x00\\x00\\x00'\n(0025, 101a) [Primary Receiver Suite and Host]   UN: b'gehcgehc'\n(0025, 101b) [Protocol Data Block (compressed)]  UN: Array of 904 elements\n(0027, 0010) Private Creator                     LO: 'GEMS_IMAG_01'\n(0027, 1032) [Pulse Sequence]                    UN: b'\\x00\\x00'\n(0027, 1033) [Imaging Options]                   UN: b'\\x00\\x00\\x00D'\n(0027, 1035) [Plane Type]                        UN: b'\\x10\\x00'\n(0027, 1040) [RAS letter of image location]      UN: b'I '\n(0027, 1041) [Image location]                    UN: b'\\x93\\xc0\\xed\\xc1'\n(0027, 1060) [Image dimension - X]               UN: b'\\x00\\x00\\x00C'\n(0027, 1061) [Image dimension - Y]               UN: b'\\x00\\x00\\x00C'\n(0027, 1062) [Number of Excitations]             UN: b'\\x00\\x00\\x00@'\n(0028, 0002) Samples per Pixel                   US: 1\n(0028, 0004) Photometric Interpretation          CS: 'MONOCHROME2'\n(0028, 0010) Rows                                US: 256\n(0028, 0011) Columns                             US: 256\n(0028, 0030) Pixel Spacing                       DS: [1.0156, 1.0156]\n(0028, 0100) Bits Allocated                      US: 16\n(0028, 0101) Bits Stored                         US: 16\n(0028, 0102) High Bit                            US: 15\n(0028, 0103) Pixel Representation                US: 1\n(0028, 0106) Smallest Image Pixel Value          SS: 205\n(0028, 0107) Largest Image Pixel Value           SS: 4953\n(0028, 1050) Window Center                       DS: \"1300.0\"\n(0028, 1051) Window Width                        DS: \"2400.0\"\n(0029, 0010) Private Creator                     LO: 'GEMS_IMPS_01'\n(0029, 1026) [Version of the hdr struct]         UN: b'\\x02\\x00'\n(0029, 1034) [Advantage comp. Overflow]          UN: b'\\x00@\\x00\\x00'\n(0029, 1035) [Advantage comp. Underflow]         UN: b'\\x00\\x00\\x00\\x00'\n(0040, 9096)  Real World Value Mapping Sequence  1 item(s) ---- \n   (0028, 3003) LUT Explanation                     LO: 'Rainbow LUT'\n   (0040, 08ea)  Measurement Units Code Sequence  1 item(s) ---- \n      (0008, 0100) Code Value                          SH: 'mm2/s'\n      (0008, 0102) Coding Scheme Designator            SH: 'UCUM'\n      (0008, 0103) Coding Scheme Version               SH: '1.4'\n      (0008, 0104) Code Meaning                        LO: 'mm2/s'\n      ---------\n   (0040, 9210) LUT Label                           SH: 'GE_RAINBOW'\n   (0040, 9211) Real World Value Last Value Mapped  SS: 4953\n   (0040, 9216) Real World Value First Value Mapped SS: 205\n   (0040, 9224) Real World Value Intercept          FD: 0.0\n   (0040, 9225) Real World Value Slope              FD: 1e-06\n   ---------\n(0043, 0010) Private Creator                     LO: 'GEMS_PARM_01'\n(0043, 1006) [Number of EPI shots]               UN: b'\\x01\\x00'\n(0043, 100a) [Type of receiver used]             UN: b'\\x01\\x00'\n(0043, 102f) [Image Type (real, imaginary, phase UN: b'\\x00\\x00'\n(0043, 1030) [Vas collapse flag]                 UN: b'\\x14\\x00'\n(0043, 1038) [User data 25...User data 48 {User4 UN: Array of 96 elements\n(0043, 1060) [Slop_int_10...slop_int_17]         UN: b'0\\\\0\\\\0\\\\0\\\\0\\\\0\\\\0\\\\0 '\n(0043, 1083) [Asset R Factors]                   UN: b'0.5\\\\1 '\n(0043, 1084) [Additional Asset Data]             UN: Array of 28 elements\n(0051, 0010) Private Creator                     LO: 'GEMS_FUNCTOOL_01'\n(0051, 1001) [Functional Proc Group Name]        UN: b'General '\n(0051, 1002) [Functional Processing Name]        UN: Array of 38 elements\n(0051, 1003) [Bias of Functional Image]          UN: b'\\x00\\x00\\x00\\x00'\n(0051, 1004) [Scale of Functional Image]         UN: b'\\xbd7\\x865'\n(0051, 1005) [Length of Parameters String]       UN: b'\\x1e\\x00\\x00\\x00'\n(0051, 1006) [Store Parameters string, delimited UN: Array of 30 elements\n(0051, 1007) [Functional Image Version]          UN: b'INLINE 1.0'\n(0051, 1008) [Store Color Ramp]                  UN: b'\\x00\\x00\\x00\\x00'\n(0051, 1009) [Store Width of Functional Image]   UN: b'`\\t\\x00\\x00'\n(0051, 100a) [Store level of Functional Image]   UN: b'\\x14\\x05\\x00\\x00'\n(0051, 100b) [Store B-Value with Functional Imag UN: b'\\x00\\x00zD'\n(0070, 0403) Relative Opacity                    FL: 0.5\n(7fe0, 0010) Pixel Data                          OW: Array of 131072 elements\n"
     ]
    }
   ],
   "source": [
    "dcm, img = dicom2array(dcm_paths[3])\n",
    "print(f\"Dicom 0: \\n\", dcm)"
   ]
  },
  {
   "cell_type": "code",
   "execution_count": 44,
   "metadata": {},
   "outputs": [
    {
     "output_type": "stream",
     "name": "stdout",
     "text": [
      "Series Number: 700\nSeries Description: Apparent Diffusion Coefficient (mm2/s)\nSlice Thickness: 5\nSpacing Between Slices: 6\nSice ThLocation: -29.71903038\nInstance Number: 7\nImage Position Patient: [-129.124, -130.786, -22.8723]\nSamples Per Pixel: 1\nRows: 256\nColumns: 256\n"
     ]
    }
   ],
   "source": [
    "print(f\"Series Number: {dcm.SeriesNumber}\")\n",
    "print(f\"Series Description: {dcm.SeriesDescription}\")\n",
    "print(f\"Slice Thickness: {dcm.SliceThickness}\")\n",
    "print(f\"Spacing Between Slices: {dcm.SpacingBetweenSlices}\")\n",
    "print(f\"Sice ThLocation: {dcm.SliceLocation}\")\n",
    "print(f\"Instance Number: {dcm.InstanceNumber}\")\n",
    "print(f\"Image Position Patient: {dcm.ImagePositionPatient}\")\n",
    "print(f\"Samples Per Pixel: {dcm.SamplesPerPixel}\")\n",
    "print(f\"Rows: {dcm.Rows}\")\n",
    "print(f\"Columns: {dcm.Columns}\")"
   ]
  },
  {
   "cell_type": "code",
   "execution_count": null,
   "metadata": {},
   "outputs": [],
   "source": [
    "print(f\"Study Instance UID: {dcm.StudyInstanceUID}\")\n",
    "print(f\"Series Instance UID: {dcm.SeriesInstanceUID}\")\n"
   ]
  },
  {
   "cell_type": "code",
   "execution_count": null,
   "metadata": {},
   "outputs": [],
   "source": []
  },
  {
   "cell_type": "code",
   "execution_count": null,
   "metadata": {},
   "outputs": [],
   "source": []
  },
  {
   "cell_type": "code",
   "execution_count": null,
   "metadata": {},
   "outputs": [],
   "source": []
  },
  {
   "cell_type": "code",
   "execution_count": null,
   "metadata": {},
   "outputs": [],
   "source": []
  },
  {
   "cell_type": "code",
   "execution_count": null,
   "metadata": {},
   "outputs": [],
   "source": []
  },
  {
   "cell_type": "code",
   "execution_count": null,
   "metadata": {},
   "outputs": [],
   "source": []
  },
  {
   "cell_type": "code",
   "execution_count": null,
   "metadata": {},
   "outputs": [],
   "source": []
  },
  {
   "cell_type": "code",
   "execution_count": null,
   "metadata": {},
   "outputs": [],
   "source": []
  },
  {
   "cell_type": "code",
   "execution_count": null,
   "metadata": {},
   "outputs": [],
   "source": []
  }
 ]
}