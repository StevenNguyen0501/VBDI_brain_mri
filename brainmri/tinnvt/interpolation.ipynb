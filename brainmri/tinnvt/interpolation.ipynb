{
 "metadata": {
  "language_info": {
   "codemirror_mode": {
    "name": "ipython",
    "version": 3
   },
   "file_extension": ".py",
   "mimetype": "text/x-python",
   "name": "python",
   "nbconvert_exporter": "python",
   "pygments_lexer": "ipython3",
   "version": "3.7.6"
  },
  "orig_nbformat": 2,
  "kernelspec": {
   "name": "python3",
   "display_name": "Python 3",
   "language": "python"
  }
 },
 "nbformat": 4,
 "nbformat_minor": 2,
 "cells": [
  {
   "cell_type": "code",
   "execution_count": 25,
   "metadata": {},
   "outputs": [],
   "source": [
    "import os\n",
    "import pickle\n",
    "import pydicom\n",
    "import pandas as pd\n",
    "import numpy as np\n",
    "import matplotlib.pyplot as plt\n",
    "import matplotlib.patches as patches\n",
    "from pydicom.pixel_data_handlers.util import apply_voi_lut"
   ]
  },
  {
   "cell_type": "code",
   "execution_count": 26,
   "metadata": {},
   "outputs": [],
   "source": [
    "lst_points = [[11, [[-33.32080078125, 13.382699966431, -20.75119972229],\n",
    "                [-16.425800323486, 13.382699966431, -20.75119972229],\n",
    "                [-16.425800323486, 33.547698974609, -20.75119972229],\n",
    "                [-33.32080078125, 33.547698974609, -20.75119972229]]],\n",
    "              [13, [[-33.32080078125, 13.382699966431, -6.3511900901794],\n",
    "                [-16.425800323486, 13.382699966431, -6.3511900901794],\n",
    "                [-16.425800323486, 33.547698974609, -6.3511900901794],\n",
    "                [-33.32080078125, 33.547698974609, -6.3511900901794]]],\n",
    "              [17, [[-40.405799865723, -32.397399902344, 15.24880027771],\n",
    "                [56.059299468994, -32.397399902344, 15.24880027771],\n",
    "                [56.059299468994, 65.15779876709, 15.24880027771],\n",
    "                [-40.405799865723, 65.15779876709, 15.24880027771]]]]\n"
   ]
  },
  {
   "cell_type": "code",
   "execution_count": 27,
   "metadata": {},
   "outputs": [],
   "source": [
    "pixel_spacing = 0.4492"
   ]
  },
  {
   "cell_type": "code",
   "execution_count": 28,
   "metadata": {},
   "outputs": [],
   "source": [
    "listImagePositionPatient = [[-107.387, -106.245, -85.5513],\n",
    "                            [-107.794, -106.074, -79.5675],\n",
    "                            [-108.2, -105.904, -73.5837],\n",
    "                            [-108.607, -105.733, -67.6],\n",
    "                            [-109.014, -105.562, -61.6162],\n",
    "                            [-109.421, -105.391, -55.6324],\n",
    "                            [-109.828, -105.22, -49.6487],\n",
    "                            [-110.234, -105.049, -43.6649],\n",
    "                            [-110.641, -104.879, -37.6811],\n",
    "                            [-111.048, -104.708, -31.6974],\n",
    "                            [-111.455, -104.537, -25.7136],\n",
    "                            [-111.862, -104.366, -19.7298],\n",
    "                            [-112.268, -104.195, -13.7461],\n",
    "                            [-112.675, -104.025, -7.76232],\n",
    "                            [-113.082, -103.854, -1.77855],\n",
    "                            [-113.489, -103.683, 4.20521],\n",
    "                            [-113.896, -103.512, 10.189],\n",
    "                            [-114.302, -103.341, 16.1727],\n",
    "                            [-114.709, -103.17, 22.1565],\n",
    "                            [-115.116, -103, 28.1403],\n",
    "                            [-115.523, -102.829, 34.124],\n",
    "                            [-115.93, -102.658, 40.1078],\n",
    "                            [-116.336, -102.487, 46.0916],\n",
    "                            [-116.743, -102.316, 52.0753],\n",
    "                            [-117.15, -102.146, 58.0591]]"
   ]
  },
  {
   "cell_type": "code",
   "execution_count": 29,
   "metadata": {},
   "outputs": [],
   "source": [
    "def find_point_in_slice(point3D1, point3D2, z_axis):\n",
    "    \"\"\"\n",
    "    Intersection point between plane and line in 3D-dimensions\n",
    "    Input: \n",
    "    Line in 3d-dimensions \n",
    "    - point3D1: [x1,y1,z1]\n",
    "    - point3D2: [x2,y2,z2]\n",
    "    Plane in 3D-dimensions \n",
    "    - z_axis: z = z0\n",
    "    Output:\n",
    "    Intersection points\n",
    "    \"\"\"\n",
    "    inter_x = (z_axis-point3D1[2])/(point3D2[2]-point3D1[2])*(point3D2[0]-point3D1[0]) + point3D1[0]\n",
    "    inter_y = (z_axis-point3D1[2])/(point3D2[2]-point3D1[2])*(point3D2[1]-point3D1[1]) + point3D1[1]\n",
    "    inter_point = [inter_x, inter_y, z_axis]\n",
    "    return inter_point\n"
   ]
  },
  {
   "cell_type": "code",
   "execution_count": 30,
   "metadata": {},
   "outputs": [],
   "source": [
    "def covert_coordinate(listPoints3D, pointRoot3D, pixelSpacing):\n",
    "    \"\"\"\n",
    "    Function convert real coordiantes points 3D into point 2D\n",
    "    Input:\n",
    "    @param: listPoints3D: List of list 4 points real world coordinates [[x0,y0,z0],[x1,y1,z1],[x2,y2,z2],[x3,y3,z3]]\n",
    "    @param: pointRoot3D: point 3D ImagePositionPatient [x,y,z]\n",
    "    @param: pixelSpacing\n",
    "    Output:\n",
    "    @param: plot_point: bounding boxes (x,y,w,h) for convenience to plot with function Rectangle and to object detection model later\n",
    "    \"\"\"\n",
    "    # delta = np.sqrt(2*((pixelSpacing/2)**2))\n",
    "    # pointRoot3D[0] = pointRoot3D[0] + delta\n",
    "    # pointRoot3D[1] = pointRoot3D[1] + delta\n",
    "\n",
    "    pt2D = []\n",
    "    for pt in listPoints3D:\n",
    "        new_pt = [(pt[0] - pointRoot3D[0])/pixelSpacing,\n",
    "                  (pt[1] - pointRoot3D[1])/pixelSpacing]\n",
    "        pt2D.append(new_pt)\n",
    "\n",
    "    x = [p[0] for p in pt2D]\n",
    "    y = [p[1] for p in pt2D]\n",
    "    bottomleftx = min(x)\n",
    "    bottomlefty = min(y)\n",
    "    height = max(y) - min(y)\n",
    "    width = max(x) - min(x)\n",
    "    bbox = [bottomleftx, bottomlefty, width, height]\n",
    "    return bbox"
   ]
  },
  {
   "cell_type": "code",
   "execution_count": 31,
   "metadata": {},
   "outputs": [],
   "source": [
    "def find_missing_slices(listPoints3D, listImagePositionPatient, pixel_spacing):\n",
    "    \"\"\"\n",
    "    Find missing slices between 3 given slices\n",
    "    Input: \n",
    "    - listPoints3D: List of index slices and 3D-points in these slices [[index1, [list4Points1]],[index2, [list4Points2]], [index3, [list4Points3]]]\n",
    "    - listImagePositionPatient:\n",
    "    - pixelSpacing: \n",
    "    Output:\n",
    "    - listSlices: List of list target index slices and 3D-points in these slices [[index1_, [list4Points1_]],[index2_, [list4Points2_]], [index3_, [list4Points3_]],...]\n",
    "    \"\"\"\n",
    "    # Slices Upper, Middle, Lower\n",
    "    list_index_slices_up_mid_low = [item[0] for item in listPoints3D]\n",
    "    listRootPointsUpMidLow = [listImagePositionPatient[idx] for idx in list_index_slices_up_mid_low]\n",
    "    points3D = [item[1] for item in listPoints3D]\n",
    "    upper4Points = points3D[0]\n",
    "    middle4Points = points3D[1]\n",
    "    lower4Points = points3D[2]\n",
    "\n",
    "    slicesUpMidLow = [[list_index_slices_up_mid_low[i], \n",
    "                    covert_coordinate(points3D[i], listRootPointsUpMidLow[i], pixel_spacing)] for i in range(len(list_index_slices_up_mid_low))]\n",
    "\n",
    "    index_upper_slice = list_index_slices_up_mid_low[0]\n",
    "    index_middle_slice = list_index_slices_up_mid_low[1]\n",
    "    index_lower_slice = list_index_slices_up_mid_low[2]\n",
    "\n",
    "    # Loop each plane Upper -> Middle \n",
    "    list_missing_slices = [] \n",
    "    for index1 in range(index_upper_slice+1, index_middle_slice, 1):\n",
    "        missing_slice_z_axis = listImagePositionPatient[index1][2]\n",
    "        # Loop each point in set 4-points\n",
    "        points_real_world_coordinates_in_slices = [find_point_in_slice(upper4Points[i], middle4Points[i], missing_slice_z_axis) for i in range(len(middle4Points))]\n",
    "        points_in_slices = covert_coordinate(\n",
    "                        listPoints3D=points_real_world_coordinates_in_slices,\n",
    "                        pointRoot3D=listImagePositionPatient[index1],\n",
    "                        pixelSpacing=pixel_spacing\n",
    "                        )\n",
    "        list_missing_slices.append([index1, points_in_slices])\n",
    "\n",
    "    # Loop each plane Middle -> Lower \n",
    "    for index2 in range(index_middle_slice+1, index_lower_slice, 1):\n",
    "        missing_slice_z_axis = listImagePositionPatient[index2][2]\n",
    "        # Loop each point in set 4-points\n",
    "        points_real_world_coordinates_in_slices = [find_point_in_slice(middle4Points[i], lower4Points[i], missing_slice_z_axis) for i in range(len(middle4Points))]\n",
    "        points_in_slices = covert_coordinate(\n",
    "                        listPoints3D=points_real_world_coordinates_in_slices,\n",
    "                        pointRoot3D=listImagePositionPatient[index2],\n",
    "                        pixelSpacing=pixel_spacing\n",
    "                        )\n",
    "        list_missing_slices.append([index2, points_in_slices])\n",
    "    # Append Upper, Middle, Lower slices\n",
    "    list_missing_slices.extend(slicesUpMidLow)\n",
    "    return list_missing_slices"
   ]
  },
  {
   "cell_type": "code",
   "execution_count": 32,
   "metadata": {},
   "outputs": [
    {
     "output_type": "execute_result",
     "data": {
      "text/plain": [
       "[[12,\n",
       "  [175.75066611475958,\n",
       "   261.74910945331925,\n",
       "   37.611310012831694,\n",
       "   44.89091497813445]],\n",
       " [14,\n",
       "  [174.2237988755269,\n",
       "   239.41499970452668,\n",
       "   75.11064899760476,\n",
       "   81.36292358634893]],\n",
       " [15,\n",
       "  [170.76046560125624,\n",
       "   210.8012859677697,\n",
       "   124.1823100551716,\n",
       "   129.09021939915525]],\n",
       " [16,\n",
       "  [167.29711042075022,\n",
       "   182.1874306827037,\n",
       "   173.25421713694934,\n",
       "   176.81775449610305]],\n",
       " [11,\n",
       "  [174.84683708537398,\n",
       "   262.12978621200136,\n",
       "   37.61131001283172,\n",
       "   44.89091497813445]],\n",
       " [13,\n",
       "  [176.65672132402048,\n",
       "   261.3706588745125,\n",
       "   37.611310012831694,\n",
       "   44.89091497813445]],\n",
       " [17,\n",
       "  [164.50623360257572,\n",
       "   157.9332148211398,\n",
       "   214.74866281103516,\n",
       "   217.17542001209705]]]"
      ]
     },
     "metadata": {},
     "execution_count": 32
    }
   ],
   "source": [
    "# Test functions\n",
    "target_plot_planes = find_missing_slices(lst_points, listImagePositionPatient, pixel_spacing)\n",
    "target_plot_planes"
   ]
  },
  {
   "cell_type": "code",
   "execution_count": null,
   "metadata": {},
   "outputs": [],
   "source": []
  },
  {
   "cell_type": "code",
   "execution_count": 33,
   "metadata": {},
   "outputs": [
    {
     "output_type": "execute_result",
     "data": {
      "text/plain": [
       "[[11,\n",
       "  [174.84683708537398,\n",
       "   262.12978621200136,\n",
       "   37.61131001283172,\n",
       "   44.89091497813445]],\n",
       " [13,\n",
       "  [176.65672132402048,\n",
       "   261.3706588745125,\n",
       "   37.611310012831694,\n",
       "   44.89091497813445]],\n",
       " [17,\n",
       "  [164.50623360257572,\n",
       "   157.9332148211398,\n",
       "   214.74866281103516,\n",
       "   217.17542001209705]]]"
      ]
     },
     "metadata": {},
     "execution_count": 33
    }
   ],
   "source": [
    "list_index_slices_up_mid_low = [item[0] for item in lst_points]\n",
    "\n",
    "listRootPoints = [listImagePositionPatient[idx] for idx in list_index_slices_up_mid_low]\n",
    "RootPointsUpper = listRootPoints[0]\n",
    "RootPointsMiddle = listRootPoints[1]\n",
    "RootPointsLower = listRootPoints[2]\n",
    "\n",
    "points = [item[1] for item in lst_points]\n",
    "upper4Points = points[0]\n",
    "middle4Points = points[1]\n",
    "lower4Points = points[2]\n",
    "\n",
    "slicesUpMidLow = [[list_index_slices_up_mid_low[i], \n",
    "                    covert_coordinate(points[i], listRootPoints[i], pixel_spacing)] for i in range(len(lst_points))]\n",
    "slicesUpMidLow"
   ]
  },
  {
   "cell_type": "code",
   "execution_count": 34,
   "metadata": {},
   "outputs": [
    {
     "output_type": "stream",
     "name": "stdout",
     "text": [
      "[[12, [175.75066611475958, 261.74910945331925, 37.611310012831694, 44.89091497813445]]]\n"
     ]
    }
   ],
   "source": [
    "index_upper_slice = list_index_slices_up_mid_low[0]\n",
    "index_middle_slice = list_index_slices_up_mid_low[1]\n",
    "index_lower_slice = list_index_slices_up_mid_low[2]\n",
    "\n",
    "# Loop each plane\n",
    "list_missing_slices = [] \n",
    "for index1 in range(index_upper_slice+1, index_middle_slice, 1):\n",
    "    # print(index1)\n",
    "    missing_slice_z_axis = listImagePositionPatient[index1][2]\n",
    "    # print(missing_slice_z_axis)\n",
    "    # Loop each point in set 4-points\n",
    "    points_real_world_coordinates_in_slices = [find_point_in_slice(upper4Points[i], middle4Points[i], missing_slice_z_axis) for i in range(len(middle4Points))]\n",
    "    points_in_slices = covert_coordinate(\n",
    "                    listPoints3D=points_real_world_coordinates_in_slices,\n",
    "                    pointRoot3D=listImagePositionPatient[index1],\n",
    "                    pixelSpacing=pixel_spacing\n",
    "                    )\n",
    "    list_missing_slices.append([index1, points_in_slices])\n",
    "\n",
    "print(list_missing_slices)\n"
   ]
  },
  {
   "cell_type": "code",
   "execution_count": 35,
   "metadata": {},
   "outputs": [
    {
     "output_type": "stream",
     "name": "stdout",
     "text": [
      "[[12, [175.75066611475958, 261.74910945331925, 37.611310012831694, 44.89091497813445]], [14, [174.2237988755269, 239.41499970452668, 75.11064899760476, 81.36292358634893]], [15, [170.76046560125624, 210.8012859677697, 124.1823100551716, 129.09021939915525]], [16, [167.29711042075022, 182.1874306827037, 173.25421713694934, 176.81775449610305]]]\n"
     ]
    }
   ],
   "source": [
    "for index2 in range(index_middle_slice+1, index_lower_slice, 1):\n",
    "    # print(index2)\n",
    "    missing_slice_z_axis = listImagePositionPatient[index2][2]\n",
    "    # print(missing_slice_z_axis)\n",
    "    # Loop each point in set 4-points\n",
    "    points_real_world_coordinates_in_slices = [find_point_in_slice(middle4Points[i], lower4Points[i], missing_slice_z_axis) for i in range(len(middle4Points))]\n",
    "    points_in_slices = covert_coordinate(\n",
    "                    listPoints3D=points_real_world_coordinates_in_slices,\n",
    "                    pointRoot3D=listImagePositionPatient[index2],\n",
    "                    pixelSpacing=pixel_spacing\n",
    "                    )\n",
    "    list_missing_slices.append([index2, points_in_slices])\n",
    "\n",
    "print(list_missing_slices)\n"
   ]
  },
  {
   "cell_type": "code",
   "execution_count": 36,
   "metadata": {},
   "outputs": [
    {
     "output_type": "execute_result",
     "data": {
      "text/plain": [
       "[[12,\n",
       "  [175.75066611475958,\n",
       "   261.74910945331925,\n",
       "   37.611310012831694,\n",
       "   44.89091497813445]],\n",
       " [14,\n",
       "  [174.2237988755269,\n",
       "   239.41499970452668,\n",
       "   75.11064899760476,\n",
       "   81.36292358634893]],\n",
       " [15,\n",
       "  [170.76046560125624,\n",
       "   210.8012859677697,\n",
       "   124.1823100551716,\n",
       "   129.09021939915525]],\n",
       " [16,\n",
       "  [167.29711042075022,\n",
       "   182.1874306827037,\n",
       "   173.25421713694934,\n",
       "   176.81775449610305]],\n",
       " [11,\n",
       "  [174.84683708537398,\n",
       "   262.12978621200136,\n",
       "   37.61131001283172,\n",
       "   44.89091497813445]],\n",
       " [13,\n",
       "  [176.65672132402048,\n",
       "   261.3706588745125,\n",
       "   37.611310012831694,\n",
       "   44.89091497813445]],\n",
       " [17,\n",
       "  [164.50623360257572,\n",
       "   157.9332148211398,\n",
       "   214.74866281103516,\n",
       "   217.17542001209705]]]"
      ]
     },
     "metadata": {},
     "execution_count": 36
    }
   ],
   "source": [
    "# Append 3 slices Upper, Middle, Lower \n",
    "list_missing_slices.extend(slicesUpMidLow)\n",
    "list_missing_slices"
   ]
  },
  {
   "cell_type": "code",
   "execution_count": null,
   "metadata": {},
   "outputs": [],
   "source": []
  },
  {
   "cell_type": "code",
   "execution_count": null,
   "metadata": {},
   "outputs": [],
   "source": []
  },
  {
   "cell_type": "code",
   "execution_count": null,
   "metadata": {},
   "outputs": [],
   "source": []
  },
  {
   "cell_type": "code",
   "execution_count": null,
   "metadata": {},
   "outputs": [],
   "source": []
  }
 ]
}