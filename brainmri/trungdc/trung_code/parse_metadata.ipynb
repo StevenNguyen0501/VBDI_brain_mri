{
 "metadata": {
  "language_info": {
   "codemirror_mode": {
    "name": "ipython",
    "version": 3
   },
   "file_extension": ".py",
   "mimetype": "text/x-python",
   "name": "python",
   "nbconvert_exporter": "python",
   "pygments_lexer": "ipython3",
   "version": "3.8.5"
  },
  "orig_nbformat": 2,
  "kernelspec": {
   "name": "python385jvsc74a57bd0d3eb3b95ed02a90563a547b6631db1c5e33b204e441169e1fdd91d0b8aad5aa1",
   "display_name": "Python 3.8.5 64-bit ('brainenv': conda)"
  }
 },
 "nbformat": 4,
 "nbformat_minor": 2,
 "cells": [
  {
   "cell_type": "code",
   "execution_count": 10,
   "metadata": {},
   "outputs": [],
   "source": [
    "import os\n",
    "import pickle\n",
    "import pydicom\n",
    "import pandas as pd\n",
    "root_folder_path  = \"/home/single3/Documents/tintrung/brainmri/trungdc/1.2.840.113619.6.408.217046082646534226129609417598798276891/DICOM\""
   ]
  },
  {
   "cell_type": "code",
   "execution_count": 2,
   "metadata": {},
   "outputs": [
    {
     "output_type": "stream",
     "name": "stdout",
     "text": [
      "Total images: 71852\n"
     ]
    }
   ],
   "source": [
    "file_paths = []\n",
    "for folder_name in os.listdir(root_folder_path):\n",
    "    folder_path = os.path.join(root_folder_path, folder_name)\n",
    "    for file_name in os.listdir(folder_path):\n",
    "        file_paths.append(os.path.join(folder_path, file_name))\n",
    "print(f\"Total images: {len(file_paths)}\")"
   ]
  },
  {
   "cell_type": "code",
   "execution_count": 5,
   "metadata": {},
   "outputs": [
    {
     "output_type": "execute_result",
     "data": {
      "text/plain": [
       "                                               StudyInstanceUID  \\\n",
       "0  1.2.840.113619.6.388.101774739834280643528361334251926593124   \n",
       "1  1.2.840.113619.6.388.101774739834280643528361334251926593124   \n",
       "2  1.2.840.113619.6.388.101774739834280643528361334251926593124   \n",
       "3  1.2.840.113619.6.388.101774739834280643528361334251926593124   \n",
       "4  1.2.840.113619.6.388.101774739834280643528361334251926593124   \n",
       "\n",
       "                                          SeriesInstanceUID  \\\n",
       "0  1.2.840.113619.2.5.1916222523715996118091599611809219000   \n",
       "1  1.2.840.113619.2.5.1916222523715996118091599611809219000   \n",
       "2  1.2.840.113619.2.5.1916222523715996118091599611809219000   \n",
       "3  1.2.840.113619.2.5.1916222523715996118091599611809219000   \n",
       "4  1.2.840.113619.2.5.1916222523715996118091599611809219000   \n",
       "\n",
       "                        SeriesDescription Rows Columns SliceThickness  \\\n",
       "0  Apparent Diffusion Coefficient (mm2/s)  256     256            5.0   \n",
       "1  Apparent Diffusion Coefficient (mm2/s)  256     256            5.0   \n",
       "2  Apparent Diffusion Coefficient (mm2/s)  256     256            5.0   \n",
       "3  Apparent Diffusion Coefficient (mm2/s)  256     256            5.0   \n",
       "4  Apparent Diffusion Coefficient (mm2/s)  256     256            5.0   \n",
       "\n",
       "       PixelSpacing SpacingBetweenSlices SliceLocation  \\\n",
       "0  [1.0156, 1.0156]                  6.0     12.219006   \n",
       "1  [1.0156, 1.0156]                  6.0    -53.683617   \n",
       "2  [1.0156, 1.0156]                  6.0      30.19245   \n",
       "3  [1.0156, 1.0156]                  6.0     -29.71903   \n",
       "4  [1.0156, 1.0156]                  6.0       0.23671   \n",
       "\n",
       "  SmallestImagePixelValue LargestImagePixelValue WindowCenter WindowWidth  \\\n",
       "0                     269                   5118       1300.0      2400.0   \n",
       "1                      48                   5624       1300.0      2400.0   \n",
       "2                     346                   4091       1300.0      2400.0   \n",
       "3                     205                   4953       1300.0      2400.0   \n",
       "4                     250                   5017       1300.0      2400.0   \n",
       "\n",
       "             ImagePositionPatient  \\\n",
       "0    [-129.19, -128.506, 19.0657]   \n",
       "1  [-129.086, -132.089, -46.8369]   \n",
       "2   [-129.218, -127.529, 37.0391]   \n",
       "3  [-129.124, -130.786, -22.8723]   \n",
       "4   [-129.171, -129.158, 7.08339]   \n",
       "\n",
       "                                                 ImageOrientationPatient  \\\n",
       "0   [0.999995, 0.00266694, 0.0014183, -0.00258601, 0.998522, -0.0542916]   \n",
       "1   [0.999995, 0.00266694, 0.0014183, -0.00258601, 0.998522, -0.0542916]   \n",
       "2   [0.999995, 0.00266694, 0.0014183, -0.00258601, 0.998522, -0.0542916]   \n",
       "3   [0.999995, 0.00266694, 0.0014183, -0.00258601, 0.998522, -0.0542916]   \n",
       "4  [0.999995, 0.00266694, 0.00141831, -0.00258601, 0.998522, -0.0542916]   \n",
       "\n",
       "  RepetitionTime EchoTime PatientPosition  \\\n",
       "0         4384.0    101.9             HFS   \n",
       "1         4384.0    101.9             HFS   \n",
       "2         4384.0    101.9             HFS   \n",
       "3         4384.0    101.9             HFS   \n",
       "4         4384.0    101.9             HFS   \n",
       "\n",
       "                                                        NameFileXML  \n",
       "0  1.2.840.113619.2.311.118469111826723530957815646435435346224.dcm  \n",
       "1  1.2.840.113619.2.311.125282295065266504184867863002451722448.dcm  \n",
       "2   1.2.840.113619.2.311.13734497280751956864742956698508702383.dcm  \n",
       "3  1.2.840.113619.2.311.149759259314721767500053971461046076203.dcm  \n",
       "4  1.2.840.113619.2.311.162064945887768070496287289213718815545.dcm  "
      ],
      "text/html": "<div>\n<style scoped>\n    .dataframe tbody tr th:only-of-type {\n        vertical-align: middle;\n    }\n\n    .dataframe tbody tr th {\n        vertical-align: top;\n    }\n\n    .dataframe thead th {\n        text-align: right;\n    }\n</style>\n<table border=\"1\" class=\"dataframe\">\n  <thead>\n    <tr style=\"text-align: right;\">\n      <th></th>\n      <th>StudyInstanceUID</th>\n      <th>SeriesInstanceUID</th>\n      <th>SeriesDescription</th>\n      <th>Rows</th>\n      <th>Columns</th>\n      <th>SliceThickness</th>\n      <th>PixelSpacing</th>\n      <th>SpacingBetweenSlices</th>\n      <th>SliceLocation</th>\n      <th>SmallestImagePixelValue</th>\n      <th>LargestImagePixelValue</th>\n      <th>WindowCenter</th>\n      <th>WindowWidth</th>\n      <th>ImagePositionPatient</th>\n      <th>ImageOrientationPatient</th>\n      <th>RepetitionTime</th>\n      <th>EchoTime</th>\n      <th>PatientPosition</th>\n      <th>NameFileXML</th>\n    </tr>\n  </thead>\n  <tbody>\n    <tr>\n      <th>0</th>\n      <td>1.2.840.113619.6.388.101774739834280643528361334251926593124</td>\n      <td>1.2.840.113619.2.5.1916222523715996118091599611809219000</td>\n      <td>Apparent Diffusion Coefficient (mm2/s)</td>\n      <td>256</td>\n      <td>256</td>\n      <td>5.0</td>\n      <td>[1.0156, 1.0156]</td>\n      <td>6.0</td>\n      <td>12.219006</td>\n      <td>269</td>\n      <td>5118</td>\n      <td>1300.0</td>\n      <td>2400.0</td>\n      <td>[-129.19, -128.506, 19.0657]</td>\n      <td>[0.999995, 0.00266694, 0.0014183, -0.00258601, 0.998522, -0.0542916]</td>\n      <td>4384.0</td>\n      <td>101.9</td>\n      <td>HFS</td>\n      <td>1.2.840.113619.2.311.118469111826723530957815646435435346224.dcm</td>\n    </tr>\n    <tr>\n      <th>1</th>\n      <td>1.2.840.113619.6.388.101774739834280643528361334251926593124</td>\n      <td>1.2.840.113619.2.5.1916222523715996118091599611809219000</td>\n      <td>Apparent Diffusion Coefficient (mm2/s)</td>\n      <td>256</td>\n      <td>256</td>\n      <td>5.0</td>\n      <td>[1.0156, 1.0156]</td>\n      <td>6.0</td>\n      <td>-53.683617</td>\n      <td>48</td>\n      <td>5624</td>\n      <td>1300.0</td>\n      <td>2400.0</td>\n      <td>[-129.086, -132.089, -46.8369]</td>\n      <td>[0.999995, 0.00266694, 0.0014183, -0.00258601, 0.998522, -0.0542916]</td>\n      <td>4384.0</td>\n      <td>101.9</td>\n      <td>HFS</td>\n      <td>1.2.840.113619.2.311.125282295065266504184867863002451722448.dcm</td>\n    </tr>\n    <tr>\n      <th>2</th>\n      <td>1.2.840.113619.6.388.101774739834280643528361334251926593124</td>\n      <td>1.2.840.113619.2.5.1916222523715996118091599611809219000</td>\n      <td>Apparent Diffusion Coefficient (mm2/s)</td>\n      <td>256</td>\n      <td>256</td>\n      <td>5.0</td>\n      <td>[1.0156, 1.0156]</td>\n      <td>6.0</td>\n      <td>30.19245</td>\n      <td>346</td>\n      <td>4091</td>\n      <td>1300.0</td>\n      <td>2400.0</td>\n      <td>[-129.218, -127.529, 37.0391]</td>\n      <td>[0.999995, 0.00266694, 0.0014183, -0.00258601, 0.998522, -0.0542916]</td>\n      <td>4384.0</td>\n      <td>101.9</td>\n      <td>HFS</td>\n      <td>1.2.840.113619.2.311.13734497280751956864742956698508702383.dcm</td>\n    </tr>\n    <tr>\n      <th>3</th>\n      <td>1.2.840.113619.6.388.101774739834280643528361334251926593124</td>\n      <td>1.2.840.113619.2.5.1916222523715996118091599611809219000</td>\n      <td>Apparent Diffusion Coefficient (mm2/s)</td>\n      <td>256</td>\n      <td>256</td>\n      <td>5.0</td>\n      <td>[1.0156, 1.0156]</td>\n      <td>6.0</td>\n      <td>-29.71903</td>\n      <td>205</td>\n      <td>4953</td>\n      <td>1300.0</td>\n      <td>2400.0</td>\n      <td>[-129.124, -130.786, -22.8723]</td>\n      <td>[0.999995, 0.00266694, 0.0014183, -0.00258601, 0.998522, -0.0542916]</td>\n      <td>4384.0</td>\n      <td>101.9</td>\n      <td>HFS</td>\n      <td>1.2.840.113619.2.311.149759259314721767500053971461046076203.dcm</td>\n    </tr>\n    <tr>\n      <th>4</th>\n      <td>1.2.840.113619.6.388.101774739834280643528361334251926593124</td>\n      <td>1.2.840.113619.2.5.1916222523715996118091599611809219000</td>\n      <td>Apparent Diffusion Coefficient (mm2/s)</td>\n      <td>256</td>\n      <td>256</td>\n      <td>5.0</td>\n      <td>[1.0156, 1.0156]</td>\n      <td>6.0</td>\n      <td>0.23671</td>\n      <td>250</td>\n      <td>5017</td>\n      <td>1300.0</td>\n      <td>2400.0</td>\n      <td>[-129.171, -129.158, 7.08339]</td>\n      <td>[0.999995, 0.00266694, 0.00141831, -0.00258601, 0.998522, -0.0542916]</td>\n      <td>4384.0</td>\n      <td>101.9</td>\n      <td>HFS</td>\n      <td>1.2.840.113619.2.311.162064945887768070496287289213718815545.dcm</td>\n    </tr>\n  </tbody>\n</table>\n</div>"
     },
     "metadata": {},
     "execution_count": 5
    }
   ],
   "source": [
    "df = pd.read_pickle(\"summary_dicom.pkl\")\n",
    "pd.set_option(\"display.max_colwidth\", None)\n",
    "df.head()"
   ]
  },
  {
   "cell_type": "code",
   "execution_count": 6,
   "metadata": {},
   "outputs": [],
   "source": [
    "import numpy as np\n",
    "import pydicom\n",
    "from pydicom.pixel_data_handlers.util import apply_voi_lut\n",
    "\n",
    "import matplotlib.pyplot as plt\n",
    "%matplotlib inline\n",
    "\n",
    "\n",
    "def read_xray(path, voi_lut = True, fix_monochrome = True):\n",
    "    dicom = pydicom.read_file(path)\n",
    "    \n",
    "    # VOI LUT (if available by DICOM device) is used to transform raw DICOM data to \"human-friendly\" view\n",
    "    if voi_lut:\n",
    "        data = apply_voi_lut(dicom.pixel_array, dicom)\n",
    "    else:\n",
    "        data = dicom.pixel_array\n",
    "               \n",
    "    # depending on this value, X-ray may look inverted - fix that:\n",
    "    if fix_monochrome and dicom.PhotometricInterpretation == \"MONOCHROME1\":\n",
    "        data = np.amax(data) - data\n",
    "        \n",
    "    data = data - np.min(data)\n",
    "    data = data / np.max(data)\n",
    "    data = (data * 255).astype(np.uint8)\n",
    "        \n",
    "    return data"
   ]
  },
  {
   "cell_type": "code",
   "execution_count": 14,
   "metadata": {},
   "outputs": [
    {
     "output_type": "execute_result",
     "data": {
      "text/plain": [
       "256"
      ]
     },
     "metadata": {},
     "execution_count": 14
    }
   ],
   "source": [
    "x= read_xray(file_paths[0])\n",
    "np.shape(x)[0]\n",
    "\n"
   ]
  },
  {
   "cell_type": "code",
   "execution_count": 22,
   "metadata": {
    "tags": []
   },
   "outputs": [
    {
     "output_type": "stream",
     "name": "stderr",
     "text": [
      "<ipython-input-6-36693932b096>:23: RuntimeWarning: invalid value encountered in true_divide\n  data = data / np.max(data)\n"
     ]
    }
   ],
   "source": [
    "height = []\n",
    "width = []\n",
    "for index, row in df.iterrows():\n",
    "    cur = 0\n",
    "    try:\n",
    "        path = os.path.join(root_folder_path, row[\"StudyInstanceUID\"])\n",
    "        path = os.path.join(path, row[\"NameFileXML\"])\n",
    "        x = np.shape(read_xray(path))\n",
    "        height.append(x[0])\n",
    "        width.append(x[1])\n",
    "    except:\n",
    "        cur += 1\n",
    "\n"
   ]
  },
  {
   "cell_type": "code",
   "execution_count": 23,
   "metadata": {},
   "outputs": [
    {
     "output_type": "stream",
     "name": "stdout",
     "text": [
      "0\n"
     ]
    }
   ],
   "source": [
    "print(cur)"
   ]
  },
  {
   "cell_type": "code",
   "execution_count": 25,
   "metadata": {},
   "outputs": [
    {
     "output_type": "stream",
     "name": "stdout",
     "text": [
      "71852\n71848\n"
     ]
    }
   ],
   "source": [
    "print(len(df))\n",
    "print(len(height))"
   ]
  },
  {
   "cell_type": "code",
   "execution_count": null,
   "metadata": {},
   "outputs": [],
   "source": []
  }
 ]
}